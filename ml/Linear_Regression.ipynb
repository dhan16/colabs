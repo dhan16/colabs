{
  "nbformat": 4,
  "nbformat_minor": 0,
  "metadata": {
    "colab": {
      "name": "Linear Regression.ipynb",
      "provenance": [],
      "collapsed_sections": [
        "4jK-fKQYKpDF",
        "mNDFctL4Mw52",
        "pxtPugaq2dqA",
        "mU7GRkOBMxGz",
        "V1M3sCmG5tvQ"
      ],
      "authorship_tag": "ABX9TyP7kHy/ljEsl11s13DxAJXf",
      "include_colab_link": true
    },
    "kernelspec": {
      "name": "python3",
      "display_name": "Python 3"
    },
    "language_info": {
      "name": "python"
    }
  },
  "cells": [
    {
      "cell_type": "markdown",
      "metadata": {
        "id": "view-in-github",
        "colab_type": "text"
      },
      "source": [
        "<a href=\"https://colab.research.google.com/github/dhan16/colabs/blob/master/ml/Linear_Regression.ipynb\" target=\"_parent\"><img src=\"https://colab.research.google.com/assets/colab-badge.svg\" alt=\"Open In Colab\"/></a>"
      ]
    },
    {
      "cell_type": "markdown",
      "source": [
        "# Linear Regression: Theory\n",
        "\n",
        "\n",
        "\n",
        "\n",
        "\n"
      ],
      "metadata": {
        "id": "Q4IRob5ORmtw"
      }
    },
    {
      "cell_type": "markdown",
      "source": [
        "Given data of n observations {**x<sub>i</sub>**, y<sub>i</sub>}<sub>i=1:n</sub> with y<sub>i</sub> a scalar response and **x<sub>i</sub>** a column vector of size p:\n",
        "* y<sub>i</sub> = β<sub>1</sub>x<sub>i1</sub> + ... + β<sub>p</sub>x<sub>ip</sub> + ε<sub>i</sub> = x<sub>i</sub><sup>T</sup>β + ε<sub>i</sub>\n",
        "\n",
        "* or, in vector form: y<sub>i</sub> = **x<sub>i</sub>**<sup>T</sup>**β** + ε<sub>i</sub>\n",
        "\n",
        "* or, stacking the n equations together in matrix notation: **y** = X**β** + **ε**\n",
        "\n",
        "### Ordinary Least Squares Solution\n",
        "Find the coefficients **β** which fit the equations \"best\", **$\\hat{β}$** = arg min S(**β**), where\n",
        "\n",
        "* S(**β**) = ||**y** - X**β**||<sup>2</sup>\n",
        "\n",
        "* The solution is: **$\\hat{β}$** = (X<sup>T</sup>X)<sup>-1</sup> X<sup>T</sup>**y**\n",
        "\n",
        "where (X<sup>T</sup>X)<sup>-1</sup> X<sup>T</sup> is  the Moore–Penrose pseudoinverse matrix of X\n",
        "\n",
        "### Reference\n",
        "* https://en.wikipedia.org/wiki/Ordinary_least_squares#Linear_model\n"
      ],
      "metadata": {
        "id": "51lMvLcRPNMc"
      }
    },
    {
      "cell_type": "markdown",
      "source": [
        "# Visualisation and data Functions"
      ],
      "metadata": {
        "id": "4jK-fKQYKpDF"
      }
    },
    {
      "cell_type": "code",
      "source": [
        "#@title plot2D\n",
        "import matplotlib.pyplot as plt\n",
        "\n",
        "def plot2D(x, y, beta):\n",
        "  plt.plot(x, y, 'o', label='data')\n",
        "  xx = np.linspace(min(x), max(x), 101)\n",
        "  yy = beta[0] + beta[1]*xx\n",
        "  plt.plot(xx, yy, label='least squares fit, $y = a + bx$')\n",
        "  plt.xlabel('x')\n",
        "  plt.ylabel('y')\n",
        "  plt.legend(framealpha=1, shadow=True)\n",
        "  plt.grid(alpha=0.25)\n",
        "  plt.show()"
      ],
      "metadata": {
        "id": "ElI14AV4lrWU"
      },
      "execution_count": 47,
      "outputs": []
    },
    {
      "cell_type": "code",
      "source": [
        "#@title randomLinearData()\n",
        "\n",
        "# https://colab.research.google.com/github/google/eng-edu/blob/main/ml/cc/exercises/validation_and_test_sets.ipynb?utm_source=mlcc&utm_campaign=colab-external&utm_medium=referral&utm_content=validation_tf2-colab&hl=en\n",
        "\n",
        "import numpy as np\n",
        "\n",
        "def randomLinearData(beta, n):\n",
        "  # seed random number generator\n",
        "  np.random.seed(100)\n",
        "  x = 1000 * np.random.rand(n)\n",
        "  e = 100 * np.random.rand(len(x))\n",
        "  y = beta[0] + x*beta[1] + e\n",
        "  return ([[e] for e in x], y)"
      ],
      "metadata": {
        "id": "Kq-utI6FnaRe"
      },
      "execution_count": 48,
      "outputs": []
    },
    {
      "cell_type": "markdown",
      "source": [
        "# Linear Regression: manual OLS\n",
        "* **$\\hat{β}$** = (X<sup>T</sup>X)<sup>-1</sup> X<sup>T</sup>**y**\n",
        "* **$\\hat{β}$** = X<sup>pseudo-inverse</sup> **y**\n"
      ],
      "metadata": {
        "id": "N1POWN05MwW5"
      }
    },
    {
      "cell_type": "code",
      "source": [
        "# https://docs.scipy.org/doc/scipy/reference/generated/scipy.linalg.lstsq.html#scipy.linalg.lstsq\n",
        "# https://cmdlinetips.com/2020/03/linear-regression-using-matrix-multiplication-in-python-using-numpy/\n",
        "\n",
        "import numpy as np\n",
        "\n",
        "(x, y) = randomLinearData([50, 3], 1000)\n",
        "Y = np.array(y)\n",
        "X_mat=np.vstack((np.ones(len(x)), np.array(x).T)).T\n",
        "# print(X_mat)\n",
        "\n",
        "beta_hat = np.linalg.inv(X_mat.T.dot(X_mat)).dot(X_mat.T).dot(Y)\n",
        "print(beta_hat)\n",
        "plot2D(x, y, beta_hat)\n",
        "\n",
        "beta_hat1 = np.linalg.pinv(X_mat).dot(Y)\n",
        "print(beta_hat1)\n",
        "plot2D(x, y, beta_hat1)"
      ],
      "metadata": {
        "colab": {
          "base_uri": "https://localhost:8080/",
          "height": 575
        },
        "id": "0UBsSpChprbU",
        "outputId": "75e95e7d-7f13-494a-c15d-d67e25fa66b4"
      },
      "execution_count": 52,
      "outputs": [
        {
          "output_type": "stream",
          "name": "stdout",
          "text": [
            "[98.15382327  2.99936074]\n"
          ]
        },
        {
          "output_type": "display_data",
          "data": {
            "text/plain": [
              "<Figure size 432x288 with 1 Axes>"
            ],
            "image/png": "[encoded data removed]"
          },
          "metadata": {
            "needs_background": "light"
          }
        },
        {
          "output_type": "stream",
          "name": "stdout",
          "text": [
            "[98.15382327  2.99936074]\n"
          ]
        },
        {
          "output_type": "display_data",
          "data": {
            "text/plain": [
              "<Figure size 432x288 with 1 Axes>"
            ],
            "image/png": "[encoded data removed]"
          },
          "metadata": {
            "needs_background": "light"
          }
        }
      ]
    },
    {
      "cell_type": "markdown",
      "source": [
        "# Linear Regression: scipy.linalg.lstsq\n"
      ],
      "metadata": {
        "id": "jd1zHSWhpgjx"
      }
    },
    {
      "cell_type": "code",
      "source": [
        "# https://docs.scipy.org/doc/scipy/reference/generated/scipy.linalg.lstsq.html#scipy.linalg.lstsq\n",
        "import numpy as np\n",
        "from scipy.linalg import lstsq\n",
        "\n",
        "(x, y) = randomLinearData([50, 3], 20)\n",
        "\n",
        "M=np.vstack((np.ones(len(x)), np.array(x).T)).T\n",
        "print(M)\n",
        "p, res, rnk, s = lstsq(M, y)\n",
        "\n",
        "print(p)\n",
        "plot2D(x, y, p)"
      ],
      "metadata": {
        "id": "ZyVq6_Gyi-Oz"
      },
      "execution_count": null,
      "outputs": []
    },
    {
      "cell_type": "markdown",
      "source": [
        "# Linear Regression: scikit-learn OLS"
      ],
      "metadata": {
        "id": "AGYnqoW4qxcA"
      }
    },
    {
      "cell_type": "markdown",
      "source": [
        "* https://datatofish.com/multiple-linear-regression-python/\n",
        "* https://www.analyticsvidhya.com/blog/2021/05/multiple-linear-regression-using-python-and-scikit-learn/\n"
      ],
      "metadata": {
        "id": "vP1S43aZOwDN"
      }
    },
    {
      "cell_type": "markdown",
      "source": [
        "# Linear Regression: Gradient descent with manual gradient\n",
        "\n"
      ],
      "metadata": {
        "id": "mNDFctL4Mw52"
      }
    },
    {
      "cell_type": "markdown",
      "source": [
        "https://towardsdatascience.com/calculating-gradient-descent-manually-6d9bee09aa0b\n",
        "\n",
        "https://www.geeksforgeeks.org/ml-mini-batch-gradient-descent-with-python/\n",
        "\n",
        "https://towardsdatascience.com/linear-regression-using-gradient-descent-97a6c8700931\n",
        "\n"
      ],
      "metadata": {
        "id": "XYiWE3zpPD8D"
      }
    },
    {
      "cell_type": "markdown",
      "source": [
        "# Linear Regression; Gradient descent with manual automatic differentiation\n"
      ],
      "metadata": {
        "id": "pxtPugaq2dqA"
      }
    },
    {
      "cell_type": "markdown",
      "source": [
        "* https://mdrk.io/introduction-to-automatic-differentiation/\n"
      ],
      "metadata": {
        "id": "633cpyvn21mF"
      }
    },
    {
      "cell_type": "markdown",
      "source": [
        "## Linear Regression: TensorFlow\n"
      ],
      "metadata": {
        "id": "mU7GRkOBMxGz"
      }
    },
    {
      "cell_type": "markdown",
      "source": [
        "References\n",
        "\n",
        "* https://colab.research.google.com/github/google/eng-edu/blob/main/ml/cc/exercises/validation_and_test_sets.ipynb?utm_source=mlcc&utm_campaign=colab-external&utm_medium=referral&utm_content=validation_tf2-colab&hl=en#scrollTo=FBhNIdUatOU6\n",
        "\n",
        "* https://colab.research.google.com/github/kaustubholpadkar/Predicting-House-Price-using-Multivariate-Linear-Regression/blob/master/Multivariate_Linear_Regression_Python.ipynb\n",
        "\n",
        "* https://www.coursera.org/projects/regression-automatic-differentiation-tensorflow\n",
        "\n"
      ],
      "metadata": {
        "id": "RD7wkqxjTWOi"
      }
    },
    {
      "cell_type": "code",
      "execution_count": null,
      "metadata": {
        "id": "BiywV4hNLpHc"
      },
      "outputs": [],
      "source": [
        "#@title Run on TensorFlow 2.x\n",
        "%tensorflow_version 2.x"
      ]
    },
    {
      "cell_type": "code",
      "source": [
        "#@title Import modules\n",
        "import numpy as np\n",
        "import pandas as pd\n",
        "import tensorflow as tf\n",
        "from matplotlib import pyplot as plt\n",
        "\n",
        "pd.options.display.max_rows = 10\n",
        "pd.options.display.float_format = \"{:.1f}\".format"
      ],
      "metadata": {
        "id": "QIwZH0faTdic"
      },
      "execution_count": null,
      "outputs": []
    },
    {
      "cell_type": "markdown",
      "source": [
        "# ML"
      ],
      "metadata": {
        "id": "V1M3sCmG5tvQ"
      }
    },
    {
      "cell_type": "markdown",
      "source": [
        "## Feature Engineering\n",
        "\n",
        "* Load data\n",
        "* Shuffle\n",
        "* Split into training, validation and test. \n",
        "* Scale label column to meaningful values\n",
        "\n",
        "Features\n",
        "* Bucketize, cross \n",
        "* Scale features - min max or z scale\n",
        "\n",
        "\n",
        "References\n",
        "\n",
        "* https://colab.research.google.com/github/google/eng-edu/blob/main/ml/cc/exercises/representation_with_a_feature_cross.ipynb?utm_source=mlcc&utm_campaign=colab-external&utm_medium=referral&utm_content=representation_tf2-colab&hl=en\n"
      ],
      "metadata": {
        "id": "O-CT6ZDe5zLz"
      }
    },
    {
      "cell_type": "markdown",
      "source": [
        "## Define and Train Models\n",
        "* create model\n",
        "* train model\n",
        "* plot loss curves\n"
      ],
      "metadata": {
        "id": "Mup-lMKY59zw"
      }
    }
  ]
}