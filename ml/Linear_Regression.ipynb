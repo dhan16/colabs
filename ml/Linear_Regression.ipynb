{
  "nbformat": 4,
  "nbformat_minor": 0,
  "metadata": {
    "colab": {
      "name": "Linear Regression.ipynb",
      "provenance": [],
      "collapsed_sections": [
        "Q4IRob5ORmtw",
        "N1POWN05MwW5",
        "mNDFctL4Mw52"
      ],
      "authorship_tag": "ABX9TyMhl3cUtRgy/2d8WTMP++dE",
      "include_colab_link": true
    },
    "kernelspec": {
      "name": "python3",
      "display_name": "Python 3"
    },
    "language_info": {
      "name": "python"
    }
  },
  "cells": [
    {
      "cell_type": "markdown",
      "metadata": {
        "id": "view-in-github",
        "colab_type": "text"
      },
      "source": [
        "<a href=\"https://colab.research.google.com/github/dhan16/colabs/blob/master/ml/Linear_Regression.ipynb\" target=\"_parent\"><img src=\"https://colab.research.google.com/assets/colab-badge.svg\" alt=\"Open In Colab\"/></a>"
      ]
    },
    {
      "cell_type": "markdown",
      "source": [
        "# Linear Regression\n",
        "\n",
        "Solve linear regression in different ways to show the similarlity and difference between analytical and machine learning approaches.\n",
        "\n",
        "\n",
        "\n",
        "\n"
      ],
      "metadata": {
        "id": "IDbPTSLlLq2b"
      }
    },
    {
      "cell_type": "markdown",
      "source": [
        "## Linear Regression Formulation\n",
        "\n",
        "\n",
        "\n",
        "\n"
      ],
      "metadata": {
        "id": "Q4IRob5ORmtw"
      }
    },
    {
      "cell_type": "markdown",
      "source": [
        "Given a dataset of n units, dependent variable y and p-vector of regressors x:\n",
        "* y<sub>i</sub> = β<sub>0</sub> + β<sub>1</sub>x<sub>1</sub> + ... + β<sub>p</sub>x<sub>p</sub> + ε<sub>i</sub> = x<sub>i</sub><sup>T</sup>β + ε<sub>i</sub>\n",
        "\n",
        "Often these n equations are stacked together in matrix notation:\n",
        "* 𝐲 = Xβ + ε\n",
        "\n",
        "where\n",
        "* y = (y<sub>1</sub> y<sub>2</sub> ... y<sub>n</sub>)<sup>T</sup>\n",
        "* X = \\begin{bmatrix} 1 & x11 & ... & x1p \\\\ 1 & x21 & ... & x2p \\\\ 1 & xn1 & ... & xnp \\end{bmatrix}\n",
        "* β is a (p+1) dimensional parameter vector, where β<sub>0</sub> is the intercept term = (β<sub>0</sub> β<sub>1</sub> ... β<sub>p</sub>)<sup>T</sup>\n",
        "* ε = (ε<sub>1</sub> ε<sub>2</sub> ... ε<sub>n</sub>) <sup>T</sup>\n",
        "\n",
        "https://en.wikipedia.org/wiki/Linear_regression#Formulation"
      ],
      "metadata": {
        "id": "51lMvLcRPNMc"
      }
    },
    {
      "cell_type": "markdown",
      "source": [
        ""
      ],
      "metadata": {
        "id": "1JUJQbCWRlbg"
      }
    },
    {
      "cell_type": "markdown",
      "source": [
        "## Solution"
      ],
      "metadata": {
        "id": "NOt1XBvVSBed"
      }
    },
    {
      "cell_type": "markdown",
      "source": [
        "### Load Data"
      ],
      "metadata": {
        "id": "4jK-fKQYKpDF"
      }
    },
    {
      "cell_type": "markdown",
      "source": [
        "* https://colab.research.google.com/github/google/eng-edu/blob/main/ml/cc/exercises/validation_and_test_sets.ipynb?utm_source=mlcc&utm_campaign=colab-external&utm_medium=referral&utm_content=validation_tf2-colab&hl=en"
      ],
      "metadata": {
        "id": "p-QPZeCDK70t"
      }
    },
    {
      "cell_type": "markdown",
      "source": [
        "### Linear Regression: Ordinary Least Square\n"
      ],
      "metadata": {
        "id": "N1POWN05MwW5"
      }
    },
    {
      "cell_type": "markdown",
      "source": [
        "\n",
        "\n",
        "* https://mdrk.io/introduction-to-machine-learning-using-linear-regression/\n",
        "\n",
        "Discard?\n",
        "* https://towardsdatascience.com/linear-regression-simplified-ordinary-least-square-vs-gradient-descent-48145de2cf76\n",
        "\n"
      ],
      "metadata": {
        "id": "PW9gnOBFPAkI"
      }
    },
    {
      "cell_type": "markdown",
      "source": [
        "### Linear Regression: Gradient descent with analytical (manual) gradient\n",
        "\n"
      ],
      "metadata": {
        "id": "mNDFctL4Mw52"
      }
    },
    {
      "cell_type": "markdown",
      "source": [
        "https://towardsdatascience.com/calculating-gradient-descent-manually-6d9bee09aa0b\n",
        "\n",
        "https://www.geeksforgeeks.org/ml-mini-batch-gradient-descent-with-python/\n",
        "\n",
        "https://towardsdatascience.com/linear-regression-using-gradient-descent-97a6c8700931\n",
        "\n"
      ],
      "metadata": {
        "id": "XYiWE3zpPD8D"
      }
    },
    {
      "cell_type": "markdown",
      "source": [
        "### Linear Regression; Gradient descent with own automatic differentiation\n"
      ],
      "metadata": {
        "id": "pxtPugaq2dqA"
      }
    },
    {
      "cell_type": "markdown",
      "source": [
        "* https://mdrk.io/introduction-to-automatic-differentiation/\n",
        "\n",
        "* \n"
      ],
      "metadata": {
        "id": "633cpyvn21mF"
      }
    },
    {
      "cell_type": "markdown",
      "source": [
        "### Linear Regression: scikit-learn\n"
      ],
      "metadata": {
        "id": "OgJr-IrlOrdO"
      }
    },
    {
      "cell_type": "markdown",
      "source": [
        "* https://datatofish.com/multiple-linear-regression-python/\n",
        "* https://www.analyticsvidhya.com/blog/2021/05/multiple-linear-regression-using-python-and-scikit-learn/\n"
      ],
      "metadata": {
        "id": "vP1S43aZOwDN"
      }
    },
    {
      "cell_type": "markdown",
      "source": [
        "### Linear Regression: TensorFlow\n"
      ],
      "metadata": {
        "id": "mU7GRkOBMxGz"
      }
    },
    {
      "cell_type": "markdown",
      "source": [
        "References\n",
        "\n",
        "* https://colab.research.google.com/github/google/eng-edu/blob/main/ml/cc/exercises/validation_and_test_sets.ipynb?utm_source=mlcc&utm_campaign=colab-external&utm_medium=referral&utm_content=validation_tf2-colab&hl=en#scrollTo=FBhNIdUatOU6\n",
        "\n",
        "* https://colab.research.google.com/github/kaustubholpadkar/Predicting-House-Price-using-Multivariate-Linear-Regression/blob/master/Multivariate_Linear_Regression_Python.ipynb\n",
        "\n",
        "* https://www.coursera.org/projects/regression-automatic-differentiation-tensorflow\n",
        "\n"
      ],
      "metadata": {
        "id": "RD7wkqxjTWOi"
      }
    },
    {
      "cell_type": "code",
      "execution_count": 1,
      "metadata": {
        "id": "BiywV4hNLpHc",
        "colab": {
          "base_uri": "https://localhost:8080/"
        },
        "outputId": "bdf302db-3378-4600-c9c0-ab84465a4ade"
      },
      "outputs": [
        {
          "output_type": "stream",
          "name": "stdout",
          "text": [
            "Colab only includes TensorFlow 2.x; %tensorflow_version has no effect.\n"
          ]
        }
      ],
      "source": [
        "#@title Run on TensorFlow 2.x\n",
        "%tensorflow_version 2.x"
      ]
    },
    {
      "cell_type": "code",
      "source": [
        "#@title Import modules\n",
        "import numpy as np\n",
        "import pandas as pd\n",
        "import tensorflow as tf\n",
        "from matplotlib import pyplot as plt\n",
        "\n",
        "pd.options.display.max_rows = 10\n",
        "pd.options.display.float_format = \"{:.1f}\".format"
      ],
      "metadata": {
        "id": "QIwZH0faTdic"
      },
      "execution_count": 2,
      "outputs": []
    },
    {
      "cell_type": "markdown",
      "source": [
        "# Next: Neural network with TensorFlow"
      ],
      "metadata": {
        "id": "bsfRdbe54y3E"
      }
    },
    {
      "cell_type": "markdown",
      "source": [
        "# ML"
      ],
      "metadata": {
        "id": "V1M3sCmG5tvQ"
      }
    },
    {
      "cell_type": "markdown",
      "source": [
        "## Feature Engineering\n",
        "\n",
        "* Load data\n",
        "* Shuffle\n",
        "* Split into training, validation and test. \n",
        "* Scale label column to meaningful values\n",
        "\n",
        "Features\n",
        "* Bucketize, cross \n",
        "* Scale features - min max or z scale\n",
        "\n",
        "\n",
        "References\n",
        "\n",
        "* https://colab.research.google.com/github/google/eng-edu/blob/main/ml/cc/exercises/representation_with_a_feature_cross.ipynb?utm_source=mlcc&utm_campaign=colab-external&utm_medium=referral&utm_content=representation_tf2-colab&hl=en\n"
      ],
      "metadata": {
        "id": "O-CT6ZDe5zLz"
      }
    },
    {
      "cell_type": "markdown",
      "source": [
        "## Define and Train Models\n",
        "* create model\n",
        "* train model\n",
        "* plot loss curves\n"
      ],
      "metadata": {
        "id": "Mup-lMKY59zw"
      }
    }
  ]
}