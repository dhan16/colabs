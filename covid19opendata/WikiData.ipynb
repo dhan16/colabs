{
  "nbformat": 4,
  "nbformat_minor": 0,
  "metadata": {
    "colab": {
      "name": "WikiData.ipynb",
      "provenance": [],
      "collapsed_sections": [],
      "include_colab_link": true
    },
    "kernelspec": {
      "name": "python3",
      "display_name": "Python 3"
    }
  },
  "cells": [
    {
      "cell_type": "markdown",
      "metadata": {
        "id": "view-in-github",
        "colab_type": "text"
      },
      "source": [
        "<a href=\"https://colab.research.google.com/github/dhan16/colabs/blob/master/covid19opendata/WikiData.ipynb\" target=\"_parent\"><img src=\"https://colab.research.google.com/assets/colab-badge.svg\" alt=\"Open In Colab\"/></a>"
      ]
    },
    {
      "cell_type": "markdown",
      "metadata": {
        "id": "N91-n9tcKs8W"
      },
      "source": [
        "## Setup"
      ]
    },
    {
      "cell_type": "code",
      "metadata": {
        "id": "UsXCiAFtToqX"
      },
      "source": [
        "\n",
        "import requests\n",
        "import pandas as pd\n",
        "\n",
        "ENDPOINT = \"https://query.wikidata.org/sparql\"\n",
        "\n",
        "def wikidata_to_dataframe(json):\n",
        "  results = json[\"results\"][\"bindings\"]\n",
        "  rows = []\n",
        "  for result in results:\n",
        "      values = [ result[val][\"value\"] for val in result ]\n",
        "      rows.append(values)\n",
        "  return pd.DataFrame(rows, columns=[val for val in results[0]])\n",
        "\n",
        "def wiki_data(sparql):\n",
        "  res = requests.get(ENDPOINT, params = {'format': 'json', 'query': sparql})\n",
        "  return wikidata_to_dataframe(res.json())"
      ],
      "execution_count": null,
      "outputs": []
    },
    {
      "cell_type": "code",
      "metadata": {
        "id": "KMSZr6GRMl0r"
      },
      "source": [
        "!pip install --upgrade gspread"
      ],
      "execution_count": null,
      "outputs": []
    },
    {
      "cell_type": "markdown",
      "metadata": {
        "id": "tDCkMFzpKu2G"
      },
      "source": [
        "## Indonesia"
      ]
    },
    {
      "cell_type": "markdown",
      "metadata": {
        "id": "UOPcOxJeL5Tj"
      },
      "source": [
        "### Wikidata"
      ]
    },
    {
      "cell_type": "code",
      "metadata": {
        "id": "peZ8W9AXTsgS",
        "colab": {
          "base_uri": "https://localhost:8080/",
          "height": 419
        },
        "outputId": "0a626a6c-ab59-44eb-cb16-f82b354959d6"
      },
      "source": [
        "# indonesia level2 areas\n",
        "# city=Q3199141,Q4272761 \n",
        "# regency = Q3191695, Q11127777\n",
        "sparql = \"\"\"\n",
        "SELECT ?place ?subregion1Label ?placeLabel ?class ?classLabel\n",
        "WHERE\n",
        "{\n",
        "  ?place wdt:P31 wd:Q3199141. # P31=instance of, P279=subclass of\n",
        "  ?place wdt:P131 ?subregion1. # P131=located in the administrative territorial entity\n",
        "  SERVICE wikibase:label {\n",
        "    bd:serviceParam wikibase:language \"en\" .\n",
        "  }\n",
        "}\n",
        "\"\"\"\n",
        "wiki_cities = wiki_data(sparql)\n",
        "\n",
        "sparql = \"\"\"\n",
        "SELECT ?place ?subregion1Label ?placeLabel ?class ?classLabel\n",
        "WHERE\n",
        "{\n",
        "  ?place wdt:P31 wd:Q4272761. # P31=instance of, P279=subclass of\n",
        "  ?place wdt:P131 ?subregion1. # P131=located in the administrative territorial entity\n",
        "  SERVICE wikibase:label {\n",
        "    bd:serviceParam wikibase:language \"en\" .\n",
        "  }\n",
        "}\n",
        "\"\"\"\n",
        "wiki_cities1 = wiki_data(sparql)\n",
        "\n",
        "sparql = \"\"\"\n",
        "SELECT ?place ?subregion1Label ?placeLabel ?class ?classLabel\n",
        "WHERE\n",
        "{\n",
        "  ?place wdt:P31 wd:Q3191695. # P31=instance of, P279=subclass of\n",
        "  ?place wdt:P131 ?subregion1. # P131=located in the administrative territorial entity\n",
        "  SERVICE wikibase:label {\n",
        "    bd:serviceParam wikibase:language \"en\" .\n",
        "  }\n",
        "}\n",
        "\"\"\"\n",
        "wiki_regencies = wiki_data(sparql)\n",
        "sparql = \"\"\"\n",
        "SELECT ?place ?subregion1Label ?placeLabel ?class ?classLabel\n",
        "WHERE\n",
        "{\n",
        "  ?place wdt:P31 wd:Q11127777. # P31=instance of, P279=subclass of\n",
        "  ?place wdt:P131 ?subregion1. # P131=located in the administrative territorial entity\n",
        "  SERVICE wikibase:label {\n",
        "    bd:serviceParam wikibase:language \"en\" .\n",
        "  }\n",
        "}\n",
        "\"\"\"\n",
        "wiki_regencies1 = wiki_data(sparql)\n",
        "\n",
        "wiki_cities = pd.concat([wiki_cities, wiki_cities1])\n",
        "wiki_regencies = pd.concat([wiki_regencies, wiki_regencies1])\n",
        "wiki_cities\n",
        "# d = wiki_cities[wiki_cities.placeLabel]\n",
        "# d\n",
        "# wiki_regencies\n",
        "\n"
      ],
      "execution_count": 140,
      "outputs": [
        {
          "output_type": "execute_result",
          "data": {
            "text/html": [
              "<div>\n",
              "<style scoped>\n",
              "    .dataframe tbody tr th:only-of-type {\n",
              "        vertical-align: middle;\n",
              "    }\n",
              "\n",
              "    .dataframe tbody tr th {\n",
              "        vertical-align: top;\n",
              "    }\n",
              "\n",
              "    .dataframe thead th {\n",
              "        text-align: right;\n",
              "    }\n",
              "</style>\n",
              "<table border=\"1\" class=\"dataframe\">\n",
              "  <thead>\n",
              "    <tr style=\"text-align: right;\">\n",
              "      <th></th>\n",
              "      <th>place</th>\n",
              "      <th>subregion1Label</th>\n",
              "      <th>placeLabel</th>\n",
              "    </tr>\n",
              "  </thead>\n",
              "  <tbody>\n",
              "    <tr>\n",
              "      <th>0</th>\n",
              "      <td>http://www.wikidata.org/entity/Q18975</td>\n",
              "      <td>Maluku</td>\n",
              "      <td>Tual</td>\n",
              "    </tr>\n",
              "    <tr>\n",
              "      <th>1</th>\n",
              "      <td>http://www.wikidata.org/entity/Q19151</td>\n",
              "      <td>North Maluku</td>\n",
              "      <td>Ternate</td>\n",
              "    </tr>\n",
              "    <tr>\n",
              "      <th>2</th>\n",
              "      <td>http://www.wikidata.org/entity/Q19153</td>\n",
              "      <td>North Maluku</td>\n",
              "      <td>Tidore</td>\n",
              "    </tr>\n",
              "    <tr>\n",
              "      <th>3</th>\n",
              "      <td>http://www.wikidata.org/entity/Q26837</td>\n",
              "      <td>West Papua</td>\n",
              "      <td>Sorong</td>\n",
              "    </tr>\n",
              "    <tr>\n",
              "      <th>4</th>\n",
              "      <td>http://www.wikidata.org/entity/Q27860</td>\n",
              "      <td>Papua</td>\n",
              "      <td>Jayapura</td>\n",
              "    </tr>\n",
              "    <tr>\n",
              "      <th>...</th>\n",
              "      <td>...</td>\n",
              "      <td>...</td>\n",
              "      <td>...</td>\n",
              "    </tr>\n",
              "    <tr>\n",
              "      <th>0</th>\n",
              "      <td>http://www.wikidata.org/entity/Q10109</td>\n",
              "      <td>Jakarta</td>\n",
              "      <td>Central Jakarta</td>\n",
              "    </tr>\n",
              "    <tr>\n",
              "      <th>1</th>\n",
              "      <td>http://www.wikidata.org/entity/Q10111</td>\n",
              "      <td>Jakarta</td>\n",
              "      <td>East Jakarta</td>\n",
              "    </tr>\n",
              "    <tr>\n",
              "      <th>2</th>\n",
              "      <td>http://www.wikidata.org/entity/Q10113</td>\n",
              "      <td>Jakarta</td>\n",
              "      <td>North Jakarta</td>\n",
              "    </tr>\n",
              "    <tr>\n",
              "      <th>3</th>\n",
              "      <td>http://www.wikidata.org/entity/Q10114</td>\n",
              "      <td>Jakarta</td>\n",
              "      <td>South Jakarta</td>\n",
              "    </tr>\n",
              "    <tr>\n",
              "      <th>4</th>\n",
              "      <td>http://www.wikidata.org/entity/Q10116</td>\n",
              "      <td>Jakarta</td>\n",
              "      <td>West Jakarta</td>\n",
              "    </tr>\n",
              "  </tbody>\n",
              "</table>\n",
              "<p>110 rows × 3 columns</p>\n",
              "</div>"
            ],
            "text/plain": [
              "                                    place subregion1Label       placeLabel\n",
              "0   http://www.wikidata.org/entity/Q18975          Maluku             Tual\n",
              "1   http://www.wikidata.org/entity/Q19151    North Maluku          Ternate\n",
              "2   http://www.wikidata.org/entity/Q19153    North Maluku           Tidore\n",
              "3   http://www.wikidata.org/entity/Q26837      West Papua           Sorong\n",
              "4   http://www.wikidata.org/entity/Q27860           Papua         Jayapura\n",
              "..                                    ...             ...              ...\n",
              "0   http://www.wikidata.org/entity/Q10109         Jakarta  Central Jakarta\n",
              "1   http://www.wikidata.org/entity/Q10111         Jakarta     East Jakarta\n",
              "2   http://www.wikidata.org/entity/Q10113         Jakarta    North Jakarta\n",
              "3   http://www.wikidata.org/entity/Q10114         Jakarta    South Jakarta\n",
              "4   http://www.wikidata.org/entity/Q10116         Jakarta     West Jakarta\n",
              "\n",
              "[110 rows x 3 columns]"
            ]
          },
          "metadata": {
            "tags": []
          },
          "execution_count": 140
        }
      ]
    },
    {
      "cell_type": "markdown",
      "metadata": {
        "id": "LpdH3HPwL7ys"
      },
      "source": [
        "### OpenCovid"
      ]
    },
    {
      "cell_type": "code",
      "metadata": {
        "id": "N0eaeRRzZits"
      },
      "source": [
        "meta = pd.read_csv('https://raw.githubusercontent.com/GoogleCloudPlatform/covid-19-open-data/main/src/data/metadata.csv')\n",
        "meta = provs.query('(country_code == \"ID\")')\n",
        "meta\n",
        "\n"
      ],
      "execution_count": null,
      "outputs": []
    },
    {
      "cell_type": "markdown",
      "metadata": {
        "id": "FFlIhVuxhoSw"
      },
      "source": [
        "### Translations"
      ]
    },
    {
      "cell_type": "code",
      "metadata": {
        "id": "kA0n3hB_sJod",
        "colab": {
          "base_uri": "https://localhost:8080/"
        },
        "outputId": "24b9b3b5-a7a8-4ca4-88e5-547b7ecf8a7c"
      },
      "source": [
        "def indonesian_direction_to_english(place: str):\n",
        "  to_english = {\n",
        "      'Pusat': 'Central',\n",
        "      'Tengah' : 'Central',\n",
        "      'Utara' : 'North',\n",
        "      'Selatan' : 'South',\n",
        "      'Timur' : 'East',\n",
        "      'Barat' : 'West',\n",
        "  }\n",
        "  bits = place.split()\n",
        "  if len(bits) > 1:\n",
        "    for indo_dir, eng_dir in to_english.items():\n",
        "      # in indonesian the dir is at the end \n",
        "      if bits[-1] == indo_dir:\n",
        "        bits.pop()\n",
        "        bits.insert(0, eng_dir)\n",
        "        break\n",
        "  place = ' '.join(bits)\n",
        "  return place\n",
        "\n",
        "def indonesian_to_english(place: str):\n",
        "  to_english = {\n",
        "      'Kepulauan' : 'Islands',\n",
        "      'Pulau' : 'Island',\n",
        "  }\n",
        "  bits = place.split()\n",
        "  bits = [to_english.get(b, b) for b in bits]\n",
        "  place = ' '.join(bits)\n",
        "  return place\n",
        "\n",
        "[\n",
        "  indonesian_direction_to_english('whatever Tengah'),\n",
        "  indonesian_to_english('Kepulauan Tengah')\n",
        "]"
      ],
      "execution_count": 82,
      "outputs": [
        {
          "output_type": "execute_result",
          "data": {
            "text/plain": [
              "['Central whatever', 'Islands Tengah']"
            ]
          },
          "metadata": {
            "tags": []
          },
          "execution_count": 82
        }
      ]
    },
    {
      "cell_type": "code",
      "metadata": {
        "id": "wuGOXheJonAl",
        "colab": {
          "base_uri": "https://localhost:8080/"
        },
        "outputId": "1ab8b084-3fbc-4877-abd9-267b985e273c"
      },
      "source": [
        "spellings = {\n",
        "    # 'Pangkajene Kepulauan' : 'Pangkajene Islands', # https://translate.google.com/?sl=id&tl=en&text=Pangkajene%20Kepulauan&op=translate\n",
        "    # cities\n",
        "    'Bau-Bau' : 'Baubau',\n",
        "    'Sungaipenuh' : 'Sungai Penuh',\n",
        "    'Palangka Raya' : 'Palangkaraya',\n",
        "    'Tidore Kepulauan' : 'Tidore', # https://www.wikidata.org/wiki/Q19153\n",
        "    'Lubuk Linggau' : 'Lubuklinggau', # https://www.wikidata.org/wiki/Q8129\n",
        "    'Pematang Siantar': 'Pematangsiantar', # https://www.wikidata.org/wiki/Q5979\n",
        "    'Tanjung Balai' : 'Tanjungbalai', # https://www.wikidata.org/wiki/Q5987\n",
        "    # regencies\n",
        "    'Kupang' : 'Kupang Regency', # https://www.wikidata.org/wiki/Q14141\n",
        "    'Toba Samosir' : 'Toba Regency', # https://www.wikidata.org/wiki/Q5911\n",
        "    'Tojo Una-Una' : 'Tojo Una Una',\n",
        "    'Toli-Toli': 'Tolitoli',\n",
        "    'Muko Muko': 'Mukomuko', # https://www.wikidata.org/wiki/Q8033\n",
        "    'Kepulauan Seribu' : 'Thousand Islands', # https://translate.google.com/?sl=id&tl=en&text=Kepulauan%20Seribu&op=translate\n",
        "    'Penajam Paser Utara' : 'Penajam North Paser',\n",
        "    'Pasangkayu (Mamuju Utara)': 'Pasangkayu', # https://en.wikipedia.org/wiki/Pasangkayu_Regency\n",
        "    'Labuhanbatu' : 'Labuhan Batu', # https://www.wikidata.org/wiki/Q5814\n",
        "    'Batu Bara': 'Batubara', # https://www.wikidata.org/wiki/Q5797\n",
        "    'Limapuluh Kota': 'Lima Puluh Kota', # https://www.wikidata.org/wiki/Q6032\n",
        "    'Batang Hari': 'Batanghari', # https://www.wikidata.org/wiki/Q7370\n",
        "\n",
        "     # verify below\n",
        "    # 'Kepulauan Sangihe' : 'Sangihe',\n",
        "    # 'Kepulauan Sitaro' : 'Kepulauan Siau Tagulandang Biaro',\n",
        "}\n",
        "def translate_sheet_place_to_wikidata(place: str) -> str:\n",
        "  place = spellings.get(place, place)\n",
        "  place = indonesian_direction_to_english(place)\n",
        "  place = indonesian_to_english(place)\n",
        "  return place\n",
        "\n",
        "[\n",
        " translate_sheet_place_to_wikidata('Kepulauan Tengah'),\n",
        " translate_sheet_place_to_wikidata('Kepulauan Tenga'),\n",
        " translate_sheet_place_to_wikidata('Bau-Bau'),\n",
        "] \n",
        " "
      ],
      "execution_count": 147,
      "outputs": [
        {
          "output_type": "execute_result",
          "data": {
            "text/plain": [
              "['Central Islands', 'Islands Tenga', 'Baubau']"
            ]
          },
          "metadata": {
            "tags": []
          },
          "execution_count": 147
        }
      ]
    },
    {
      "cell_type": "markdown",
      "metadata": {
        "id": "bKafJnbWhj4N"
      },
      "source": [
        "### Sheet"
      ]
    },
    {
      "cell_type": "code",
      "metadata": {
        "id": "5FfHayj5wQFf"
      },
      "source": [
        "from google.colab import auth\n",
        "auth.authenticate_user()\n",
        "import gspread\n",
        "from oauth2client.client import GoogleCredentials\n",
        "gc = gspread.authorize(GoogleCredentials.get_application_default())\n",
        "\n",
        "sheet_url = 'https://docs.google.com/spreadsheets/d/1FJJXiGuOb5nXrjJeV3QcHNhTo38YdcsTIFl29mWDIqI/edit#gid=2006070746'\n",
        "worksheet = gc.open_by_url(sheet_url).worksheet('Kode Kota')\n",
        "rows = worksheet.get_all_values()\n",
        "\n",
        "# Convert to a DataFrame and render.\n",
        "import pandas as pd\n",
        "sheet_df = pd.DataFrame.from_records(rows[2:], columns=rows[1])\n",
        "\n",
        "sheet_df['Kota_translated'] = sheet_df.apply(lambda r: translate_sheet_place_to_wikidata(r.Kota), axis=1)\n",
        "\n",
        "# 'Kab.' : 'Regency', \n",
        "# 'Kota': 'City', \n",
        "sheet_cities = sheet_df[sheet_df.KabKota == 'Kota']\n",
        "sheet_regencies = sheet_df[sheet_df.KabKota == 'Kab.']\n",
        "# sheet_cities\n",
        "# sheet_regencies"
      ],
      "execution_count": 148,
      "outputs": []
    },
    {
      "cell_type": "code",
      "metadata": {
        "id": "e3093cpm0nRU",
        "colab": {
          "base_uri": "https://localhost:8080/",
          "height": 49
        },
        "outputId": "16bb18e8-7ee7-473f-aa42-0d43c62700e7"
      },
      "source": [
        "# Match rows in sheet with rows in wiki\n",
        "cities = sheet_cities.merge(wiki_cities, how='left', left_on=['Kota'], right_on=['placeLabel']) \n",
        "cities = cities.merge(wiki_cities, how='left', left_on=['Kota_translated'], right_on=['placeLabel'], suffixes = [ None, '_y']) \n",
        "missing = cities[cities['placeLabel'].isnull() & cities['placeLabel_y'].isnull()]\n",
        "missing"
      ],
      "execution_count": 149,
      "outputs": [
        {
          "output_type": "execute_result",
          "data": {
            "text/html": [
              "<div>\n",
              "<style scoped>\n",
              "    .dataframe tbody tr th:only-of-type {\n",
              "        vertical-align: middle;\n",
              "    }\n",
              "\n",
              "    .dataframe tbody tr th {\n",
              "        vertical-align: top;\n",
              "    }\n",
              "\n",
              "    .dataframe thead th {\n",
              "        text-align: right;\n",
              "    }\n",
              "</style>\n",
              "<table border=\"1\" class=\"dataframe\">\n",
              "  <thead>\n",
              "    <tr style=\"text-align: right;\">\n",
              "      <th></th>\n",
              "      <th>ID Provinsi</th>\n",
              "      <th>Provinsi</th>\n",
              "      <th>ID Kota</th>\n",
              "      <th>KabKota</th>\n",
              "      <th>Kota</th>\n",
              "      <th>Kota_translated</th>\n",
              "      <th>place</th>\n",
              "      <th>subregion1Label</th>\n",
              "      <th>placeLabel</th>\n",
              "      <th>place_y</th>\n",
              "      <th>subregion1Label_y</th>\n",
              "      <th>placeLabel_y</th>\n",
              "    </tr>\n",
              "  </thead>\n",
              "  <tbody>\n",
              "  </tbody>\n",
              "</table>\n",
              "</div>"
            ],
            "text/plain": [
              "Empty DataFrame\n",
              "Columns: [ID Provinsi, Provinsi, ID Kota, KabKota, Kota, Kota_translated, place, subregion1Label, placeLabel, place_y, subregion1Label_y, placeLabel_y]\n",
              "Index: []"
            ]
          },
          "metadata": {
            "tags": []
          },
          "execution_count": 149
        }
      ]
    },
    {
      "cell_type": "code",
      "metadata": {
        "id": "WegXbgpr0sjV",
        "outputId": "337076e2-eb62-45da-a3b1-ca881235ad6f",
        "colab": {
          "base_uri": "https://localhost:8080/",
          "height": 235
        }
      },
      "source": [
        "regencies = sheet_regencies.merge(wiki_regencies, how='left', left_on=['Kota'], right_on=['placeLabel']) \n",
        "regencies = regencies.merge(wiki_regencies, how='left', left_on=['Kota_translated'], right_on=['placeLabel'], suffixes = [ None, '_y']) \n",
        "missing = regencies[regencies['placeLabel'].isnull() & regencies['placeLabel_y'].isnull()]\n",
        "missing"
      ],
      "execution_count": 150,
      "outputs": [
        {
          "output_type": "execute_result",
          "data": {
            "text/html": [
              "<div>\n",
              "<style scoped>\n",
              "    .dataframe tbody tr th:only-of-type {\n",
              "        vertical-align: middle;\n",
              "    }\n",
              "\n",
              "    .dataframe tbody tr th {\n",
              "        vertical-align: top;\n",
              "    }\n",
              "\n",
              "    .dataframe thead th {\n",
              "        text-align: right;\n",
              "    }\n",
              "</style>\n",
              "<table border=\"1\" class=\"dataframe\">\n",
              "  <thead>\n",
              "    <tr style=\"text-align: right;\">\n",
              "      <th></th>\n",
              "      <th>ID Provinsi</th>\n",
              "      <th>Provinsi</th>\n",
              "      <th>ID Kota</th>\n",
              "      <th>KabKota</th>\n",
              "      <th>Kota</th>\n",
              "      <th>Kota_translated</th>\n",
              "      <th>place</th>\n",
              "      <th>subregion1Label</th>\n",
              "      <th>placeLabel</th>\n",
              "      <th>place_y</th>\n",
              "      <th>subregion1Label_y</th>\n",
              "      <th>placeLabel_y</th>\n",
              "    </tr>\n",
              "  </thead>\n",
              "  <tbody>\n",
              "    <tr>\n",
              "      <th>252</th>\n",
              "      <td>21</td>\n",
              "      <td>Maluku Utara</td>\n",
              "      <td>255</td>\n",
              "      <td>Kab.</td>\n",
              "      <td>Pulau Morotai</td>\n",
              "      <td>Island Morotai</td>\n",
              "      <td>NaN</td>\n",
              "      <td>NaN</td>\n",
              "      <td>NaN</td>\n",
              "      <td>NaN</td>\n",
              "      <td>NaN</td>\n",
              "      <td>NaN</td>\n",
              "    </tr>\n",
              "    <tr>\n",
              "      <th>295</th>\n",
              "      <td>24</td>\n",
              "      <td>Papua</td>\n",
              "      <td>322</td>\n",
              "      <td>Kab.</td>\n",
              "      <td>Kepulauan Yapen</td>\n",
              "      <td>Islands Yapen</td>\n",
              "      <td>NaN</td>\n",
              "      <td>NaN</td>\n",
              "      <td>NaN</td>\n",
              "      <td>NaN</td>\n",
              "      <td>NaN</td>\n",
              "      <td>NaN</td>\n",
              "    </tr>\n",
              "    <tr>\n",
              "      <th>361</th>\n",
              "      <td>28</td>\n",
              "      <td>Sulawesi Selatan</td>\n",
              "      <td>384</td>\n",
              "      <td>Kab.</td>\n",
              "      <td>Kepulauan Selayar</td>\n",
              "      <td>Islands Selayar</td>\n",
              "      <td>NaN</td>\n",
              "      <td>NaN</td>\n",
              "      <td>NaN</td>\n",
              "      <td>NaN</td>\n",
              "      <td>NaN</td>\n",
              "      <td>NaN</td>\n",
              "    </tr>\n",
              "    <tr>\n",
              "      <th>405</th>\n",
              "      <td>31</td>\n",
              "      <td>Sulawesi Utara</td>\n",
              "      <td>420</td>\n",
              "      <td>Kab.</td>\n",
              "      <td>Kepulauan Sangihe</td>\n",
              "      <td>Islands Sangihe</td>\n",
              "      <td>NaN</td>\n",
              "      <td>NaN</td>\n",
              "      <td>NaN</td>\n",
              "      <td>NaN</td>\n",
              "      <td>NaN</td>\n",
              "      <td>NaN</td>\n",
              "    </tr>\n",
              "    <tr>\n",
              "      <th>406</th>\n",
              "      <td>31</td>\n",
              "      <td>Sulawesi Utara</td>\n",
              "      <td>421</td>\n",
              "      <td>Kab.</td>\n",
              "      <td>Kepulauan Sitaro</td>\n",
              "      <td>Islands Sitaro</td>\n",
              "      <td>NaN</td>\n",
              "      <td>NaN</td>\n",
              "      <td>NaN</td>\n",
              "      <td>NaN</td>\n",
              "      <td>NaN</td>\n",
              "      <td>NaN</td>\n",
              "    </tr>\n",
              "    <tr>\n",
              "      <th>407</th>\n",
              "      <td>31</td>\n",
              "      <td>Sulawesi Utara</td>\n",
              "      <td>422</td>\n",
              "      <td>Kab.</td>\n",
              "      <td>Kepulauan Talaud</td>\n",
              "      <td>Islands Talaud</td>\n",
              "      <td>NaN</td>\n",
              "      <td>NaN</td>\n",
              "      <td>NaN</td>\n",
              "      <td>NaN</td>\n",
              "      <td>NaN</td>\n",
              "      <td>NaN</td>\n",
              "    </tr>\n",
              "  </tbody>\n",
              "</table>\n",
              "</div>"
            ],
            "text/plain": [
              "    ID Provinsi          Provinsi  ... subregion1Label_y placeLabel_y\n",
              "252          21      Maluku Utara  ...               NaN          NaN\n",
              "295          24             Papua  ...               NaN          NaN\n",
              "361          28  Sulawesi Selatan  ...               NaN          NaN\n",
              "405          31    Sulawesi Utara  ...               NaN          NaN\n",
              "406          31    Sulawesi Utara  ...               NaN          NaN\n",
              "407          31    Sulawesi Utara  ...               NaN          NaN\n",
              "\n",
              "[6 rows x 12 columns]"
            ]
          },
          "metadata": {
            "tags": []
          },
          "execution_count": 150
        }
      ]
    },
    {
      "cell_type": "code",
      "metadata": {
        "id": "FgHa2Y63jMrE"
      },
      "source": [
        "df = wiki_df.merge(sheet_df, how='left', right_on=['Kota_standardised', 'regiontype'], left_on=['place_standardised', 'regiontype']) \n",
        "missing = df[df['Kota'].isnull()]\n",
        "missing\n",
        "# len(missing)\n",
        "\n"
      ],
      "execution_count": null,
      "outputs": []
    },
    {
      "cell_type": "code",
      "metadata": {
        "id": "Vc_WicVHezRX"
      },
      "source": [
        "# Matching rows with subregions\n",
        "df = df.merge(provs, how='inner', left_on='subregion1Label', right_on='subregion1_name')\n",
        "df['key'] = df.apply(lambda r: str(r.key) + '_' + str(r[\"ID Kota\"]), axis=1)\n",
        "df = df[~df['Kota'].isnull() & ~df['key'].isnull()]\n",
        "cols = ['key', 'country_code', 'country_name', 'subregion1_code', 'subregion1_name', 'ID Kota', 'placeLabel']\n",
        "\n",
        "print(df[cols].to_csv())\n"
      ],
      "execution_count": null,
      "outputs": []
    }
  ]
}