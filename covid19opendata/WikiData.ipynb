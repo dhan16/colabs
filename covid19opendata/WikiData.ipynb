{
  "nbformat": 4,
  "nbformat_minor": 0,
  "metadata": {
    "colab": {
      "name": "WikiData.ipynb",
      "provenance": [],
      "collapsed_sections": [],
      "include_colab_link": true
    },
    "kernelspec": {
      "name": "python3",
      "display_name": "Python 3"
    }
  },
  "cells": [
    {
      "cell_type": "markdown",
      "metadata": {
        "id": "view-in-github",
        "colab_type": "text"
      },
      "source": [
        "<a href=\"https://colab.research.google.com/github/dhan16/colabs/blob/master/covid19opendata/WikiData.ipynb\" target=\"_parent\"><img src=\"https://colab.research.google.com/assets/colab-badge.svg\" alt=\"Open In Colab\"/></a>"
      ]
    },
    {
      "cell_type": "markdown",
      "metadata": {
        "id": "N91-n9tcKs8W"
      },
      "source": [
        "## Setup"
      ]
    },
    {
      "cell_type": "code",
      "metadata": {
        "id": "UsXCiAFtToqX"
      },
      "source": [
        "\n",
        "import requests\n",
        "import pandas as pd\n",
        "\n",
        "ENDPOINT = \"https://query.wikidata.org/sparql\"\n",
        "\n",
        "def wikidata_to_dataframe(json):\n",
        "  results = json[\"results\"][\"bindings\"]\n",
        "  columns=[]\n",
        "  for result in results:\n",
        "    if len(result) > len(columns):\n",
        "      columns=[val for val in result]\n",
        "  rows = []\n",
        "  for result in results:\n",
        "    values = [result[c][\"value\"] if c in result else None for c in columns ]\n",
        "    rows.append(values)\n",
        "  return pd.DataFrame(rows, columns=columns)\n",
        "\n",
        "def wiki_data(sparql):\n",
        "  res = requests.get(ENDPOINT, params = {'format': 'json', 'query': sparql})\n",
        "  # print(res.json())\n",
        "  return wikidata_to_dataframe(res.json())"
      ],
      "execution_count": 78,
      "outputs": []
    },
    {
      "cell_type": "code",
      "metadata": {
        "colab": {
          "base_uri": "https://localhost:8080/"
        },
        "id": "KMSZr6GRMl0r",
        "outputId": "93f9f6ec-26b2-48fe-dfbe-11dd0f4a6e33"
      },
      "source": [
        "!pip install --upgrade gspread"
      ],
      "execution_count": 2,
      "outputs": [
        {
          "output_type": "stream",
          "text": [
            "Collecting gspread\n",
            "  Downloading https://files.pythonhosted.org/packages/df/f0/e345e7159c89b898f183cc40ed9909619475492bb000652d709f395f096a/gspread-3.7.0-py3-none-any.whl\n",
            "Requirement already satisfied, skipping upgrade: google-auth-oauthlib>=0.4.1 in /usr/local/lib/python3.7/dist-packages (from gspread) (0.4.3)\n",
            "Requirement already satisfied, skipping upgrade: google-auth>=1.12.0 in /usr/local/lib/python3.7/dist-packages (from gspread) (1.27.1)\n",
            "Requirement already satisfied, skipping upgrade: requests-oauthlib>=0.7.0 in /usr/local/lib/python3.7/dist-packages (from google-auth-oauthlib>=0.4.1->gspread) (1.3.0)\n",
            "Requirement already satisfied, skipping upgrade: rsa<5,>=3.1.4; python_version >= \"3.6\" in /usr/local/lib/python3.7/dist-packages (from google-auth>=1.12.0->gspread) (4.7.2)\n",
            "Requirement already satisfied, skipping upgrade: setuptools>=40.3.0 in /usr/local/lib/python3.7/dist-packages (from google-auth>=1.12.0->gspread) (54.0.0)\n",
            "Requirement already satisfied, skipping upgrade: pyasn1-modules>=0.2.1 in /usr/local/lib/python3.7/dist-packages (from google-auth>=1.12.0->gspread) (0.2.8)\n",
            "Requirement already satisfied, skipping upgrade: cachetools<5.0,>=2.0.0 in /usr/local/lib/python3.7/dist-packages (from google-auth>=1.12.0->gspread) (4.2.1)\n",
            "Requirement already satisfied, skipping upgrade: six>=1.9.0 in /usr/local/lib/python3.7/dist-packages (from google-auth>=1.12.0->gspread) (1.15.0)\n",
            "Requirement already satisfied, skipping upgrade: requests>=2.0.0 in /usr/local/lib/python3.7/dist-packages (from requests-oauthlib>=0.7.0->google-auth-oauthlib>=0.4.1->gspread) (2.23.0)\n",
            "Requirement already satisfied, skipping upgrade: oauthlib>=3.0.0 in /usr/local/lib/python3.7/dist-packages (from requests-oauthlib>=0.7.0->google-auth-oauthlib>=0.4.1->gspread) (3.1.0)\n",
            "Requirement already satisfied, skipping upgrade: pyasn1>=0.1.3 in /usr/local/lib/python3.7/dist-packages (from rsa<5,>=3.1.4; python_version >= \"3.6\"->google-auth>=1.12.0->gspread) (0.4.8)\n",
            "Requirement already satisfied, skipping upgrade: urllib3!=1.25.0,!=1.25.1,<1.26,>=1.21.1 in /usr/local/lib/python3.7/dist-packages (from requests>=2.0.0->requests-oauthlib>=0.7.0->google-auth-oauthlib>=0.4.1->gspread) (1.24.3)\n",
            "Requirement already satisfied, skipping upgrade: idna<3,>=2.5 in /usr/local/lib/python3.7/dist-packages (from requests>=2.0.0->requests-oauthlib>=0.7.0->google-auth-oauthlib>=0.4.1->gspread) (2.10)\n",
            "Requirement already satisfied, skipping upgrade: chardet<4,>=3.0.2 in /usr/local/lib/python3.7/dist-packages (from requests>=2.0.0->requests-oauthlib>=0.7.0->google-auth-oauthlib>=0.4.1->gspread) (3.0.4)\n",
            "Requirement already satisfied, skipping upgrade: certifi>=2017.4.17 in /usr/local/lib/python3.7/dist-packages (from requests>=2.0.0->requests-oauthlib>=0.7.0->google-auth-oauthlib>=0.4.1->gspread) (2020.12.5)\n",
            "Installing collected packages: gspread\n",
            "  Found existing installation: gspread 3.0.1\n",
            "    Uninstalling gspread-3.0.1:\n",
            "      Successfully uninstalled gspread-3.0.1\n",
            "Successfully installed gspread-3.7.0\n"
          ],
          "name": "stdout"
        }
      ]
    },
    {
      "cell_type": "markdown",
      "metadata": {
        "id": "tDCkMFzpKu2G"
      },
      "source": [
        "## Indonesia"
      ]
    },
    {
      "cell_type": "markdown",
      "metadata": {
        "id": "UOPcOxJeL5Tj"
      },
      "source": [
        "### Wikidata"
      ]
    },
    {
      "cell_type": "code",
      "metadata": {
        "id": "VJ86rLF1jgsO",
        "outputId": "328fcadf-f7cd-4750-bced-763d4903310c",
        "colab": {
          "base_uri": "https://localhost:8080/",
          "height": 419
        }
      },
      "source": [
        "sparql = \"\"\"\n",
        "SELECT ?place ?subregion1Label ?placeLabel ?classLabel ?indonesia_admincode ?subregion1_endtime ?class_endtime\n",
        "WHERE\n",
        "{\n",
        "  ?place wdt:P31/wdt:P279* wd:Q12479774. # P31=instance of, P279=subclass of\n",
        "  ?place wdt:P131 ?subregion1. # P131=located in the administrative territorial entity\n",
        "  OPTIONAL { ?place p:P131 [ps:P131 ?subregion1; pq:P582 ?subregion1_endtime ]. }\n",
        "  ?place wdt:P2588 ?indonesia_admincode.\n",
        "  ?place wdt:P31 ?class.\n",
        "  OPTIONAL { ?place p:P31 [ps:P31 ?class; pq:P582 ?class_endtime ]. }\n",
        "  SERVICE wikibase:label {\n",
        "    bd:serviceParam wikibase:language \"en\" .\n",
        "  }\n",
        "}\n",
        "\"\"\"\n",
        "wiki_df = wiki_data(sparql)\n",
        "wiki_df\n",
        "# len(wiki_df)"
      ],
      "execution_count": 79,
      "outputs": [
        {
          "output_type": "execute_result",
          "data": {
            "text/html": [
              "<div>\n",
              "<style scoped>\n",
              "    .dataframe tbody tr th:only-of-type {\n",
              "        vertical-align: middle;\n",
              "    }\n",
              "\n",
              "    .dataframe tbody tr th {\n",
              "        vertical-align: top;\n",
              "    }\n",
              "\n",
              "    .dataframe thead th {\n",
              "        text-align: right;\n",
              "    }\n",
              "</style>\n",
              "<table border=\"1\" class=\"dataframe\">\n",
              "  <thead>\n",
              "    <tr style=\"text-align: right;\">\n",
              "      <th></th>\n",
              "      <th>place</th>\n",
              "      <th>class_endtime</th>\n",
              "      <th>indonesia_admincode</th>\n",
              "      <th>subregion1Label</th>\n",
              "      <th>placeLabel</th>\n",
              "      <th>classLabel</th>\n",
              "      <th>subregion1_endtime</th>\n",
              "    </tr>\n",
              "  </thead>\n",
              "  <tbody>\n",
              "    <tr>\n",
              "      <th>0</th>\n",
              "      <td>http://www.wikidata.org/entity/Q7256</td>\n",
              "      <td>None</td>\n",
              "      <td>13.74</td>\n",
              "      <td>West Sumatra</td>\n",
              "      <td>Padang Panjang</td>\n",
              "      <td>human settlement</td>\n",
              "      <td>None</td>\n",
              "    </tr>\n",
              "    <tr>\n",
              "      <th>1</th>\n",
              "      <td>http://www.wikidata.org/entity/Q15840</td>\n",
              "      <td>None</td>\n",
              "      <td>71.09</td>\n",
              "      <td>North Sulawesi</td>\n",
              "      <td>Kepulauan Siau Tagulandang Biaro</td>\n",
              "      <td>island group</td>\n",
              "      <td>None</td>\n",
              "    </tr>\n",
              "    <tr>\n",
              "      <th>2</th>\n",
              "      <td>http://www.wikidata.org/entity/Q16561</td>\n",
              "      <td>None</td>\n",
              "      <td>81.07</td>\n",
              "      <td>Maluku</td>\n",
              "      <td>Kepulauan Aru</td>\n",
              "      <td>island group</td>\n",
              "      <td>None</td>\n",
              "    </tr>\n",
              "    <tr>\n",
              "      <th>3</th>\n",
              "      <td>http://www.wikidata.org/entity/Q4803</td>\n",
              "      <td>None</td>\n",
              "      <td>33.72</td>\n",
              "      <td>Central Java</td>\n",
              "      <td>Surakarta</td>\n",
              "      <td>big city</td>\n",
              "      <td>None</td>\n",
              "    </tr>\n",
              "    <tr>\n",
              "      <th>4</th>\n",
              "      <td>http://www.wikidata.org/entity/Q5779</td>\n",
              "      <td>None</td>\n",
              "      <td>11.71</td>\n",
              "      <td>Aceh</td>\n",
              "      <td>Banda Aceh</td>\n",
              "      <td>big city</td>\n",
              "      <td>None</td>\n",
              "    </tr>\n",
              "    <tr>\n",
              "      <th>...</th>\n",
              "      <td>...</td>\n",
              "      <td>...</td>\n",
              "      <td>...</td>\n",
              "      <td>...</td>\n",
              "      <td>...</td>\n",
              "      <td>...</td>\n",
              "      <td>...</td>\n",
              "    </tr>\n",
              "    <tr>\n",
              "      <th>674</th>\n",
              "      <td>http://www.wikidata.org/entity/Q18511812</td>\n",
              "      <td>None</td>\n",
              "      <td>16.13</td>\n",
              "      <td>South Sumatra</td>\n",
              "      <td>Musi Rawas Utara</td>\n",
              "      <td>regency of Indonesia</td>\n",
              "      <td>None</td>\n",
              "    </tr>\n",
              "    <tr>\n",
              "      <th>675</th>\n",
              "      <td>http://www.wikidata.org/entity/Q19745487</td>\n",
              "      <td>None</td>\n",
              "      <td>74.14</td>\n",
              "      <td>Southeast Sulawesi</td>\n",
              "      <td>Buton Tengah</td>\n",
              "      <td>regency of Indonesia</td>\n",
              "      <td>None</td>\n",
              "    </tr>\n",
              "    <tr>\n",
              "      <th>676</th>\n",
              "      <td>http://www.wikidata.org/entity/Q19745612</td>\n",
              "      <td>None</td>\n",
              "      <td>74.15</td>\n",
              "      <td>Southeast Sulawesi</td>\n",
              "      <td>Buton Selatan</td>\n",
              "      <td>regency of Indonesia</td>\n",
              "      <td>None</td>\n",
              "    </tr>\n",
              "    <tr>\n",
              "      <th>677</th>\n",
              "      <td>http://www.wikidata.org/entity/Q19746428</td>\n",
              "      <td>None</td>\n",
              "      <td>74.13</td>\n",
              "      <td>Southeast Sulawesi</td>\n",
              "      <td>Muna Barat</td>\n",
              "      <td>regency of Indonesia</td>\n",
              "      <td>None</td>\n",
              "    </tr>\n",
              "    <tr>\n",
              "      <th>678</th>\n",
              "      <td>http://www.wikidata.org/entity/Q26759674</td>\n",
              "      <td>None</td>\n",
              "      <td>21.05</td>\n",
              "      <td>Riau Islands</td>\n",
              "      <td>Kepulauan Anambas</td>\n",
              "      <td>regency of Indonesia</td>\n",
              "      <td>None</td>\n",
              "    </tr>\n",
              "  </tbody>\n",
              "</table>\n",
              "<p>679 rows × 7 columns</p>\n",
              "</div>"
            ],
            "text/plain": [
              "                                        place  ... subregion1_endtime\n",
              "0        http://www.wikidata.org/entity/Q7256  ...               None\n",
              "1       http://www.wikidata.org/entity/Q15840  ...               None\n",
              "2       http://www.wikidata.org/entity/Q16561  ...               None\n",
              "3        http://www.wikidata.org/entity/Q4803  ...               None\n",
              "4        http://www.wikidata.org/entity/Q5779  ...               None\n",
              "..                                        ...  ...                ...\n",
              "674  http://www.wikidata.org/entity/Q18511812  ...               None\n",
              "675  http://www.wikidata.org/entity/Q19745487  ...               None\n",
              "676  http://www.wikidata.org/entity/Q19745612  ...               None\n",
              "677  http://www.wikidata.org/entity/Q19746428  ...               None\n",
              "678  http://www.wikidata.org/entity/Q26759674  ...               None\n",
              "\n",
              "[679 rows x 7 columns]"
            ]
          },
          "metadata": {
            "tags": []
          },
          "execution_count": 79
        }
      ]
    },
    {
      "cell_type": "code",
      "metadata": {
        "id": "7lY80ttBnCZP",
        "outputId": "99113e12-d7e7-49dc-acfd-0e3752cdf453",
        "colab": {
          "base_uri": "https://localhost:8080/",
          "height": 419
        }
      },
      "source": [
        "set(wiki_df['classLabel'])\n",
        "\n",
        "def city_or_regency(classLabel: str) -> str:\n",
        "  classLabel = classLabel.lower()\n",
        "  if 'regency' in classLabel:\n",
        "    return 'regency'\n",
        "  elif 'city' in classLabel:\n",
        "    return 'city'\n",
        "  else:\n",
        "    return 'Other'\n",
        "wiki_df['city_or_regency'] = wiki_df.apply(lambda r: city_or_regency(r.classLabel), axis=1)\n",
        "\n",
        "set(wiki_df['city_or_regency'])\n",
        "\n",
        "wiki_df = wiki_df.drop(['classLabel'], axis=1)\n",
        "wiki_df = wiki_df.drop_duplicates()\n",
        "\n",
        "wiki_cities = wiki_df[wiki_df['city_or_regency'] == 'city']\n",
        "wiki_regencies = wiki_df[wiki_df['city_or_regency'] == 'regency']\n",
        "wiki_cities\n",
        "# wiki_regencies"
      ],
      "execution_count": 80,
      "outputs": [
        {
          "output_type": "execute_result",
          "data": {
            "text/html": [
              "<div>\n",
              "<style scoped>\n",
              "    .dataframe tbody tr th:only-of-type {\n",
              "        vertical-align: middle;\n",
              "    }\n",
              "\n",
              "    .dataframe tbody tr th {\n",
              "        vertical-align: top;\n",
              "    }\n",
              "\n",
              "    .dataframe thead th {\n",
              "        text-align: right;\n",
              "    }\n",
              "</style>\n",
              "<table border=\"1\" class=\"dataframe\">\n",
              "  <thead>\n",
              "    <tr style=\"text-align: right;\">\n",
              "      <th></th>\n",
              "      <th>place</th>\n",
              "      <th>class_endtime</th>\n",
              "      <th>indonesia_admincode</th>\n",
              "      <th>subregion1Label</th>\n",
              "      <th>placeLabel</th>\n",
              "      <th>subregion1_endtime</th>\n",
              "      <th>city_or_regency</th>\n",
              "    </tr>\n",
              "  </thead>\n",
              "  <tbody>\n",
              "    <tr>\n",
              "      <th>3</th>\n",
              "      <td>http://www.wikidata.org/entity/Q4803</td>\n",
              "      <td>None</td>\n",
              "      <td>33.72</td>\n",
              "      <td>Central Java</td>\n",
              "      <td>Surakarta</td>\n",
              "      <td>None</td>\n",
              "      <td>city</td>\n",
              "    </tr>\n",
              "    <tr>\n",
              "      <th>4</th>\n",
              "      <td>http://www.wikidata.org/entity/Q5779</td>\n",
              "      <td>None</td>\n",
              "      <td>11.71</td>\n",
              "      <td>Aceh</td>\n",
              "      <td>Banda Aceh</td>\n",
              "      <td>None</td>\n",
              "      <td>city</td>\n",
              "    </tr>\n",
              "    <tr>\n",
              "      <th>5</th>\n",
              "      <td>http://www.wikidata.org/entity/Q5781</td>\n",
              "      <td>None</td>\n",
              "      <td>11.74</td>\n",
              "      <td>Aceh</td>\n",
              "      <td>Langsa</td>\n",
              "      <td>None</td>\n",
              "      <td>city</td>\n",
              "    </tr>\n",
              "    <tr>\n",
              "      <th>6</th>\n",
              "      <td>http://www.wikidata.org/entity/Q5784</td>\n",
              "      <td>None</td>\n",
              "      <td>11.73</td>\n",
              "      <td>Aceh</td>\n",
              "      <td>Lhokseumawe</td>\n",
              "      <td>None</td>\n",
              "      <td>city</td>\n",
              "    </tr>\n",
              "    <tr>\n",
              "      <th>7</th>\n",
              "      <td>http://www.wikidata.org/entity/Q5954</td>\n",
              "      <td>None</td>\n",
              "      <td>12.75</td>\n",
              "      <td>North Sumatra</td>\n",
              "      <td>Binjai</td>\n",
              "      <td>None</td>\n",
              "      <td>city</td>\n",
              "    </tr>\n",
              "    <tr>\n",
              "      <th>...</th>\n",
              "      <td>...</td>\n",
              "      <td>...</td>\n",
              "      <td>...</td>\n",
              "      <td>...</td>\n",
              "      <td>...</td>\n",
              "      <td>...</td>\n",
              "      <td>...</td>\n",
              "    </tr>\n",
              "    <tr>\n",
              "      <th>630</th>\n",
              "      <td>http://www.wikidata.org/entity/Q10111</td>\n",
              "      <td>None</td>\n",
              "      <td>31.75</td>\n",
              "      <td>Jakarta</td>\n",
              "      <td>East Jakarta</td>\n",
              "      <td>None</td>\n",
              "      <td>city</td>\n",
              "    </tr>\n",
              "    <tr>\n",
              "      <th>631</th>\n",
              "      <td>http://www.wikidata.org/entity/Q10109</td>\n",
              "      <td>None</td>\n",
              "      <td>31.71</td>\n",
              "      <td>Jakarta</td>\n",
              "      <td>Central Jakarta</td>\n",
              "      <td>None</td>\n",
              "      <td>city</td>\n",
              "    </tr>\n",
              "    <tr>\n",
              "      <th>632</th>\n",
              "      <td>http://www.wikidata.org/entity/Q10114</td>\n",
              "      <td>None</td>\n",
              "      <td>31.74</td>\n",
              "      <td>Jakarta</td>\n",
              "      <td>South Jakarta</td>\n",
              "      <td>None</td>\n",
              "      <td>city</td>\n",
              "    </tr>\n",
              "    <tr>\n",
              "      <th>633</th>\n",
              "      <td>http://www.wikidata.org/entity/Q10113</td>\n",
              "      <td>None</td>\n",
              "      <td>31.72</td>\n",
              "      <td>Jakarta</td>\n",
              "      <td>North Jakarta</td>\n",
              "      <td>None</td>\n",
              "      <td>city</td>\n",
              "    </tr>\n",
              "    <tr>\n",
              "      <th>634</th>\n",
              "      <td>http://www.wikidata.org/entity/Q10116</td>\n",
              "      <td>None</td>\n",
              "      <td>31.73</td>\n",
              "      <td>Jakarta</td>\n",
              "      <td>West Jakarta</td>\n",
              "      <td>None</td>\n",
              "      <td>city</td>\n",
              "    </tr>\n",
              "  </tbody>\n",
              "</table>\n",
              "<p>110 rows × 7 columns</p>\n",
              "</div>"
            ],
            "text/plain": [
              "                                     place  ... city_or_regency\n",
              "3     http://www.wikidata.org/entity/Q4803  ...            city\n",
              "4     http://www.wikidata.org/entity/Q5779  ...            city\n",
              "5     http://www.wikidata.org/entity/Q5781  ...            city\n",
              "6     http://www.wikidata.org/entity/Q5784  ...            city\n",
              "7     http://www.wikidata.org/entity/Q5954  ...            city\n",
              "..                                     ...  ...             ...\n",
              "630  http://www.wikidata.org/entity/Q10111  ...            city\n",
              "631  http://www.wikidata.org/entity/Q10109  ...            city\n",
              "632  http://www.wikidata.org/entity/Q10114  ...            city\n",
              "633  http://www.wikidata.org/entity/Q10113  ...            city\n",
              "634  http://www.wikidata.org/entity/Q10116  ...            city\n",
              "\n",
              "[110 rows x 7 columns]"
            ]
          },
          "metadata": {
            "tags": []
          },
          "execution_count": 80
        }
      ]
    },
    {
      "cell_type": "code",
      "metadata": {
        "id": "hCCzA61NzvcX"
      },
      "source": [
        "wiki_cities = wiki_cities[wiki_cities.apply(lambda r : r.subregion1_endtime is None and r.class_endtime is None, axis=1)]"
      ],
      "execution_count": 81,
      "outputs": []
    },
    {
      "cell_type": "code",
      "metadata": {
        "id": "Wg-ZiRm9nLn6",
        "outputId": "f4bc8bcf-1902-45a9-fdf3-c85fc5fff518",
        "colab": {
          "base_uri": "https://localhost:8080/",
          "height": 173
        }
      },
      "source": [
        "duplicate = wiki_cities[wiki_cities.duplicated('placeLabel', keep=False)] \n",
        "len(duplicate)\n",
        "duplicate"
      ],
      "execution_count": 82,
      "outputs": [
        {
          "output_type": "execute_result",
          "data": {
            "text/html": [
              "<div>\n",
              "<style scoped>\n",
              "    .dataframe tbody tr th:only-of-type {\n",
              "        vertical-align: middle;\n",
              "    }\n",
              "\n",
              "    .dataframe tbody tr th {\n",
              "        vertical-align: top;\n",
              "    }\n",
              "\n",
              "    .dataframe thead th {\n",
              "        text-align: right;\n",
              "    }\n",
              "</style>\n",
              "<table border=\"1\" class=\"dataframe\">\n",
              "  <thead>\n",
              "    <tr style=\"text-align: right;\">\n",
              "      <th></th>\n",
              "      <th>place</th>\n",
              "      <th>class_endtime</th>\n",
              "      <th>indonesia_admincode</th>\n",
              "      <th>subregion1Label</th>\n",
              "      <th>placeLabel</th>\n",
              "      <th>subregion1_endtime</th>\n",
              "      <th>city_or_regency</th>\n",
              "    </tr>\n",
              "  </thead>\n",
              "  <tbody>\n",
              "    <tr>\n",
              "      <th>80</th>\n",
              "      <td>http://www.wikidata.org/entity/Q15847</td>\n",
              "      <td>None</td>\n",
              "      <td>71.71</td>\n",
              "      <td>North Sulawesi</td>\n",
              "      <td>Manado</td>\n",
              "      <td>None</td>\n",
              "      <td>city</td>\n",
              "    </tr>\n",
              "    <tr>\n",
              "      <th>81</th>\n",
              "      <td>http://www.wikidata.org/entity/Q15847</td>\n",
              "      <td>None</td>\n",
              "      <td>71.71</td>\n",
              "      <td>Q28725381</td>\n",
              "      <td>Manado</td>\n",
              "      <td>None</td>\n",
              "      <td>city</td>\n",
              "    </tr>\n",
              "    <tr>\n",
              "      <th>558</th>\n",
              "      <td>http://www.wikidata.org/entity/Q10126</td>\n",
              "      <td>None</td>\n",
              "      <td>36.73</td>\n",
              "      <td>Banten</td>\n",
              "      <td>Serang</td>\n",
              "      <td>None</td>\n",
              "      <td>city</td>\n",
              "    </tr>\n",
              "    <tr>\n",
              "      <th>559</th>\n",
              "      <td>http://www.wikidata.org/entity/Q10126</td>\n",
              "      <td>None</td>\n",
              "      <td>36.73</td>\n",
              "      <td>city of Indonesia</td>\n",
              "      <td>Serang</td>\n",
              "      <td>None</td>\n",
              "      <td>city</td>\n",
              "    </tr>\n",
              "  </tbody>\n",
              "</table>\n",
              "</div>"
            ],
            "text/plain": [
              "                                     place  ... city_or_regency\n",
              "80   http://www.wikidata.org/entity/Q15847  ...            city\n",
              "81   http://www.wikidata.org/entity/Q15847  ...            city\n",
              "558  http://www.wikidata.org/entity/Q10126  ...            city\n",
              "559  http://www.wikidata.org/entity/Q10126  ...            city\n",
              "\n",
              "[4 rows x 7 columns]"
            ]
          },
          "metadata": {
            "tags": []
          },
          "execution_count": 82
        }
      ]
    },
    {
      "cell_type": "code",
      "metadata": {
        "id": "peZ8W9AXTsgS",
        "colab": {
          "base_uri": "https://localhost:8080/",
          "height": 419
        },
        "outputId": "725274c2-58de-488f-d36a-acd9789a1109"
      },
      "source": [
        "# # indonesia level2 areas\n",
        "# # city=Q3199141,Q4272761 \n",
        "# # regency = Q3191695, Q11127777\n",
        "\n",
        "# sparql_template = \"\"\"\n",
        "# SELECT ?place ?subregion1Label ?placeLabel ?class ?classLabel ?indonesia_admincode\n",
        "# WHERE\n",
        "# {\n",
        "#   ?place wdt:P31 wd:Q3199141. # P31=instance of, P279=subclass of\n",
        "#   ?place wdt:P131 ?subregion1. # P131=located in the administrative territorial entity\n",
        "#   ?place wdt:P2588 ?indonesia_admincode.\n",
        "#   SERVICE wikibase:label {\n",
        "#     bd:serviceParam wikibase:language \"en\" .\n",
        "#   }\n",
        "# }\n",
        "# \"\"\"\n",
        "# wiki_cities = wiki_data(sparql)\n",
        "\n",
        "\n",
        "\n",
        "# sparql = \"\"\"\n",
        "# SELECT ?place ?subregion1Label ?placeLabel ?class ?classLabel ?indonesia_admincode\n",
        "# WHERE\n",
        "# {\n",
        "#   ?place wdt:P31 wd:Q3199141. # P31=instance of, P279=subclass of\n",
        "#   ?place wdt:P131 ?subregion1. # P131=located in the administrative territorial entity\n",
        "#   ?place wdt:P2588 ?indonesia_admincode.\n",
        "#   SERVICE wikibase:label {\n",
        "#     bd:serviceParam wikibase:language \"en\" .\n",
        "#   }\n",
        "# }\n",
        "# \"\"\"\n",
        "# wiki_cities = wiki_data(sparql)\n",
        "\n",
        "# sparql = \"\"\"\n",
        "# SELECT ?place ?subregion1Label ?placeLabel ?class ?classLabel ?indonesia_admincode\n",
        "# WHERE\n",
        "# {\n",
        "#   ?place wdt:P31 wd:Q4272761. # P31=instance of, P279=subclass of\n",
        "#   ?place wdt:P131 ?subregion1. # P131=located in the administrative territorial entity\n",
        "#   ?place wdt:P2588 ?indonesia_admincode.\n",
        "#   SERVICE wikibase:label {\n",
        "#     bd:serviceParam wikibase:language \"en\" .\n",
        "#   }\n",
        "# }\n",
        "# \"\"\"\n",
        "# wiki_cities1 = wiki_data(sparql)\n",
        "\n",
        "# sparql = \"\"\"\n",
        "# SELECT ?place ?subregion1Label ?placeLabel ?class ?classLabel ?indonesia_admincode\n",
        "# WHERE\n",
        "# {\n",
        "#   ?place wdt:P31 wd:Q3191695. # P31=instance of, P279=subclass of\n",
        "#   ?place wdt:P131 ?subregion1. # P131=located in the administrative territorial entity\n",
        "#   ?place wdt:P2588 ?indonesia_admincode.\n",
        "#   SERVICE wikibase:label {\n",
        "#     bd:serviceParam wikibase:language \"en\" .\n",
        "#   }\n",
        "# }\n",
        "# \"\"\"\n",
        "# wiki_regencies = wiki_data(sparql)\n",
        "# sparql = \"\"\"\n",
        "# SELECT ?place ?subregion1Label ?placeLabel ?class ?classLabel ?indonesia_admincode\n",
        "# WHERE\n",
        "# {\n",
        "#   ?place wdt:P31 wd:Q11127777. # P31=instance of, P279=subclass of\n",
        "#   ?place wdt:P131 ?subregion1. # P131=located in the administrative territorial entity\n",
        "#   ?place wdt:P2588 ?indonesia_admincode.\n",
        "#   SERVICE wikibase:label {\n",
        "#     bd:serviceParam wikibase:language \"en\" .\n",
        "#   }\n",
        "# }\n",
        "# \"\"\"\n",
        "# wiki_regencies1 = wiki_data(sparql)\n",
        "\n",
        "# wiki_cities = pd.concat([wiki_cities, wiki_cities1])\n",
        "# wiki_regencies = pd.concat([wiki_regencies, wiki_regencies1])\n",
        "# wiki_cities\n",
        "# # d = wiki_cities[wiki_cities.placeLabel]\n",
        "# # d\n",
        "# wiki_regencies\n",
        "\n"
      ],
      "execution_count": 3,
      "outputs": [
        {
          "output_type": "execute_result",
          "data": {
            "text/html": [
              "<div>\n",
              "<style scoped>\n",
              "    .dataframe tbody tr th:only-of-type {\n",
              "        vertical-align: middle;\n",
              "    }\n",
              "\n",
              "    .dataframe tbody tr th {\n",
              "        vertical-align: top;\n",
              "    }\n",
              "\n",
              "    .dataframe thead th {\n",
              "        text-align: right;\n",
              "    }\n",
              "</style>\n",
              "<table border=\"1\" class=\"dataframe\">\n",
              "  <thead>\n",
              "    <tr style=\"text-align: right;\">\n",
              "      <th></th>\n",
              "      <th>place</th>\n",
              "      <th>indonesia_admincode</th>\n",
              "      <th>subregion1Label</th>\n",
              "      <th>placeLabel</th>\n",
              "    </tr>\n",
              "  </thead>\n",
              "  <tbody>\n",
              "    <tr>\n",
              "      <th>0</th>\n",
              "      <td>http://www.wikidata.org/entity/Q11495</td>\n",
              "      <td>51.08</td>\n",
              "      <td>Bali</td>\n",
              "      <td>Buleleng</td>\n",
              "    </tr>\n",
              "    <tr>\n",
              "      <th>1</th>\n",
              "      <td>http://www.wikidata.org/entity/Q11496</td>\n",
              "      <td>51.04</td>\n",
              "      <td>Bali</td>\n",
              "      <td>Gianyar</td>\n",
              "    </tr>\n",
              "    <tr>\n",
              "      <th>2</th>\n",
              "      <td>http://www.wikidata.org/entity/Q11499</td>\n",
              "      <td>51.01</td>\n",
              "      <td>Bali</td>\n",
              "      <td>Jembrana</td>\n",
              "    </tr>\n",
              "    <tr>\n",
              "      <th>3</th>\n",
              "      <td>http://www.wikidata.org/entity/Q11501</td>\n",
              "      <td>51.07</td>\n",
              "      <td>Bali</td>\n",
              "      <td>Karangasem</td>\n",
              "    </tr>\n",
              "    <tr>\n",
              "      <th>4</th>\n",
              "      <td>http://www.wikidata.org/entity/Q11503</td>\n",
              "      <td>51.05</td>\n",
              "      <td>Bali</td>\n",
              "      <td>Klungkung</td>\n",
              "    </tr>\n",
              "    <tr>\n",
              "      <th>...</th>\n",
              "      <td>...</td>\n",
              "      <td>...</td>\n",
              "      <td>...</td>\n",
              "      <td>...</td>\n",
              "    </tr>\n",
              "    <tr>\n",
              "      <th>428</th>\n",
              "      <td>http://www.wikidata.org/entity/Q676084</td>\n",
              "      <td>82.08</td>\n",
              "      <td>North Maluku</td>\n",
              "      <td>Pulau Taliabu</td>\n",
              "    </tr>\n",
              "    <tr>\n",
              "      <th>429</th>\n",
              "      <td>http://www.wikidata.org/entity/Q3182322</td>\n",
              "      <td>17.04</td>\n",
              "      <td>Bengkulu</td>\n",
              "      <td>Kaur</td>\n",
              "    </tr>\n",
              "    <tr>\n",
              "      <th>430</th>\n",
              "      <td>http://www.wikidata.org/entity/Q4069046</td>\n",
              "      <td>53.21</td>\n",
              "      <td>East Nusa Tenggara</td>\n",
              "      <td>Malaka</td>\n",
              "    </tr>\n",
              "    <tr>\n",
              "      <th>431</th>\n",
              "      <td>http://www.wikidata.org/entity/Q4201768</td>\n",
              "      <td>81.01</td>\n",
              "      <td>Maluku</td>\n",
              "      <td>Maluku Tengah</td>\n",
              "    </tr>\n",
              "    <tr>\n",
              "      <th>0</th>\n",
              "      <td>http://www.wikidata.org/entity/Q10107</td>\n",
              "      <td>31.01</td>\n",
              "      <td>Jakarta</td>\n",
              "      <td>Thousand Islands</td>\n",
              "    </tr>\n",
              "  </tbody>\n",
              "</table>\n",
              "<p>433 rows × 4 columns</p>\n",
              "</div>"
            ],
            "text/plain": [
              "                                       place  ...        placeLabel\n",
              "0      http://www.wikidata.org/entity/Q11495  ...          Buleleng\n",
              "1      http://www.wikidata.org/entity/Q11496  ...           Gianyar\n",
              "2      http://www.wikidata.org/entity/Q11499  ...          Jembrana\n",
              "3      http://www.wikidata.org/entity/Q11501  ...        Karangasem\n",
              "4      http://www.wikidata.org/entity/Q11503  ...         Klungkung\n",
              "..                                       ...  ...               ...\n",
              "428   http://www.wikidata.org/entity/Q676084  ...     Pulau Taliabu\n",
              "429  http://www.wikidata.org/entity/Q3182322  ...              Kaur\n",
              "430  http://www.wikidata.org/entity/Q4069046  ...            Malaka\n",
              "431  http://www.wikidata.org/entity/Q4201768  ...     Maluku Tengah\n",
              "0      http://www.wikidata.org/entity/Q10107  ...  Thousand Islands\n",
              "\n",
              "[433 rows x 4 columns]"
            ]
          },
          "metadata": {
            "tags": []
          },
          "execution_count": 3
        }
      ]
    },
    {
      "cell_type": "markdown",
      "metadata": {
        "id": "LpdH3HPwL7ys"
      },
      "source": [
        "### OpenCovid"
      ]
    },
    {
      "cell_type": "code",
      "metadata": {
        "id": "N0eaeRRzZits"
      },
      "source": [
        "meta = pd.read_csv('https://raw.githubusercontent.com/GoogleCloudPlatform/covid-19-open-data/main/src/data/metadata.csv')\n",
        "meta = meta.query('(country_code == \"ID\")')\n",
        "# meta"
      ],
      "execution_count": 24,
      "outputs": []
    },
    {
      "cell_type": "code",
      "metadata": {
        "id": "mDv9xkiZDMtY"
      },
      "source": [
        "#  wiki_cities = wiki_cities.merge(meta, how='inner', left_on=['subregion1Label'], right_on=['subregion1_name']) \n",
        "#  wiki_regencies = wiki_regencies.merge(meta, how='inner', left_on=['subregion1Label'], right_on=['subregion1_name']) \n",
        " "
      ],
      "execution_count": 25,
      "outputs": []
    },
    {
      "cell_type": "code",
      "metadata": {
        "colab": {
          "base_uri": "https://localhost:8080/",
          "height": 100
        },
        "id": "dJJYzZtln9iM",
        "outputId": "4d2bcf5a-0c10-4e68-ac6e-6b2831887f97"
      },
      "source": [
        "# c = wiki_regencies[wiki_regencies.placeLabel == 'Tuban']\n",
        "# c"
      ],
      "execution_count": 26,
      "outputs": [
        {
          "output_type": "execute_result",
          "data": {
            "text/html": [
              "<div>\n",
              "<style scoped>\n",
              "    .dataframe tbody tr th:only-of-type {\n",
              "        vertical-align: middle;\n",
              "    }\n",
              "\n",
              "    .dataframe tbody tr th {\n",
              "        vertical-align: top;\n",
              "    }\n",
              "\n",
              "    .dataframe thead th {\n",
              "        text-align: right;\n",
              "    }\n",
              "</style>\n",
              "<table border=\"1\" class=\"dataframe\">\n",
              "  <thead>\n",
              "    <tr style=\"text-align: right;\">\n",
              "      <th></th>\n",
              "      <th>place</th>\n",
              "      <th>indonesia_admincode</th>\n",
              "      <th>subregion1Label</th>\n",
              "      <th>placeLabel</th>\n",
              "      <th>city_or_regency</th>\n",
              "      <th>key</th>\n",
              "      <th>country_code</th>\n",
              "      <th>country_name</th>\n",
              "      <th>subregion1_code</th>\n",
              "      <th>subregion1_name</th>\n",
              "      <th>subregion2_code</th>\n",
              "      <th>subregion2_name</th>\n",
              "      <th>locality_code</th>\n",
              "      <th>locality_name</th>\n",
              "      <th>match_string</th>\n",
              "      <th>aggregate_report_offset</th>\n",
              "    </tr>\n",
              "  </thead>\n",
              "  <tbody>\n",
              "    <tr>\n",
              "      <th>427</th>\n",
              "      <td>http://www.wikidata.org/entity/Q11141</td>\n",
              "      <td>35.23</td>\n",
              "      <td>East Java</td>\n",
              "      <td>Tuban</td>\n",
              "      <td>regency</td>\n",
              "      <td>ID_JI</td>\n",
              "      <td>ID</td>\n",
              "      <td>Indonesia</td>\n",
              "      <td>JI</td>\n",
              "      <td>East Java</td>\n",
              "      <td>NaN</td>\n",
              "      <td>NaN</td>\n",
              "      <td>NaN</td>\n",
              "      <td>NaN</td>\n",
              "      <td>Jawa Timur</td>\n",
              "      <td>NaN</td>\n",
              "    </tr>\n",
              "  </tbody>\n",
              "</table>\n",
              "</div>"
            ],
            "text/plain": [
              "                                     place  ... aggregate_report_offset\n",
              "427  http://www.wikidata.org/entity/Q11141  ...                     NaN\n",
              "\n",
              "[1 rows x 16 columns]"
            ]
          },
          "metadata": {
            "tags": []
          },
          "execution_count": 26
        }
      ]
    },
    {
      "cell_type": "code",
      "metadata": {
        "colab": {
          "base_uri": "https://localhost:8080/"
        },
        "id": "e4sGQHzXEsnC",
        "outputId": "101f40ca-0765-4a71-ef8d-f2f133f0d7ed"
      },
      "source": [
        "duplicate = wiki_cities[wiki_cities.duplicated('placeLabel', keep=False)] \n",
        "len(duplicate)\n"
      ],
      "execution_count": 27,
      "outputs": [
        {
          "output_type": "execute_result",
          "data": {
            "text/plain": [
              "12"
            ]
          },
          "metadata": {
            "tags": []
          },
          "execution_count": 27
        }
      ]
    },
    {
      "cell_type": "markdown",
      "metadata": {
        "id": "FFlIhVuxhoSw"
      },
      "source": [
        "### Translations"
      ]
    },
    {
      "cell_type": "code",
      "metadata": {
        "id": "kA0n3hB_sJod",
        "colab": {
          "base_uri": "https://localhost:8080/"
        },
        "outputId": "79debff0-783e-4cd6-90f2-73e33e121504"
      },
      "source": [
        "def indonesian_direction_to_english(place: str):\n",
        "  to_english = {\n",
        "      'Pusat': 'Central',\n",
        "      'Tengah' : 'Central',\n",
        "      'Utara' : 'North',\n",
        "      'Selatan' : 'South',\n",
        "      'Timur' : 'East',\n",
        "      'Barat' : 'West',\n",
        "  }\n",
        "  bits = place.split()\n",
        "  if len(bits) > 1:\n",
        "    for indo_dir, eng_dir in to_english.items():\n",
        "      # in indonesian the dir is at the end \n",
        "      if bits[-1] == indo_dir:\n",
        "        bits.pop()\n",
        "        bits.insert(0, eng_dir)\n",
        "        break\n",
        "  place = ' '.join(bits)\n",
        "  return place\n",
        "\n",
        "def indonesian_islands_to_english(place: str):\n",
        "  to_english = {\n",
        "      'Kepulauan' : 'Islands',\n",
        "      'Pulau' : 'Island',\n",
        "  }\n",
        "  bits = place.split()\n",
        "  bits = [to_english.get(b, b) for b in bits]\n",
        "  # in english, islands is at the end\n",
        "  if len(bits) > 1:\n",
        "    for eng in to_english.values():\n",
        "      # in indonesian the dir is at the end \n",
        "      if bits[0] == eng:\n",
        "        bits.pop(0)\n",
        "        bits.append(eng)\n",
        "        break\n",
        "  place = ' '.join(bits)\n",
        "  return place\n",
        "\n",
        "[\n",
        "  indonesian_direction_to_english('whatever Tengah'),\n",
        "  indonesian_islands_to_english('Kepulauan Tengah')\n",
        "]"
      ],
      "execution_count": 8,
      "outputs": [
        {
          "output_type": "execute_result",
          "data": {
            "text/plain": [
              "['Central whatever', 'Tengah Islands']"
            ]
          },
          "metadata": {
            "tags": []
          },
          "execution_count": 8
        }
      ]
    },
    {
      "cell_type": "code",
      "metadata": {
        "id": "wuGOXheJonAl",
        "colab": {
          "base_uri": "https://localhost:8080/"
        },
        "outputId": "76093318-20a1-47b0-a76e-c8b851f4586f"
      },
      "source": [
        "spellings = {\n",
        "    # cities\n",
        "    'Bau-Bau' : 'Baubau',\n",
        "    'Sungaipenuh' : 'Sungai Penuh',\n",
        "    'Palangka Raya' : 'Palangkaraya',\n",
        "    'Tidore Kepulauan' : 'Tidore', # https://www.wikidata.org/wiki/Q19153\n",
        "    'Lubuk Linggau' : 'Lubuklinggau', # https://www.wikidata.org/wiki/Q8129\n",
        "    'Pematang Siantar': 'Pematangsiantar', # https://www.wikidata.org/wiki/Q5979\n",
        "    'Tanjung Balai' : 'Tanjungbalai', # https://www.wikidata.org/wiki/Q5987\n",
        "    # regencies\n",
        "    'Kupang' : 'Kupang Regency', # https://www.wikidata.org/wiki/Q14141\n",
        "    'Toba Samosir' : 'Toba Regency', # https://www.wikidata.org/wiki/Q5911\n",
        "    'Tojo Una-Una' : 'Tojo Una Una',\n",
        "    'Toli-Toli': 'Tolitoli',\n",
        "    'Muko Muko': 'Mukomuko', # https://www.wikidata.org/wiki/Q8033\n",
        "    'Kepulauan Seribu' : 'Thousand Islands', # https://translate.google.com/?sl=id&tl=en&text=Kepulauan%20Seribu&op=translate\n",
        "    'Penajam Paser Utara' : 'Penajam North Paser',\n",
        "    'Pasangkayu (Mamuju Utara)': 'Pasangkayu', # https://en.wikipedia.org/wiki/Pasangkayu_Regency\n",
        "    'Labuhanbatu' : 'Labuhan Batu', # https://www.wikidata.org/wiki/Q5814\n",
        "    'Batu Bara': 'Batubara', # https://www.wikidata.org/wiki/Q5797\n",
        "    'Limapuluh Kota': 'Lima Puluh Kota', # https://www.wikidata.org/wiki/Q6032\n",
        "    'Batang Hari': 'Batanghari', # https://www.wikidata.org/wiki/Q7370\n",
        "    'Kepulauan Sangihe': 'Sangihe', # https://www.wikidata.org/wiki/Q15839\n",
        "    'Kepulauan Sitaro': 'Kepulauan Siau Tagulandang Biaro', # https://www.wikidata.org/wiki/Q15840\n",
        "}\n",
        "def translate_sheet_place_to_wikidata(place: str) -> str:\n",
        "  if place in spellings:\n",
        "    return spellings[place]\n",
        "  place = indonesian_direction_to_english(place)\n",
        "  place = indonesian_islands_to_english(place)\n",
        "  return place\n",
        "\n",
        "[\n",
        " translate_sheet_place_to_wikidata('Kepulauan Tengah'),\n",
        " translate_sheet_place_to_wikidata('Kepulauan Tenga'),\n",
        " translate_sheet_place_to_wikidata('Jakarta Barat'),\n",
        "] \n",
        " "
      ],
      "execution_count": 9,
      "outputs": [
        {
          "output_type": "execute_result",
          "data": {
            "text/plain": [
              "['Central Islands', 'Tenga Islands', 'West Jakarta']"
            ]
          },
          "metadata": {
            "tags": []
          },
          "execution_count": 9
        }
      ]
    },
    {
      "cell_type": "markdown",
      "metadata": {
        "id": "bKafJnbWhj4N"
      },
      "source": [
        "### Sheet"
      ]
    },
    {
      "cell_type": "code",
      "metadata": {
        "id": "5FfHayj5wQFf"
      },
      "source": [
        "from google.colab import auth\n",
        "auth.authenticate_user()\n",
        "import gspread\n",
        "from oauth2client.client import GoogleCredentials\n",
        "gc = gspread.authorize(GoogleCredentials.get_application_default())\n",
        "\n",
        "sheet_url = 'https://docs.google.com/spreadsheets/d/1FJJXiGuOb5nXrjJeV3QcHNhTo38YdcsTIFl29mWDIqI/edit#gid=2006070746'\n",
        "worksheet = gc.open_by_url(sheet_url).worksheet('Kode Kota')\n",
        "rows = worksheet.get_all_values()\n",
        "\n",
        "sheet_df = pd.DataFrame.from_records(rows[2:], columns=rows[1])\n",
        "sheet_cities = sheet_df[sheet_df.KabKota == 'Kota']\n",
        "sheet_regencies = sheet_df[sheet_df.KabKota == 'Kab.']\n",
        "# sheet_cities\n",
        "# sheet_regencies"
      ],
      "execution_count": 10,
      "outputs": []
    },
    {
      "cell_type": "code",
      "metadata": {
        "id": "e3093cpm0nRU",
        "colab": {
          "base_uri": "https://localhost:8080/",
          "height": 375
        },
        "outputId": "7d5f5a2a-6b51-408c-d855-27ac6005f655"
      },
      "source": [
        "# Match rows in sheet with rows in wiki\n",
        "def firstNotNull(l):\n",
        "  for item in l:\n",
        "    if not pd.isnull(item):\n",
        "      return item\n",
        "  return l[0]\n",
        "\n",
        "def match_sheet_to_wiki(sdf, wdf):\n",
        "  df = sdf.merge(wdf, how='left', left_on=['Kota'], right_on=['placeLabel'], validate=\"1:1\")\n",
        "  def kota_translated(r):\n",
        "    if not pd.isnull(r.placeLabel):\n",
        "      return None\n",
        "    else:\n",
        "      return translate_sheet_place_to_wikidata(r.Kota)\n",
        "  df['Kota_translated'] = df.apply(kota_translated, axis=1)\n",
        "  df = df.merge(wdf, how='left', left_on=['Kota_translated'], right_on=['placeLabel'], suffixes = [ None, '_y'], validate=\"1:1\") \n",
        "  df['subregion2'] = df.apply(lambda r: firstNotNull([r.placeLabel, r.placeLabel_y]), axis=1)\n",
        "  df['subregion1'] = df.apply(lambda r: firstNotNull([r.subregion1Label, r.subregion1Label_y]), axis=1)\n",
        "  # now join to meta\n",
        "  df = df.merge(meta, how='left', left_on=['subregion1'], right_on=['subregion1_name']) \n",
        "  return df\n",
        "\n",
        "cities = match_sheet_to_wiki(sheet_cities, wiki_cities)\n",
        "# missing = cities[cities['subregion2'].isnull()]\n",
        "missing = cities[cities['subregion1_code'].isnull()]\n",
        "missing"
      ],
      "execution_count": 11,
      "outputs": [
        {
          "output_type": "error",
          "ename": "MergeError",
          "evalue": "ignored",
          "traceback": [
            "\u001b[0;31m---------------------------------------------------------------------------\u001b[0m",
            "\u001b[0;31mMergeError\u001b[0m                                Traceback (most recent call last)",
            "\u001b[0;32m<ipython-input-11-8501478f9024>\u001b[0m in \u001b[0;36m<module>\u001b[0;34m()\u001b[0m\n\u001b[1;32m     21\u001b[0m   \u001b[0;32mreturn\u001b[0m \u001b[0mdf\u001b[0m\u001b[0;34m\u001b[0m\u001b[0;34m\u001b[0m\u001b[0m\n\u001b[1;32m     22\u001b[0m \u001b[0;34m\u001b[0m\u001b[0m\n\u001b[0;32m---> 23\u001b[0;31m \u001b[0mcities\u001b[0m \u001b[0;34m=\u001b[0m \u001b[0mmatch_sheet_to_wiki\u001b[0m\u001b[0;34m(\u001b[0m\u001b[0msheet_cities\u001b[0m\u001b[0;34m,\u001b[0m \u001b[0mwiki_cities\u001b[0m\u001b[0;34m)\u001b[0m\u001b[0;34m\u001b[0m\u001b[0;34m\u001b[0m\u001b[0m\n\u001b[0m\u001b[1;32m     24\u001b[0m \u001b[0;31m# missing = cities[cities['subregion2'].isnull()]\u001b[0m\u001b[0;34m\u001b[0m\u001b[0;34m\u001b[0m\u001b[0;34m\u001b[0m\u001b[0m\n\u001b[1;32m     25\u001b[0m \u001b[0mmissing\u001b[0m \u001b[0;34m=\u001b[0m \u001b[0mcities\u001b[0m\u001b[0;34m[\u001b[0m\u001b[0mcities\u001b[0m\u001b[0;34m[\u001b[0m\u001b[0;34m'subregion1_code'\u001b[0m\u001b[0;34m]\u001b[0m\u001b[0;34m.\u001b[0m\u001b[0misnull\u001b[0m\u001b[0;34m(\u001b[0m\u001b[0;34m)\u001b[0m\u001b[0;34m]\u001b[0m\u001b[0;34m\u001b[0m\u001b[0;34m\u001b[0m\u001b[0m\n",
            "\u001b[0;32m<ipython-input-11-8501478f9024>\u001b[0m in \u001b[0;36mmatch_sheet_to_wiki\u001b[0;34m(sdf, wdf)\u001b[0m\n\u001b[1;32m      7\u001b[0m \u001b[0;34m\u001b[0m\u001b[0m\n\u001b[1;32m      8\u001b[0m \u001b[0;32mdef\u001b[0m \u001b[0mmatch_sheet_to_wiki\u001b[0m\u001b[0;34m(\u001b[0m\u001b[0msdf\u001b[0m\u001b[0;34m,\u001b[0m \u001b[0mwdf\u001b[0m\u001b[0;34m)\u001b[0m\u001b[0;34m:\u001b[0m\u001b[0;34m\u001b[0m\u001b[0;34m\u001b[0m\u001b[0m\n\u001b[0;32m----> 9\u001b[0;31m   \u001b[0mdf\u001b[0m \u001b[0;34m=\u001b[0m \u001b[0msdf\u001b[0m\u001b[0;34m.\u001b[0m\u001b[0mmerge\u001b[0m\u001b[0;34m(\u001b[0m\u001b[0mwdf\u001b[0m\u001b[0;34m,\u001b[0m \u001b[0mhow\u001b[0m\u001b[0;34m=\u001b[0m\u001b[0;34m'left'\u001b[0m\u001b[0;34m,\u001b[0m \u001b[0mleft_on\u001b[0m\u001b[0;34m=\u001b[0m\u001b[0;34m[\u001b[0m\u001b[0;34m'Kota'\u001b[0m\u001b[0;34m]\u001b[0m\u001b[0;34m,\u001b[0m \u001b[0mright_on\u001b[0m\u001b[0;34m=\u001b[0m\u001b[0;34m[\u001b[0m\u001b[0;34m'placeLabel'\u001b[0m\u001b[0;34m]\u001b[0m\u001b[0;34m,\u001b[0m \u001b[0mvalidate\u001b[0m\u001b[0;34m=\u001b[0m\u001b[0;34m\"1:1\"\u001b[0m\u001b[0;34m)\u001b[0m\u001b[0;34m\u001b[0m\u001b[0;34m\u001b[0m\u001b[0m\n\u001b[0m\u001b[1;32m     10\u001b[0m   \u001b[0;32mdef\u001b[0m \u001b[0mkota_translated\u001b[0m\u001b[0;34m(\u001b[0m\u001b[0mr\u001b[0m\u001b[0;34m)\u001b[0m\u001b[0;34m:\u001b[0m\u001b[0;34m\u001b[0m\u001b[0;34m\u001b[0m\u001b[0m\n\u001b[1;32m     11\u001b[0m     \u001b[0;32mif\u001b[0m \u001b[0;32mnot\u001b[0m \u001b[0mpd\u001b[0m\u001b[0;34m.\u001b[0m\u001b[0misnull\u001b[0m\u001b[0;34m(\u001b[0m\u001b[0mr\u001b[0m\u001b[0;34m.\u001b[0m\u001b[0mplaceLabel\u001b[0m\u001b[0;34m)\u001b[0m\u001b[0;34m:\u001b[0m\u001b[0;34m\u001b[0m\u001b[0;34m\u001b[0m\u001b[0m\n",
            "\u001b[0;32m/usr/local/lib/python3.7/dist-packages/pandas/core/frame.py\u001b[0m in \u001b[0;36mmerge\u001b[0;34m(self, right, how, on, left_on, right_on, left_index, right_index, sort, suffixes, copy, indicator, validate)\u001b[0m\n\u001b[1;32m   7961\u001b[0m             \u001b[0mcopy\u001b[0m\u001b[0;34m=\u001b[0m\u001b[0mcopy\u001b[0m\u001b[0;34m,\u001b[0m\u001b[0;34m\u001b[0m\u001b[0;34m\u001b[0m\u001b[0m\n\u001b[1;32m   7962\u001b[0m             \u001b[0mindicator\u001b[0m\u001b[0;34m=\u001b[0m\u001b[0mindicator\u001b[0m\u001b[0;34m,\u001b[0m\u001b[0;34m\u001b[0m\u001b[0;34m\u001b[0m\u001b[0m\n\u001b[0;32m-> 7963\u001b[0;31m             \u001b[0mvalidate\u001b[0m\u001b[0;34m=\u001b[0m\u001b[0mvalidate\u001b[0m\u001b[0;34m,\u001b[0m\u001b[0;34m\u001b[0m\u001b[0;34m\u001b[0m\u001b[0m\n\u001b[0m\u001b[1;32m   7964\u001b[0m         )\n\u001b[1;32m   7965\u001b[0m \u001b[0;34m\u001b[0m\u001b[0m\n",
            "\u001b[0;32m/usr/local/lib/python3.7/dist-packages/pandas/core/reshape/merge.py\u001b[0m in \u001b[0;36mmerge\u001b[0;34m(left, right, how, on, left_on, right_on, left_index, right_index, sort, suffixes, copy, indicator, validate)\u001b[0m\n\u001b[1;32m     85\u001b[0m         \u001b[0mcopy\u001b[0m\u001b[0;34m=\u001b[0m\u001b[0mcopy\u001b[0m\u001b[0;34m,\u001b[0m\u001b[0;34m\u001b[0m\u001b[0;34m\u001b[0m\u001b[0m\n\u001b[1;32m     86\u001b[0m         \u001b[0mindicator\u001b[0m\u001b[0;34m=\u001b[0m\u001b[0mindicator\u001b[0m\u001b[0;34m,\u001b[0m\u001b[0;34m\u001b[0m\u001b[0;34m\u001b[0m\u001b[0m\n\u001b[0;32m---> 87\u001b[0;31m         \u001b[0mvalidate\u001b[0m\u001b[0;34m=\u001b[0m\u001b[0mvalidate\u001b[0m\u001b[0;34m,\u001b[0m\u001b[0;34m\u001b[0m\u001b[0;34m\u001b[0m\u001b[0m\n\u001b[0m\u001b[1;32m     88\u001b[0m     )\n\u001b[1;32m     89\u001b[0m     \u001b[0;32mreturn\u001b[0m \u001b[0mop\u001b[0m\u001b[0;34m.\u001b[0m\u001b[0mget_result\u001b[0m\u001b[0;34m(\u001b[0m\u001b[0;34m)\u001b[0m\u001b[0;34m\u001b[0m\u001b[0;34m\u001b[0m\u001b[0m\n",
            "\u001b[0;32m/usr/local/lib/python3.7/dist-packages/pandas/core/reshape/merge.py\u001b[0m in \u001b[0;36m__init__\u001b[0;34m(self, left, right, how, on, left_on, right_on, axis, left_index, right_index, sort, suffixes, copy, indicator, validate)\u001b[0m\n\u001b[1;32m    660\u001b[0m         \u001b[0;31m# are in fact unique.\u001b[0m\u001b[0;34m\u001b[0m\u001b[0;34m\u001b[0m\u001b[0;34m\u001b[0m\u001b[0m\n\u001b[1;32m    661\u001b[0m         \u001b[0;32mif\u001b[0m \u001b[0mvalidate\u001b[0m \u001b[0;32mis\u001b[0m \u001b[0;32mnot\u001b[0m \u001b[0;32mNone\u001b[0m\u001b[0;34m:\u001b[0m\u001b[0;34m\u001b[0m\u001b[0;34m\u001b[0m\u001b[0m\n\u001b[0;32m--> 662\u001b[0;31m             \u001b[0mself\u001b[0m\u001b[0;34m.\u001b[0m\u001b[0m_validate\u001b[0m\u001b[0;34m(\u001b[0m\u001b[0mvalidate\u001b[0m\u001b[0;34m)\u001b[0m\u001b[0;34m\u001b[0m\u001b[0;34m\u001b[0m\u001b[0m\n\u001b[0m\u001b[1;32m    663\u001b[0m \u001b[0;34m\u001b[0m\u001b[0m\n\u001b[1;32m    664\u001b[0m     \u001b[0;32mdef\u001b[0m \u001b[0mget_result\u001b[0m\u001b[0;34m(\u001b[0m\u001b[0mself\u001b[0m\u001b[0;34m)\u001b[0m\u001b[0;34m:\u001b[0m\u001b[0;34m\u001b[0m\u001b[0;34m\u001b[0m\u001b[0m\n",
            "\u001b[0;32m/usr/local/lib/python3.7/dist-packages/pandas/core/reshape/merge.py\u001b[0m in \u001b[0;36m_validate\u001b[0;34m(self, validate)\u001b[0m\n\u001b[1;32m   1281\u001b[0m             \u001b[0;32melif\u001b[0m \u001b[0;32mnot\u001b[0m \u001b[0mright_unique\u001b[0m\u001b[0;34m:\u001b[0m\u001b[0;34m\u001b[0m\u001b[0;34m\u001b[0m\u001b[0m\n\u001b[1;32m   1282\u001b[0m                 raise MergeError(\n\u001b[0;32m-> 1283\u001b[0;31m                     \u001b[0;34m\"Merge keys are not unique in right dataset; not a one-to-one merge\"\u001b[0m\u001b[0;34m\u001b[0m\u001b[0;34m\u001b[0m\u001b[0m\n\u001b[0m\u001b[1;32m   1284\u001b[0m                 )\n\u001b[1;32m   1285\u001b[0m \u001b[0;34m\u001b[0m\u001b[0m\n",
            "\u001b[0;31mMergeError\u001b[0m: Merge keys are not unique in right dataset; not a one-to-one merge"
          ]
        }
      ]
    },
    {
      "cell_type": "code",
      "metadata": {
        "id": "WegXbgpr0sjV"
      },
      "source": [
        "regencies = match_sheet_to_wiki(sheet_regencies, wiki_regencies)\n",
        "missing = regencies[regencies['subregion2'].isnull()]\n",
        "missing"
      ],
      "execution_count": null,
      "outputs": []
    },
    {
      "cell_type": "code",
      "metadata": {
        "id": "FgHa2Y63jMrE"
      },
      "source": [
        "df = wiki_df.merge(sheet_df, how='left', right_on=['Kota_standardised', 'regiontype'], left_on=['place_standardised', 'regiontype']) \n",
        "missing = df[df['Kota'].isnull()]\n",
        "missing\n",
        "# len(missing)\n",
        "\n"
      ],
      "execution_count": null,
      "outputs": []
    },
    {
      "cell_type": "code",
      "metadata": {
        "id": "Vc_WicVHezRX"
      },
      "source": [
        "# Matching rows with subregions\n",
        "df = df.merge(provs, how='inner', left_on='subregion1Label', right_on='subregion1_name')\n",
        "df['key'] = df.apply(lambda r: str(r.key) + '_' + str(r[\"ID Kota\"]), axis=1)\n",
        "df = df[~df['Kota'].isnull() & ~df['key'].isnull()]\n",
        "cols = ['key', 'country_code', 'country_name', 'subregion1_code', 'subregion1_name', 'ID Kota', 'placeLabel']\n",
        "\n",
        "print(df[cols].to_csv())\n"
      ],
      "execution_count": null,
      "outputs": []
    }
  ]
}