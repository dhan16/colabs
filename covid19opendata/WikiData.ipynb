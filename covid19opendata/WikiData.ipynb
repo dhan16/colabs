{
  "nbformat": 4,
  "nbformat_minor": 0,
  "metadata": {
    "colab": {
      "name": "WikiData.ipynb",
      "provenance": [],
      "collapsed_sections": [],
      "include_colab_link": true
    },
    "kernelspec": {
      "name": "python3",
      "display_name": "Python 3"
    }
  },
  "cells": [
    {
      "cell_type": "markdown",
      "metadata": {
        "id": "view-in-github",
        "colab_type": "text"
      },
      "source": [
        "<a href=\"https://colab.research.google.com/github/dhan16/colabs/blob/master/covid19opendata/WikiData.ipynb\" target=\"_parent\"><img src=\"https://colab.research.google.com/assets/colab-badge.svg\" alt=\"Open In Colab\"/></a>"
      ]
    },
    {
      "cell_type": "markdown",
      "metadata": {
        "id": "PBPE7RREhexA"
      },
      "source": [
        "## WikiData"
      ]
    },
    {
      "cell_type": "code",
      "metadata": {
        "id": "UsXCiAFtToqX"
      },
      "source": [
        "# Sparql functions\n",
        "import requests\n",
        "import pandas as pd\n",
        "\n",
        "ENDPOINT = \"https://query.wikidata.org/sparql\"\n",
        "\n",
        "\n",
        "def wiki_data(sparql):\n",
        "  res = requests.get(ENDPOINT, params = {'format': 'json', 'query': sparql})\n",
        "  return res.json()\n",
        "\n",
        "\n",
        "def wikidata_to_dataframe(json):\n",
        "  results = json[\"results\"][\"bindings\"]\n",
        "  # column names we draw from the first result\n",
        "  cols = [ val for val in results[0] ]\n",
        "  rows = []\n",
        "  for result in results:\n",
        "      values = [ result[val][\"value\"] for val in result ]\n",
        "      rows.append(values)\n",
        "  return pd.DataFrame(rows, columns=cols)\n"
      ],
      "execution_count": 19,
      "outputs": []
    },
    {
      "cell_type": "code",
      "metadata": {
        "id": "peZ8W9AXTsgS",
        "colab": {
          "base_uri": "https://localhost:8080/",
          "height": 419
        },
        "outputId": "a9ff0024-cf31-4696-e0d4-2eeae748b7cf"
      },
      "source": [
        "sparql = \"\"\"\n",
        "SELECT ?place ?placeLabel ?class ?classLabel\n",
        "WHERE\n",
        "{\n",
        "  ?place wdt:P31/wdt:P279* wd:Q12479774.\n",
        "  ?place wdt:P31 ?class.\n",
        "  ?class wdt:P279 wd:Q12479774.\n",
        "  SERVICE wikibase:label {\n",
        "    bd:serviceParam wikibase:language \"en\" .\n",
        "  }\n",
        "}\n",
        "\"\"\"\n",
        "res = wiki_data(sparql)\n",
        "wiki_raw = wikidata_to_dataframe(res)\n",
        "wiki_raw\n",
        "# res"
      ],
      "execution_count": 26,
      "outputs": [
        {
          "output_type": "execute_result",
          "data": {
            "text/html": [
              "<div>\n",
              "<style scoped>\n",
              "    .dataframe tbody tr th:only-of-type {\n",
              "        vertical-align: middle;\n",
              "    }\n",
              "\n",
              "    .dataframe tbody tr th {\n",
              "        vertical-align: top;\n",
              "    }\n",
              "\n",
              "    .dataframe thead th {\n",
              "        text-align: right;\n",
              "    }\n",
              "</style>\n",
              "<table border=\"1\" class=\"dataframe\">\n",
              "  <thead>\n",
              "    <tr style=\"text-align: right;\">\n",
              "      <th></th>\n",
              "      <th>class</th>\n",
              "      <th>place</th>\n",
              "      <th>placeLabel</th>\n",
              "      <th>classLabel</th>\n",
              "    </tr>\n",
              "  </thead>\n",
              "  <tbody>\n",
              "    <tr>\n",
              "      <th>0</th>\n",
              "      <td>http://www.wikidata.org/entity/Q3191695</td>\n",
              "      <td>http://www.wikidata.org/entity/Q12488339</td>\n",
              "      <td>Banggai Laut</td>\n",
              "      <td>regency of Indonesia</td>\n",
              "    </tr>\n",
              "    <tr>\n",
              "      <th>1</th>\n",
              "      <td>http://www.wikidata.org/entity/Q3191695</td>\n",
              "      <td>http://www.wikidata.org/entity/Q11214749</td>\n",
              "      <td>Sidenreng Rappang</td>\n",
              "      <td>regency of Indonesia</td>\n",
              "    </tr>\n",
              "    <tr>\n",
              "      <th>2</th>\n",
              "      <td>http://www.wikidata.org/entity/Q3191695</td>\n",
              "      <td>http://www.wikidata.org/entity/Q4201892</td>\n",
              "      <td>Katingan</td>\n",
              "      <td>regency of Indonesia</td>\n",
              "    </tr>\n",
              "    <tr>\n",
              "      <th>3</th>\n",
              "      <td>http://www.wikidata.org/entity/Q3191695</td>\n",
              "      <td>http://www.wikidata.org/entity/Q4201768</td>\n",
              "      <td>Maluku Tengah</td>\n",
              "      <td>regency of Indonesia</td>\n",
              "    </tr>\n",
              "    <tr>\n",
              "      <th>4</th>\n",
              "      <td>http://www.wikidata.org/entity/Q3191695</td>\n",
              "      <td>http://www.wikidata.org/entity/Q14622</td>\n",
              "      <td>Sinjai</td>\n",
              "      <td>regency of Indonesia</td>\n",
              "    </tr>\n",
              "    <tr>\n",
              "      <th>...</th>\n",
              "      <td>...</td>\n",
              "      <td>...</td>\n",
              "      <td>...</td>\n",
              "      <td>...</td>\n",
              "    </tr>\n",
              "    <tr>\n",
              "      <th>512</th>\n",
              "      <td>http://www.wikidata.org/entity/Q3199141</td>\n",
              "      <td>http://www.wikidata.org/entity/Q7253</td>\n",
              "      <td>Padang</td>\n",
              "      <td>city of Indonesia</td>\n",
              "    </tr>\n",
              "    <tr>\n",
              "      <th>513</th>\n",
              "      <td>http://www.wikidata.org/entity/Q3199141</td>\n",
              "      <td>http://www.wikidata.org/entity/Q7248</td>\n",
              "      <td>Bukittinggi</td>\n",
              "      <td>city of Indonesia</td>\n",
              "    </tr>\n",
              "    <tr>\n",
              "      <th>514</th>\n",
              "      <td>http://www.wikidata.org/entity/Q3199141</td>\n",
              "      <td>http://www.wikidata.org/entity/Q5989</td>\n",
              "      <td>Tebing Tinggi</td>\n",
              "      <td>city of Indonesia</td>\n",
              "    </tr>\n",
              "    <tr>\n",
              "      <th>515</th>\n",
              "      <td>http://www.wikidata.org/entity/Q3199141</td>\n",
              "      <td>http://www.wikidata.org/entity/Q5987</td>\n",
              "      <td>Tanjungbalai</td>\n",
              "      <td>city of Indonesia</td>\n",
              "    </tr>\n",
              "    <tr>\n",
              "      <th>516</th>\n",
              "      <td>http://www.wikidata.org/entity/Q3199141</td>\n",
              "      <td>http://www.wikidata.org/entity/Q5984</td>\n",
              "      <td>Sibolga</td>\n",
              "      <td>city of Indonesia</td>\n",
              "    </tr>\n",
              "  </tbody>\n",
              "</table>\n",
              "<p>517 rows × 4 columns</p>\n",
              "</div>"
            ],
            "text/plain": [
              "                                       class  ...            classLabel\n",
              "0    http://www.wikidata.org/entity/Q3191695  ...  regency of Indonesia\n",
              "1    http://www.wikidata.org/entity/Q3191695  ...  regency of Indonesia\n",
              "2    http://www.wikidata.org/entity/Q3191695  ...  regency of Indonesia\n",
              "3    http://www.wikidata.org/entity/Q3191695  ...  regency of Indonesia\n",
              "4    http://www.wikidata.org/entity/Q3191695  ...  regency of Indonesia\n",
              "..                                       ...  ...                   ...\n",
              "512  http://www.wikidata.org/entity/Q3199141  ...     city of Indonesia\n",
              "513  http://www.wikidata.org/entity/Q3199141  ...     city of Indonesia\n",
              "514  http://www.wikidata.org/entity/Q3199141  ...     city of Indonesia\n",
              "515  http://www.wikidata.org/entity/Q3199141  ...     city of Indonesia\n",
              "516  http://www.wikidata.org/entity/Q3199141  ...     city of Indonesia\n",
              "\n",
              "[517 rows x 4 columns]"
            ]
          },
          "metadata": {
            "tags": []
          },
          "execution_count": 26
        }
      ]
    },
    {
      "cell_type": "code",
      "metadata": {
        "colab": {
          "base_uri": "https://localhost:8080/",
          "height": 419
        },
        "id": "wrj9TYOMjC-2",
        "outputId": "b9d7a1cf-3283-4e9c-8a44-89a495cbb9e4"
      },
      "source": [
        "wiki_raw.classLabel.unique()\n",
        "\n",
        "kabkota_to_regiontype = {\n",
        "    'regency of Indonesia' : 'Regency',\n",
        "    'administrative regency of Indonesia' : 'Regency',\n",
        "    'city of Indonesia': 'City',\n",
        "    'administrative city of Indonesia': 'City',\n",
        "}\n",
        "\n",
        "wiki_df = wiki_raw\n",
        "wiki_df['regiontype'] = wiki_df.apply(lambda r: kabkota_to_regiontype[r.classLabel], axis=1)\n",
        "wiki_df"
      ],
      "execution_count": 27,
      "outputs": [
        {
          "output_type": "execute_result",
          "data": {
            "text/html": [
              "<div>\n",
              "<style scoped>\n",
              "    .dataframe tbody tr th:only-of-type {\n",
              "        vertical-align: middle;\n",
              "    }\n",
              "\n",
              "    .dataframe tbody tr th {\n",
              "        vertical-align: top;\n",
              "    }\n",
              "\n",
              "    .dataframe thead th {\n",
              "        text-align: right;\n",
              "    }\n",
              "</style>\n",
              "<table border=\"1\" class=\"dataframe\">\n",
              "  <thead>\n",
              "    <tr style=\"text-align: right;\">\n",
              "      <th></th>\n",
              "      <th>class</th>\n",
              "      <th>place</th>\n",
              "      <th>placeLabel</th>\n",
              "      <th>classLabel</th>\n",
              "      <th>regiontype</th>\n",
              "    </tr>\n",
              "  </thead>\n",
              "  <tbody>\n",
              "    <tr>\n",
              "      <th>0</th>\n",
              "      <td>http://www.wikidata.org/entity/Q3191695</td>\n",
              "      <td>http://www.wikidata.org/entity/Q12488339</td>\n",
              "      <td>Banggai Laut</td>\n",
              "      <td>regency of Indonesia</td>\n",
              "      <td>Regency</td>\n",
              "    </tr>\n",
              "    <tr>\n",
              "      <th>1</th>\n",
              "      <td>http://www.wikidata.org/entity/Q3191695</td>\n",
              "      <td>http://www.wikidata.org/entity/Q11214749</td>\n",
              "      <td>Sidenreng Rappang</td>\n",
              "      <td>regency of Indonesia</td>\n",
              "      <td>Regency</td>\n",
              "    </tr>\n",
              "    <tr>\n",
              "      <th>2</th>\n",
              "      <td>http://www.wikidata.org/entity/Q3191695</td>\n",
              "      <td>http://www.wikidata.org/entity/Q4201892</td>\n",
              "      <td>Katingan</td>\n",
              "      <td>regency of Indonesia</td>\n",
              "      <td>Regency</td>\n",
              "    </tr>\n",
              "    <tr>\n",
              "      <th>3</th>\n",
              "      <td>http://www.wikidata.org/entity/Q3191695</td>\n",
              "      <td>http://www.wikidata.org/entity/Q4201768</td>\n",
              "      <td>Maluku Tengah</td>\n",
              "      <td>regency of Indonesia</td>\n",
              "      <td>Regency</td>\n",
              "    </tr>\n",
              "    <tr>\n",
              "      <th>4</th>\n",
              "      <td>http://www.wikidata.org/entity/Q3191695</td>\n",
              "      <td>http://www.wikidata.org/entity/Q14622</td>\n",
              "      <td>Sinjai</td>\n",
              "      <td>regency of Indonesia</td>\n",
              "      <td>Regency</td>\n",
              "    </tr>\n",
              "    <tr>\n",
              "      <th>...</th>\n",
              "      <td>...</td>\n",
              "      <td>...</td>\n",
              "      <td>...</td>\n",
              "      <td>...</td>\n",
              "      <td>...</td>\n",
              "    </tr>\n",
              "    <tr>\n",
              "      <th>512</th>\n",
              "      <td>http://www.wikidata.org/entity/Q3199141</td>\n",
              "      <td>http://www.wikidata.org/entity/Q7253</td>\n",
              "      <td>Padang</td>\n",
              "      <td>city of Indonesia</td>\n",
              "      <td>City</td>\n",
              "    </tr>\n",
              "    <tr>\n",
              "      <th>513</th>\n",
              "      <td>http://www.wikidata.org/entity/Q3199141</td>\n",
              "      <td>http://www.wikidata.org/entity/Q7248</td>\n",
              "      <td>Bukittinggi</td>\n",
              "      <td>city of Indonesia</td>\n",
              "      <td>City</td>\n",
              "    </tr>\n",
              "    <tr>\n",
              "      <th>514</th>\n",
              "      <td>http://www.wikidata.org/entity/Q3199141</td>\n",
              "      <td>http://www.wikidata.org/entity/Q5989</td>\n",
              "      <td>Tebing Tinggi</td>\n",
              "      <td>city of Indonesia</td>\n",
              "      <td>City</td>\n",
              "    </tr>\n",
              "    <tr>\n",
              "      <th>515</th>\n",
              "      <td>http://www.wikidata.org/entity/Q3199141</td>\n",
              "      <td>http://www.wikidata.org/entity/Q5987</td>\n",
              "      <td>Tanjungbalai</td>\n",
              "      <td>city of Indonesia</td>\n",
              "      <td>City</td>\n",
              "    </tr>\n",
              "    <tr>\n",
              "      <th>516</th>\n",
              "      <td>http://www.wikidata.org/entity/Q3199141</td>\n",
              "      <td>http://www.wikidata.org/entity/Q5984</td>\n",
              "      <td>Sibolga</td>\n",
              "      <td>city of Indonesia</td>\n",
              "      <td>City</td>\n",
              "    </tr>\n",
              "  </tbody>\n",
              "</table>\n",
              "<p>517 rows × 5 columns</p>\n",
              "</div>"
            ],
            "text/plain": [
              "                                       class  ... regiontype\n",
              "0    http://www.wikidata.org/entity/Q3191695  ...    Regency\n",
              "1    http://www.wikidata.org/entity/Q3191695  ...    Regency\n",
              "2    http://www.wikidata.org/entity/Q3191695  ...    Regency\n",
              "3    http://www.wikidata.org/entity/Q3191695  ...    Regency\n",
              "4    http://www.wikidata.org/entity/Q3191695  ...    Regency\n",
              "..                                       ...  ...        ...\n",
              "512  http://www.wikidata.org/entity/Q3199141  ...       City\n",
              "513  http://www.wikidata.org/entity/Q3199141  ...       City\n",
              "514  http://www.wikidata.org/entity/Q3199141  ...       City\n",
              "515  http://www.wikidata.org/entity/Q3199141  ...       City\n",
              "516  http://www.wikidata.org/entity/Q3199141  ...       City\n",
              "\n",
              "[517 rows x 5 columns]"
            ]
          },
          "metadata": {
            "tags": []
          },
          "execution_count": 27
        }
      ]
    },
    {
      "cell_type": "markdown",
      "metadata": {
        "id": "bKafJnbWhj4N"
      },
      "source": [
        "## Sheet"
      ]
    },
    {
      "cell_type": "code",
      "metadata": {
        "id": "eY-at9fDvEw2"
      },
      "source": [
        "!pip install --upgrade gspread"
      ],
      "execution_count": null,
      "outputs": []
    },
    {
      "cell_type": "code",
      "metadata": {
        "id": "5FfHayj5wQFf"
      },
      "source": [
        "from google.colab import auth\n",
        "auth.authenticate_user()\n",
        "import gspread\n",
        "from oauth2client.client import GoogleCredentials\n",
        "gc = gspread.authorize(GoogleCredentials.get_application_default())\n",
        "\n",
        "sheet_url = 'https://docs.google.com/spreadsheets/d/1FJJXiGuOb5nXrjJeV3QcHNhTo38YdcsTIFl29mWDIqI/edit#gid=2006070746'\n",
        "worksheet = gc.open_by_url(sheet_url).worksheet('Kode Kota')\n",
        "rows = worksheet.get_all_values()\n",
        "\n",
        "# Convert to a DataFrame and render.\n",
        "import pandas as pd\n",
        "sheet_raw = pd.DataFrame.from_records(rows[2:], columns=rows[1])\n"
      ],
      "execution_count": 28,
      "outputs": []
    },
    {
      "cell_type": "code",
      "metadata": {
        "id": "ADqs-dvZbKcK"
      },
      "source": [
        "sheet_df = sheet_raw\n",
        "\n",
        "kabkota_to_regiontype = {\n",
        "    'Kab.' : 'Regency', \n",
        "    'Kota': 'City', \n",
        "    'zTam' : 'zTam'\n",
        "}\n",
        "sheet_df['regiontype'] = sheet_df.apply(lambda r: kabkota_to_regiontype[r.KabKota], axis=1)\n",
        "\n",
        "spellings = {\n",
        "    'Labuhanbatu': 'Labuhan Batu',\n",
        "    'Batu Bara' : 'Batubara',\n",
        "    'Pematang Siantar' : 'Pematangsiantar',\n",
        "    'Tapanuli Tengah' : 'Central Tapanuli',\n",
        "    'Toba Samosir' : 'Toba Regency',\n",
        "}\n",
        "sheet_df['Kota_respelled'] = sheet_df.apply(lambda r: spellings.get(r.Kota, r.Kota), axis=1)\n",
        "# sheet_df"
      ],
      "execution_count": 43,
      "outputs": []
    },
    {
      "cell_type": "markdown",
      "metadata": {
        "id": "FFlIhVuxhoSw"
      },
      "source": [
        "## Sheet vs WikiData"
      ]
    },
    {
      "cell_type": "code",
      "metadata": {
        "id": "FgHa2Y63jMrE",
        "outputId": "d3e88d25-1c46-43a1-caba-1bdaf5db1b12",
        "colab": {
          "base_uri": "https://localhost:8080/"
        }
      },
      "source": [
        "# Find rows in wiki_df with no matches in sheet_df\n",
        "df = wiki_df.merge(sheet_df, how='left', right_on=['Kota_respelled', 'regiontype'], left_on=['placeLabel', 'regiontype']) \n",
        "missing = df[df['Kota'].isnull()]\n",
        "missing\n",
        "# len(missing)"
      ],
      "execution_count": 52,
      "outputs": [
        {
          "output_type": "execute_result",
          "data": {
            "text/plain": [
              "34"
            ]
          },
          "metadata": {
            "tags": []
          },
          "execution_count": 52
        }
      ]
    },
    {
      "cell_type": "code",
      "metadata": {
        "id": "e3093cpm0nRU",
        "colab": {
          "base_uri": "https://localhost:8080/"
        },
        "outputId": "e1efabd7-f5d5-439e-d16a-a45a91b97e2a"
      },
      "source": [
        "# Find rows in sheet_df with no matches in wiki_df\n",
        "df = sheet_df.merge(wiki_df, how='left', left_on=['Kota_respelled', 'regiontype'], right_on=['placeLabel', 'regiontype']) \n",
        "missing = df[df['placeLabel'].isnull() & ~df['KabKota'].isin(['zTam'])]\n",
        "missing\n",
        "# len(missing)"
      ],
      "execution_count": 53,
      "outputs": [
        {
          "output_type": "execute_result",
          "data": {
            "text/plain": [
              "31"
            ]
          },
          "metadata": {
            "tags": []
          },
          "execution_count": 53
        }
      ]
    }
  ]
}