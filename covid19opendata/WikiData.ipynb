{
  "nbformat": 4,
  "nbformat_minor": 0,
  "metadata": {
    "colab": {
      "name": "WikiData.ipynb",
      "provenance": [],
      "collapsed_sections": [],
      "include_colab_link": true
    },
    "kernelspec": {
      "name": "python3",
      "display_name": "Python 3"
    }
  },
  "cells": [
    {
      "cell_type": "markdown",
      "metadata": {
        "id": "view-in-github",
        "colab_type": "text"
      },
      "source": [
        "<a href=\"https://colab.research.google.com/github/dhan16/colabs/blob/master/covid19opendata/WikiData.ipynb\" target=\"_parent\"><img src=\"https://colab.research.google.com/assets/colab-badge.svg\" alt=\"Open In Colab\"/></a>"
      ]
    },
    {
      "cell_type": "markdown",
      "metadata": {
        "id": "N91-n9tcKs8W"
      },
      "source": [
        "## Setup"
      ]
    },
    {
      "cell_type": "code",
      "metadata": {
        "id": "UsXCiAFtToqX"
      },
      "source": [
        "\n",
        "import requests\n",
        "import pandas as pd\n",
        "\n",
        "ENDPOINT = \"https://query.wikidata.org/sparql\"\n",
        "\n",
        "def wikidata_to_dataframe(json):\n",
        "  results = json[\"results\"][\"bindings\"]\n",
        "  rows = []\n",
        "  for result in results:\n",
        "      values = [ result[val][\"value\"] for val in result ]\n",
        "      rows.append(values)\n",
        "  return pd.DataFrame(rows, columns=[val for val in results[0]])\n",
        "\n",
        "def wiki_data(sparql):\n",
        "  res = requests.get(ENDPOINT, params = {'format': 'json', 'query': sparql})\n",
        "  return wikidata_to_dataframe(res.json())"
      ],
      "execution_count": 211,
      "outputs": []
    },
    {
      "cell_type": "code",
      "metadata": {
        "id": "KMSZr6GRMl0r"
      },
      "source": [
        "!pip install --upgrade gspread"
      ],
      "execution_count": null,
      "outputs": []
    },
    {
      "cell_type": "markdown",
      "metadata": {
        "id": "tDCkMFzpKu2G"
      },
      "source": [
        "## Indonesia"
      ]
    },
    {
      "cell_type": "markdown",
      "metadata": {
        "id": "UOPcOxJeL5Tj"
      },
      "source": [
        "### Wikidata"
      ]
    },
    {
      "cell_type": "code",
      "metadata": {
        "id": "peZ8W9AXTsgS",
        "colab": {
          "base_uri": "https://localhost:8080/",
          "height": 419
        },
        "outputId": "d0b5250e-3b56-410f-901b-427b0c3e1785"
      },
      "source": [
        "# indonesia level2 areas\n",
        "# city=Q3199141,Q4272761 \n",
        "# regency = Q3191695, Q11127777\n",
        "sparql = \"\"\"\n",
        "SELECT ?place ?subregion1Label ?placeLabel ?class ?classLabel\n",
        "WHERE\n",
        "{\n",
        "  ?place wdt:P31 wd:Q3199141. # P31=instance of, P279=subclass of\n",
        "  ?place wdt:P131 ?subregion1. # P131=located in the administrative territorial entity\n",
        "  SERVICE wikibase:label {\n",
        "    bd:serviceParam wikibase:language \"en\" .\n",
        "  }\n",
        "}\n",
        "\"\"\"\n",
        "wiki_cities = wiki_data(sparql)\n",
        "\n",
        "sparql = \"\"\"\n",
        "SELECT ?place ?subregion1Label ?placeLabel ?class ?classLabel\n",
        "WHERE\n",
        "{\n",
        "  ?place wdt:P31 wd:Q4272761. # P31=instance of, P279=subclass of\n",
        "  ?place wdt:P131 ?subregion1. # P131=located in the administrative territorial entity\n",
        "  SERVICE wikibase:label {\n",
        "    bd:serviceParam wikibase:language \"en\" .\n",
        "  }\n",
        "}\n",
        "\"\"\"\n",
        "wiki_cities1 = wiki_data(sparql)\n",
        "\n",
        "sparql = \"\"\"\n",
        "SELECT ?place ?subregion1Label ?placeLabel ?class ?classLabel\n",
        "WHERE\n",
        "{\n",
        "  ?place wdt:P31 wd:Q3191695. # P31=instance of, P279=subclass of\n",
        "  ?place wdt:P131 ?subregion1. # P131=located in the administrative territorial entity\n",
        "  SERVICE wikibase:label {\n",
        "    bd:serviceParam wikibase:language \"en\" .\n",
        "  }\n",
        "}\n",
        "\"\"\"\n",
        "wiki_regencies = wiki_data(sparql)\n",
        "sparql = \"\"\"\n",
        "SELECT ?place ?subregion1Label ?placeLabel ?class ?classLabel\n",
        "WHERE\n",
        "{\n",
        "  ?place wdt:P31 wd:Q11127777. # P31=instance of, P279=subclass of\n",
        "  ?place wdt:P131 ?subregion1. # P131=located in the administrative territorial entity\n",
        "  SERVICE wikibase:label {\n",
        "    bd:serviceParam wikibase:language \"en\" .\n",
        "  }\n",
        "}\n",
        "\"\"\"\n",
        "wiki_regencies1 = wiki_data(sparql)\n",
        "\n",
        "wiki_cities = pd.concat([wiki_cities, wiki_cities1])\n",
        "wiki_regencies = pd.concat([wiki_regencies, wiki_regencies1])\n",
        "wiki_cities\n",
        "# d = wiki_cities[wiki_cities.placeLabel]\n",
        "# d\n",
        "# wiki_regencies\n",
        "\n"
      ],
      "execution_count": 212,
      "outputs": [
        {
          "output_type": "execute_result",
          "data": {
            "text/html": [
              "<div>\n",
              "<style scoped>\n",
              "    .dataframe tbody tr th:only-of-type {\n",
              "        vertical-align: middle;\n",
              "    }\n",
              "\n",
              "    .dataframe tbody tr th {\n",
              "        vertical-align: top;\n",
              "    }\n",
              "\n",
              "    .dataframe thead th {\n",
              "        text-align: right;\n",
              "    }\n",
              "</style>\n",
              "<table border=\"1\" class=\"dataframe\">\n",
              "  <thead>\n",
              "    <tr style=\"text-align: right;\">\n",
              "      <th></th>\n",
              "      <th>place</th>\n",
              "      <th>subregion1Label</th>\n",
              "      <th>placeLabel</th>\n",
              "    </tr>\n",
              "  </thead>\n",
              "  <tbody>\n",
              "    <tr>\n",
              "      <th>0</th>\n",
              "      <td>http://www.wikidata.org/entity/Q18975</td>\n",
              "      <td>Maluku</td>\n",
              "      <td>Tual</td>\n",
              "    </tr>\n",
              "    <tr>\n",
              "      <th>1</th>\n",
              "      <td>http://www.wikidata.org/entity/Q19151</td>\n",
              "      <td>North Maluku</td>\n",
              "      <td>Ternate</td>\n",
              "    </tr>\n",
              "    <tr>\n",
              "      <th>2</th>\n",
              "      <td>http://www.wikidata.org/entity/Q19153</td>\n",
              "      <td>North Maluku</td>\n",
              "      <td>Tidore</td>\n",
              "    </tr>\n",
              "    <tr>\n",
              "      <th>3</th>\n",
              "      <td>http://www.wikidata.org/entity/Q26837</td>\n",
              "      <td>West Papua</td>\n",
              "      <td>Sorong</td>\n",
              "    </tr>\n",
              "    <tr>\n",
              "      <th>4</th>\n",
              "      <td>http://www.wikidata.org/entity/Q27860</td>\n",
              "      <td>Papua</td>\n",
              "      <td>Jayapura</td>\n",
              "    </tr>\n",
              "    <tr>\n",
              "      <th>...</th>\n",
              "      <td>...</td>\n",
              "      <td>...</td>\n",
              "      <td>...</td>\n",
              "    </tr>\n",
              "    <tr>\n",
              "      <th>0</th>\n",
              "      <td>http://www.wikidata.org/entity/Q10109</td>\n",
              "      <td>Jakarta</td>\n",
              "      <td>Central Jakarta</td>\n",
              "    </tr>\n",
              "    <tr>\n",
              "      <th>1</th>\n",
              "      <td>http://www.wikidata.org/entity/Q10111</td>\n",
              "      <td>Jakarta</td>\n",
              "      <td>East Jakarta</td>\n",
              "    </tr>\n",
              "    <tr>\n",
              "      <th>2</th>\n",
              "      <td>http://www.wikidata.org/entity/Q10113</td>\n",
              "      <td>Jakarta</td>\n",
              "      <td>North Jakarta</td>\n",
              "    </tr>\n",
              "    <tr>\n",
              "      <th>3</th>\n",
              "      <td>http://www.wikidata.org/entity/Q10114</td>\n",
              "      <td>Jakarta</td>\n",
              "      <td>South Jakarta</td>\n",
              "    </tr>\n",
              "    <tr>\n",
              "      <th>4</th>\n",
              "      <td>http://www.wikidata.org/entity/Q10116</td>\n",
              "      <td>Jakarta</td>\n",
              "      <td>West Jakarta</td>\n",
              "    </tr>\n",
              "  </tbody>\n",
              "</table>\n",
              "<p>110 rows × 3 columns</p>\n",
              "</div>"
            ],
            "text/plain": [
              "                                    place subregion1Label       placeLabel\n",
              "0   http://www.wikidata.org/entity/Q18975          Maluku             Tual\n",
              "1   http://www.wikidata.org/entity/Q19151    North Maluku          Ternate\n",
              "2   http://www.wikidata.org/entity/Q19153    North Maluku           Tidore\n",
              "3   http://www.wikidata.org/entity/Q26837      West Papua           Sorong\n",
              "4   http://www.wikidata.org/entity/Q27860           Papua         Jayapura\n",
              "..                                    ...             ...              ...\n",
              "0   http://www.wikidata.org/entity/Q10109         Jakarta  Central Jakarta\n",
              "1   http://www.wikidata.org/entity/Q10111         Jakarta     East Jakarta\n",
              "2   http://www.wikidata.org/entity/Q10113         Jakarta    North Jakarta\n",
              "3   http://www.wikidata.org/entity/Q10114         Jakarta    South Jakarta\n",
              "4   http://www.wikidata.org/entity/Q10116         Jakarta     West Jakarta\n",
              "\n",
              "[110 rows x 3 columns]"
            ]
          },
          "metadata": {
            "tags": []
          },
          "execution_count": 212
        }
      ]
    },
    {
      "cell_type": "markdown",
      "metadata": {
        "id": "LpdH3HPwL7ys"
      },
      "source": [
        "### OpenCovid"
      ]
    },
    {
      "cell_type": "code",
      "metadata": {
        "id": "N0eaeRRzZits"
      },
      "source": [
        "meta = pd.read_csv('https://raw.githubusercontent.com/GoogleCloudPlatform/covid-19-open-data/main/src/data/metadata.csv')\n",
        "meta = provs.query('(country_code == \"ID\")')\n",
        "# meta"
      ],
      "execution_count": 213,
      "outputs": []
    },
    {
      "cell_type": "code",
      "metadata": {
        "id": "mDv9xkiZDMtY"
      },
      "source": [
        " wiki_cities = wiki_cities.merge(meta, how='inner', left_on=['subregion1Label'], right_on=['subregion1_name']) \n",
        " wiki_regencies = wiki_regencies.merge(meta, how='inner', left_on=['subregion1Label'], right_on=['subregion1_name']) \n",
        " "
      ],
      "execution_count": 216,
      "outputs": []
    },
    {
      "cell_type": "code",
      "metadata": {
        "id": "e4sGQHzXEsnC",
        "outputId": "ccf0acfe-534a-49f3-aa7b-e42024639394",
        "colab": {
          "base_uri": "https://localhost:8080/",
          "height": 611
        }
      },
      "source": [
        "duplicate = wiki_cities[wiki_cities.duplicated('placeLabel', keep=False)] \n",
        "duplicate\n"
      ],
      "execution_count": 225,
      "outputs": [
        {
          "output_type": "execute_result",
          "data": {
            "text/html": [
              "<div>\n",
              "<style scoped>\n",
              "    .dataframe tbody tr th:only-of-type {\n",
              "        vertical-align: middle;\n",
              "    }\n",
              "\n",
              "    .dataframe tbody tr th {\n",
              "        vertical-align: top;\n",
              "    }\n",
              "\n",
              "    .dataframe thead th {\n",
              "        text-align: right;\n",
              "    }\n",
              "</style>\n",
              "<table border=\"1\" class=\"dataframe\">\n",
              "  <thead>\n",
              "    <tr style=\"text-align: right;\">\n",
              "      <th></th>\n",
              "      <th>place</th>\n",
              "      <th>subregion1Label</th>\n",
              "      <th>placeLabel</th>\n",
              "      <th>key</th>\n",
              "      <th>country_code</th>\n",
              "      <th>country_name</th>\n",
              "      <th>subregion1_code</th>\n",
              "      <th>subregion1_name</th>\n",
              "      <th>subregion2_code</th>\n",
              "      <th>subregion2_name</th>\n",
              "      <th>locality_code</th>\n",
              "      <th>locality_name</th>\n",
              "      <th>match_string</th>\n",
              "      <th>aggregate_report_offset</th>\n",
              "    </tr>\n",
              "  </thead>\n",
              "  <tbody>\n",
              "    <tr>\n",
              "      <th>36</th>\n",
              "      <td>http://www.wikidata.org/entity/Q10103</td>\n",
              "      <td>Riau</td>\n",
              "      <td>Batam</td>\n",
              "      <td>ID_RI</td>\n",
              "      <td>ID</td>\n",
              "      <td>Indonesia</td>\n",
              "      <td>RI</td>\n",
              "      <td>Riau</td>\n",
              "      <td>NaN</td>\n",
              "      <td>NaN</td>\n",
              "      <td>NaN</td>\n",
              "      <td>NaN</td>\n",
              "      <td>NaN</td>\n",
              "      <td>NaN</td>\n",
              "    </tr>\n",
              "    <tr>\n",
              "      <th>37</th>\n",
              "      <td>http://www.wikidata.org/entity/Q10104</td>\n",
              "      <td>Riau</td>\n",
              "      <td>Tanjung Pinang</td>\n",
              "      <td>ID_RI</td>\n",
              "      <td>ID</td>\n",
              "      <td>Indonesia</td>\n",
              "      <td>RI</td>\n",
              "      <td>Riau</td>\n",
              "      <td>NaN</td>\n",
              "      <td>NaN</td>\n",
              "      <td>NaN</td>\n",
              "      <td>NaN</td>\n",
              "      <td>NaN</td>\n",
              "      <td>NaN</td>\n",
              "    </tr>\n",
              "    <tr>\n",
              "      <th>38</th>\n",
              "      <td>http://www.wikidata.org/entity/Q8042</td>\n",
              "      <td>Bengkulu</td>\n",
              "      <td>Bengkulu</td>\n",
              "      <td>ID_BE</td>\n",
              "      <td>ID</td>\n",
              "      <td>Indonesia</td>\n",
              "      <td>BE</td>\n",
              "      <td>Bengkulu</td>\n",
              "      <td>NaN</td>\n",
              "      <td>NaN</td>\n",
              "      <td>NaN</td>\n",
              "      <td>NaN</td>\n",
              "      <td>NaN</td>\n",
              "      <td>NaN</td>\n",
              "    </tr>\n",
              "    <tr>\n",
              "      <th>39</th>\n",
              "      <td>http://www.wikidata.org/entity/Q8042</td>\n",
              "      <td>South Sumatra</td>\n",
              "      <td>Bengkulu</td>\n",
              "      <td>ID_SS</td>\n",
              "      <td>ID</td>\n",
              "      <td>Indonesia</td>\n",
              "      <td>SS</td>\n",
              "      <td>South Sumatra</td>\n",
              "      <td>NaN</td>\n",
              "      <td>NaN</td>\n",
              "      <td>NaN</td>\n",
              "      <td>NaN</td>\n",
              "      <td>Sumatera Selatan</td>\n",
              "      <td>NaN</td>\n",
              "    </tr>\n",
              "    <tr>\n",
              "      <th>44</th>\n",
              "      <td>http://www.wikidata.org/entity/Q8156</td>\n",
              "      <td>South Sumatra</td>\n",
              "      <td>Bandar Lampung</td>\n",
              "      <td>ID_SS</td>\n",
              "      <td>ID</td>\n",
              "      <td>Indonesia</td>\n",
              "      <td>SS</td>\n",
              "      <td>South Sumatra</td>\n",
              "      <td>NaN</td>\n",
              "      <td>NaN</td>\n",
              "      <td>NaN</td>\n",
              "      <td>NaN</td>\n",
              "      <td>Sumatera Selatan</td>\n",
              "      <td>NaN</td>\n",
              "    </tr>\n",
              "    <tr>\n",
              "      <th>45</th>\n",
              "      <td>http://www.wikidata.org/entity/Q8179</td>\n",
              "      <td>South Sumatra</td>\n",
              "      <td>Pangkal Pinang</td>\n",
              "      <td>ID_SS</td>\n",
              "      <td>ID</td>\n",
              "      <td>Indonesia</td>\n",
              "      <td>SS</td>\n",
              "      <td>South Sumatra</td>\n",
              "      <td>NaN</td>\n",
              "      <td>NaN</td>\n",
              "      <td>NaN</td>\n",
              "      <td>NaN</td>\n",
              "      <td>Sumatera Selatan</td>\n",
              "      <td>NaN</td>\n",
              "    </tr>\n",
              "    <tr>\n",
              "      <th>46</th>\n",
              "      <td>http://www.wikidata.org/entity/Q8156</td>\n",
              "      <td>Lampung</td>\n",
              "      <td>Bandar Lampung</td>\n",
              "      <td>ID_LA</td>\n",
              "      <td>ID</td>\n",
              "      <td>Indonesia</td>\n",
              "      <td>LA</td>\n",
              "      <td>Lampung</td>\n",
              "      <td>NaN</td>\n",
              "      <td>NaN</td>\n",
              "      <td>NaN</td>\n",
              "      <td>NaN</td>\n",
              "      <td>NaN</td>\n",
              "      <td>NaN</td>\n",
              "    </tr>\n",
              "    <tr>\n",
              "      <th>48</th>\n",
              "      <td>http://www.wikidata.org/entity/Q8179</td>\n",
              "      <td>Bangka Belitung Islands</td>\n",
              "      <td>Pangkal Pinang</td>\n",
              "      <td>ID_BB</td>\n",
              "      <td>ID</td>\n",
              "      <td>Indonesia</td>\n",
              "      <td>BB</td>\n",
              "      <td>Bangka Belitung Islands</td>\n",
              "      <td>NaN</td>\n",
              "      <td>NaN</td>\n",
              "      <td>NaN</td>\n",
              "      <td>NaN</td>\n",
              "      <td>Kepulauan Bangka Belitung</td>\n",
              "      <td>NaN</td>\n",
              "    </tr>\n",
              "    <tr>\n",
              "      <th>49</th>\n",
              "      <td>http://www.wikidata.org/entity/Q10103</td>\n",
              "      <td>Riau Islands</td>\n",
              "      <td>Batam</td>\n",
              "      <td>ID_KR</td>\n",
              "      <td>ID</td>\n",
              "      <td>Indonesia</td>\n",
              "      <td>KR</td>\n",
              "      <td>Riau Islands</td>\n",
              "      <td>NaN</td>\n",
              "      <td>NaN</td>\n",
              "      <td>NaN</td>\n",
              "      <td>NaN</td>\n",
              "      <td>Kepulauan Riau</td>\n",
              "      <td>NaN</td>\n",
              "    </tr>\n",
              "    <tr>\n",
              "      <th>50</th>\n",
              "      <td>http://www.wikidata.org/entity/Q10104</td>\n",
              "      <td>Riau Islands</td>\n",
              "      <td>Tanjung Pinang</td>\n",
              "      <td>ID_KR</td>\n",
              "      <td>ID</td>\n",
              "      <td>Indonesia</td>\n",
              "      <td>KR</td>\n",
              "      <td>Riau Islands</td>\n",
              "      <td>NaN</td>\n",
              "      <td>NaN</td>\n",
              "      <td>NaN</td>\n",
              "      <td>NaN</td>\n",
              "      <td>Kepulauan Riau</td>\n",
              "      <td>NaN</td>\n",
              "    </tr>\n",
              "    <tr>\n",
              "      <th>85</th>\n",
              "      <td>http://www.wikidata.org/entity/Q14501</td>\n",
              "      <td>East Kalimantan</td>\n",
              "      <td>Tarakan</td>\n",
              "      <td>ID_KI</td>\n",
              "      <td>ID</td>\n",
              "      <td>Indonesia</td>\n",
              "      <td>KI</td>\n",
              "      <td>East Kalimantan</td>\n",
              "      <td>NaN</td>\n",
              "      <td>NaN</td>\n",
              "      <td>NaN</td>\n",
              "      <td>NaN</td>\n",
              "      <td>Kalimantan Timur</td>\n",
              "      <td>NaN</td>\n",
              "    </tr>\n",
              "    <tr>\n",
              "      <th>86</th>\n",
              "      <td>http://www.wikidata.org/entity/Q14501</td>\n",
              "      <td>North Kalimantan</td>\n",
              "      <td>Tarakan</td>\n",
              "      <td>ID_KU</td>\n",
              "      <td>ID</td>\n",
              "      <td>Indonesia</td>\n",
              "      <td>KU</td>\n",
              "      <td>North Kalimantan</td>\n",
              "      <td>NaN</td>\n",
              "      <td>NaN</td>\n",
              "      <td>NaN</td>\n",
              "      <td>NaN</td>\n",
              "      <td>Kalimantan Utara</td>\n",
              "      <td>NaN</td>\n",
              "    </tr>\n",
              "  </tbody>\n",
              "</table>\n",
              "</div>"
            ],
            "text/plain": [
              "                                    place  ... aggregate_report_offset\n",
              "36  http://www.wikidata.org/entity/Q10103  ...                     NaN\n",
              "37  http://www.wikidata.org/entity/Q10104  ...                     NaN\n",
              "38   http://www.wikidata.org/entity/Q8042  ...                     NaN\n",
              "39   http://www.wikidata.org/entity/Q8042  ...                     NaN\n",
              "44   http://www.wikidata.org/entity/Q8156  ...                     NaN\n",
              "45   http://www.wikidata.org/entity/Q8179  ...                     NaN\n",
              "46   http://www.wikidata.org/entity/Q8156  ...                     NaN\n",
              "48   http://www.wikidata.org/entity/Q8179  ...                     NaN\n",
              "49  http://www.wikidata.org/entity/Q10103  ...                     NaN\n",
              "50  http://www.wikidata.org/entity/Q10104  ...                     NaN\n",
              "85  http://www.wikidata.org/entity/Q14501  ...                     NaN\n",
              "86  http://www.wikidata.org/entity/Q14501  ...                     NaN\n",
              "\n",
              "[12 rows x 14 columns]"
            ]
          },
          "metadata": {
            "tags": []
          },
          "execution_count": 225
        }
      ]
    },
    {
      "cell_type": "markdown",
      "metadata": {
        "id": "FFlIhVuxhoSw"
      },
      "source": [
        "### Translations"
      ]
    },
    {
      "cell_type": "code",
      "metadata": {
        "id": "kA0n3hB_sJod",
        "colab": {
          "base_uri": "https://localhost:8080/"
        },
        "outputId": "df066dab-f14f-44ce-b774-6b6e9737f82b"
      },
      "source": [
        "def indonesian_direction_to_english(place: str):\n",
        "  to_english = {\n",
        "      'Pusat': 'Central',\n",
        "      'Tengah' : 'Central',\n",
        "      'Utara' : 'North',\n",
        "      'Selatan' : 'South',\n",
        "      'Timur' : 'East',\n",
        "      'Barat' : 'West',\n",
        "  }\n",
        "  bits = place.split()\n",
        "  if len(bits) > 1:\n",
        "    for indo_dir, eng_dir in to_english.items():\n",
        "      # in indonesian the dir is at the end \n",
        "      if bits[-1] == indo_dir:\n",
        "        bits.pop()\n",
        "        bits.insert(0, eng_dir)\n",
        "        break\n",
        "  place = ' '.join(bits)\n",
        "  return place\n",
        "\n",
        "def indonesian_islands_to_english(place: str):\n",
        "  to_english = {\n",
        "      'Kepulauan' : 'Islands',\n",
        "      'Pulau' : 'Island',\n",
        "  }\n",
        "  bits = place.split()\n",
        "  bits = [to_english.get(b, b) for b in bits]\n",
        "  # in english, islands is at the end\n",
        "  if len(bits) > 1:\n",
        "    for eng in to_english.values():\n",
        "      # in indonesian the dir is at the end \n",
        "      if bits[0] == eng:\n",
        "        bits.pop(0)\n",
        "        bits.append(eng)\n",
        "        break\n",
        "  place = ' '.join(bits)\n",
        "  return place\n",
        "\n",
        "[\n",
        "  indonesian_direction_to_english('whatever Tengah'),\n",
        "  indonesian_islands_to_english('Kepulauan Tengah')\n",
        "]"
      ],
      "execution_count": 154,
      "outputs": [
        {
          "output_type": "execute_result",
          "data": {
            "text/plain": [
              "['Central whatever', 'Tengah Islands']"
            ]
          },
          "metadata": {
            "tags": []
          },
          "execution_count": 154
        }
      ]
    },
    {
      "cell_type": "code",
      "metadata": {
        "id": "wuGOXheJonAl",
        "colab": {
          "base_uri": "https://localhost:8080/"
        },
        "outputId": "5b41fe32-e253-4b4e-96d8-c2b19ddf9247"
      },
      "source": [
        "spellings = {\n",
        "    # cities\n",
        "    'Bau-Bau' : 'Baubau',\n",
        "    'Sungaipenuh' : 'Sungai Penuh',\n",
        "    'Palangka Raya' : 'Palangkaraya',\n",
        "    'Tidore Kepulauan' : 'Tidore', # https://www.wikidata.org/wiki/Q19153\n",
        "    'Lubuk Linggau' : 'Lubuklinggau', # https://www.wikidata.org/wiki/Q8129\n",
        "    'Pematang Siantar': 'Pematangsiantar', # https://www.wikidata.org/wiki/Q5979\n",
        "    'Tanjung Balai' : 'Tanjungbalai', # https://www.wikidata.org/wiki/Q5987\n",
        "    # regencies\n",
        "    'Kupang' : 'Kupang Regency', # https://www.wikidata.org/wiki/Q14141\n",
        "    'Toba Samosir' : 'Toba Regency', # https://www.wikidata.org/wiki/Q5911\n",
        "    'Tojo Una-Una' : 'Tojo Una Una',\n",
        "    'Toli-Toli': 'Tolitoli',\n",
        "    'Muko Muko': 'Mukomuko', # https://www.wikidata.org/wiki/Q8033\n",
        "    'Kepulauan Seribu' : 'Thousand Islands', # https://translate.google.com/?sl=id&tl=en&text=Kepulauan%20Seribu&op=translate\n",
        "    'Penajam Paser Utara' : 'Penajam North Paser',\n",
        "    'Pasangkayu (Mamuju Utara)': 'Pasangkayu', # https://en.wikipedia.org/wiki/Pasangkayu_Regency\n",
        "    'Labuhanbatu' : 'Labuhan Batu', # https://www.wikidata.org/wiki/Q5814\n",
        "    'Batu Bara': 'Batubara', # https://www.wikidata.org/wiki/Q5797\n",
        "    'Limapuluh Kota': 'Lima Puluh Kota', # https://www.wikidata.org/wiki/Q6032\n",
        "    'Batang Hari': 'Batanghari', # https://www.wikidata.org/wiki/Q7370\n",
        "    'Kepulauan Sangihe': 'Sangihe', # https://www.wikidata.org/wiki/Q15839\n",
        "    'Kepulauan Sitaro': 'Kepulauan Siau Tagulandang Biaro', # https://www.wikidata.org/wiki/Q15840\n",
        "}\n",
        "def translate_sheet_place_to_wikidata(place: str) -> str:\n",
        "  if place in spellings:\n",
        "    return spellings[place]\n",
        "  place = indonesian_direction_to_english(place)\n",
        "  place = indonesian_islands_to_english(place)\n",
        "  return place\n",
        "\n",
        "[\n",
        " translate_sheet_place_to_wikidata('Kepulauan Tengah'),\n",
        " translate_sheet_place_to_wikidata('Kepulauan Tenga'),\n",
        " translate_sheet_place_to_wikidata('Jakarta Barat'),\n",
        "] \n",
        " "
      ],
      "execution_count": 198,
      "outputs": [
        {
          "output_type": "execute_result",
          "data": {
            "text/plain": [
              "['Central Islands', 'Tenga Islands', 'West Jakarta']"
            ]
          },
          "metadata": {
            "tags": []
          },
          "execution_count": 198
        }
      ]
    },
    {
      "cell_type": "markdown",
      "metadata": {
        "id": "bKafJnbWhj4N"
      },
      "source": [
        "### Sheet"
      ]
    },
    {
      "cell_type": "code",
      "metadata": {
        "id": "5FfHayj5wQFf"
      },
      "source": [
        "from google.colab import auth\n",
        "auth.authenticate_user()\n",
        "import gspread\n",
        "from oauth2client.client import GoogleCredentials\n",
        "gc = gspread.authorize(GoogleCredentials.get_application_default())\n",
        "\n",
        "sheet_url = 'https://docs.google.com/spreadsheets/d/1FJJXiGuOb5nXrjJeV3QcHNhTo38YdcsTIFl29mWDIqI/edit#gid=2006070746'\n",
        "worksheet = gc.open_by_url(sheet_url).worksheet('Kode Kota')\n",
        "rows = worksheet.get_all_values()\n",
        "\n",
        "sheet_df = pd.DataFrame.from_records(rows[2:], columns=rows[1])\n",
        "sheet_cities = sheet_df[sheet_df.KabKota == 'Kota']\n",
        "sheet_regencies = sheet_df[sheet_df.KabKota == 'Kab.']\n",
        "# sheet_cities\n",
        "# sheet_regencies"
      ],
      "execution_count": 192,
      "outputs": []
    },
    {
      "cell_type": "code",
      "metadata": {
        "id": "e3093cpm0nRU",
        "colab": {
          "base_uri": "https://localhost:8080/",
          "height": 375
        },
        "outputId": "2d7ce459-e2af-4281-e257-4c9c603efdb8"
      },
      "source": [
        "# Match rows in sheet with rows in wiki\n",
        "def firstNotNull(l):\n",
        "  for item in l:\n",
        "    if not pd.isnull(item):\n",
        "      return item\n",
        "  return l[0]\n",
        "\n",
        "def match_sheet_to_wiki(sdf, wdf):\n",
        "  df = sdf.merge(wdf, how='left', left_on=['Kota'], right_on=['placeLabel'], validate=\"1:1\")\n",
        "  def kota_translated(r):\n",
        "    if not pd.isnull(r.placeLabel):\n",
        "      return None\n",
        "    else:\n",
        "      return translate_sheet_place_to_wikidata(r.Kota)\n",
        "  df['Kota_translated'] = df.apply(kota_translated, axis=1)\n",
        "  df = df.merge(wdf, how='left', left_on=['Kota_translated'], right_on=['placeLabel'], suffixes = [ None, '_y'], validate=\"1:1\") \n",
        "  df['subregion2'] = df.apply(lambda r: firstNotNull([r.placeLabel, r.placeLabel_y]), axis=1)\n",
        "  df['subregion1'] = df.apply(lambda r: firstNotNull([r.subregion1Label, r.subregion1Label_y]), axis=1)\n",
        "  # now join to meta\n",
        "  df = df.merge(meta, how='left', left_on=['subregion1'], right_on=['subregion1_name']) \n",
        "  return df\n",
        "\n",
        "cities = match_sheet_to_wiki(sheet_cities, wiki_cities)\n",
        "# missing = cities[cities['subregion2'].isnull()]\n",
        "missing = cities[cities['subregion1_code'].isnull()]\n",
        "missing"
      ],
      "execution_count": 218,
      "outputs": [
        {
          "output_type": "error",
          "ename": "MergeError",
          "evalue": "ignored",
          "traceback": [
            "\u001b[0;31m---------------------------------------------------------------------------\u001b[0m",
            "\u001b[0;31mMergeError\u001b[0m                                Traceback (most recent call last)",
            "\u001b[0;32m<ipython-input-218-8501478f9024>\u001b[0m in \u001b[0;36m<module>\u001b[0;34m()\u001b[0m\n\u001b[1;32m     21\u001b[0m   \u001b[0;32mreturn\u001b[0m \u001b[0mdf\u001b[0m\u001b[0;34m\u001b[0m\u001b[0;34m\u001b[0m\u001b[0m\n\u001b[1;32m     22\u001b[0m \u001b[0;34m\u001b[0m\u001b[0m\n\u001b[0;32m---> 23\u001b[0;31m \u001b[0mcities\u001b[0m \u001b[0;34m=\u001b[0m \u001b[0mmatch_sheet_to_wiki\u001b[0m\u001b[0;34m(\u001b[0m\u001b[0msheet_cities\u001b[0m\u001b[0;34m,\u001b[0m \u001b[0mwiki_cities\u001b[0m\u001b[0;34m)\u001b[0m\u001b[0;34m\u001b[0m\u001b[0;34m\u001b[0m\u001b[0m\n\u001b[0m\u001b[1;32m     24\u001b[0m \u001b[0;31m# missing = cities[cities['subregion2'].isnull()]\u001b[0m\u001b[0;34m\u001b[0m\u001b[0;34m\u001b[0m\u001b[0;34m\u001b[0m\u001b[0m\n\u001b[1;32m     25\u001b[0m \u001b[0mmissing\u001b[0m \u001b[0;34m=\u001b[0m \u001b[0mcities\u001b[0m\u001b[0;34m[\u001b[0m\u001b[0mcities\u001b[0m\u001b[0;34m[\u001b[0m\u001b[0;34m'subregion1_code'\u001b[0m\u001b[0;34m]\u001b[0m\u001b[0;34m.\u001b[0m\u001b[0misnull\u001b[0m\u001b[0;34m(\u001b[0m\u001b[0;34m)\u001b[0m\u001b[0;34m]\u001b[0m\u001b[0;34m\u001b[0m\u001b[0;34m\u001b[0m\u001b[0m\n",
            "\u001b[0;32m<ipython-input-218-8501478f9024>\u001b[0m in \u001b[0;36mmatch_sheet_to_wiki\u001b[0;34m(sdf, wdf)\u001b[0m\n\u001b[1;32m      7\u001b[0m \u001b[0;34m\u001b[0m\u001b[0m\n\u001b[1;32m      8\u001b[0m \u001b[0;32mdef\u001b[0m \u001b[0mmatch_sheet_to_wiki\u001b[0m\u001b[0;34m(\u001b[0m\u001b[0msdf\u001b[0m\u001b[0;34m,\u001b[0m \u001b[0mwdf\u001b[0m\u001b[0;34m)\u001b[0m\u001b[0;34m:\u001b[0m\u001b[0;34m\u001b[0m\u001b[0;34m\u001b[0m\u001b[0m\n\u001b[0;32m----> 9\u001b[0;31m   \u001b[0mdf\u001b[0m \u001b[0;34m=\u001b[0m \u001b[0msdf\u001b[0m\u001b[0;34m.\u001b[0m\u001b[0mmerge\u001b[0m\u001b[0;34m(\u001b[0m\u001b[0mwdf\u001b[0m\u001b[0;34m,\u001b[0m \u001b[0mhow\u001b[0m\u001b[0;34m=\u001b[0m\u001b[0;34m'left'\u001b[0m\u001b[0;34m,\u001b[0m \u001b[0mleft_on\u001b[0m\u001b[0;34m=\u001b[0m\u001b[0;34m[\u001b[0m\u001b[0;34m'Kota'\u001b[0m\u001b[0;34m]\u001b[0m\u001b[0;34m,\u001b[0m \u001b[0mright_on\u001b[0m\u001b[0;34m=\u001b[0m\u001b[0;34m[\u001b[0m\u001b[0;34m'placeLabel'\u001b[0m\u001b[0;34m]\u001b[0m\u001b[0;34m,\u001b[0m \u001b[0mvalidate\u001b[0m\u001b[0;34m=\u001b[0m\u001b[0;34m\"1:1\"\u001b[0m\u001b[0;34m)\u001b[0m\u001b[0;34m\u001b[0m\u001b[0;34m\u001b[0m\u001b[0m\n\u001b[0m\u001b[1;32m     10\u001b[0m   \u001b[0;32mdef\u001b[0m \u001b[0mkota_translated\u001b[0m\u001b[0;34m(\u001b[0m\u001b[0mr\u001b[0m\u001b[0;34m)\u001b[0m\u001b[0;34m:\u001b[0m\u001b[0;34m\u001b[0m\u001b[0;34m\u001b[0m\u001b[0m\n\u001b[1;32m     11\u001b[0m     \u001b[0;32mif\u001b[0m \u001b[0;32mnot\u001b[0m \u001b[0mpd\u001b[0m\u001b[0;34m.\u001b[0m\u001b[0misnull\u001b[0m\u001b[0;34m(\u001b[0m\u001b[0mr\u001b[0m\u001b[0;34m.\u001b[0m\u001b[0mplaceLabel\u001b[0m\u001b[0;34m)\u001b[0m\u001b[0;34m:\u001b[0m\u001b[0;34m\u001b[0m\u001b[0;34m\u001b[0m\u001b[0m\n",
            "\u001b[0;32m/usr/local/lib/python3.7/dist-packages/pandas/core/frame.py\u001b[0m in \u001b[0;36mmerge\u001b[0;34m(self, right, how, on, left_on, right_on, left_index, right_index, sort, suffixes, copy, indicator, validate)\u001b[0m\n\u001b[1;32m   7961\u001b[0m             \u001b[0mcopy\u001b[0m\u001b[0;34m=\u001b[0m\u001b[0mcopy\u001b[0m\u001b[0;34m,\u001b[0m\u001b[0;34m\u001b[0m\u001b[0;34m\u001b[0m\u001b[0m\n\u001b[1;32m   7962\u001b[0m             \u001b[0mindicator\u001b[0m\u001b[0;34m=\u001b[0m\u001b[0mindicator\u001b[0m\u001b[0;34m,\u001b[0m\u001b[0;34m\u001b[0m\u001b[0;34m\u001b[0m\u001b[0m\n\u001b[0;32m-> 7963\u001b[0;31m             \u001b[0mvalidate\u001b[0m\u001b[0;34m=\u001b[0m\u001b[0mvalidate\u001b[0m\u001b[0;34m,\u001b[0m\u001b[0;34m\u001b[0m\u001b[0;34m\u001b[0m\u001b[0m\n\u001b[0m\u001b[1;32m   7964\u001b[0m         )\n\u001b[1;32m   7965\u001b[0m \u001b[0;34m\u001b[0m\u001b[0m\n",
            "\u001b[0;32m/usr/local/lib/python3.7/dist-packages/pandas/core/reshape/merge.py\u001b[0m in \u001b[0;36mmerge\u001b[0;34m(left, right, how, on, left_on, right_on, left_index, right_index, sort, suffixes, copy, indicator, validate)\u001b[0m\n\u001b[1;32m     85\u001b[0m         \u001b[0mcopy\u001b[0m\u001b[0;34m=\u001b[0m\u001b[0mcopy\u001b[0m\u001b[0;34m,\u001b[0m\u001b[0;34m\u001b[0m\u001b[0;34m\u001b[0m\u001b[0m\n\u001b[1;32m     86\u001b[0m         \u001b[0mindicator\u001b[0m\u001b[0;34m=\u001b[0m\u001b[0mindicator\u001b[0m\u001b[0;34m,\u001b[0m\u001b[0;34m\u001b[0m\u001b[0;34m\u001b[0m\u001b[0m\n\u001b[0;32m---> 87\u001b[0;31m         \u001b[0mvalidate\u001b[0m\u001b[0;34m=\u001b[0m\u001b[0mvalidate\u001b[0m\u001b[0;34m,\u001b[0m\u001b[0;34m\u001b[0m\u001b[0;34m\u001b[0m\u001b[0m\n\u001b[0m\u001b[1;32m     88\u001b[0m     )\n\u001b[1;32m     89\u001b[0m     \u001b[0;32mreturn\u001b[0m \u001b[0mop\u001b[0m\u001b[0;34m.\u001b[0m\u001b[0mget_result\u001b[0m\u001b[0;34m(\u001b[0m\u001b[0;34m)\u001b[0m\u001b[0;34m\u001b[0m\u001b[0;34m\u001b[0m\u001b[0m\n",
            "\u001b[0;32m/usr/local/lib/python3.7/dist-packages/pandas/core/reshape/merge.py\u001b[0m in \u001b[0;36m__init__\u001b[0;34m(self, left, right, how, on, left_on, right_on, axis, left_index, right_index, sort, suffixes, copy, indicator, validate)\u001b[0m\n\u001b[1;32m    660\u001b[0m         \u001b[0;31m# are in fact unique.\u001b[0m\u001b[0;34m\u001b[0m\u001b[0;34m\u001b[0m\u001b[0;34m\u001b[0m\u001b[0m\n\u001b[1;32m    661\u001b[0m         \u001b[0;32mif\u001b[0m \u001b[0mvalidate\u001b[0m \u001b[0;32mis\u001b[0m \u001b[0;32mnot\u001b[0m \u001b[0;32mNone\u001b[0m\u001b[0;34m:\u001b[0m\u001b[0;34m\u001b[0m\u001b[0;34m\u001b[0m\u001b[0m\n\u001b[0;32m--> 662\u001b[0;31m             \u001b[0mself\u001b[0m\u001b[0;34m.\u001b[0m\u001b[0m_validate\u001b[0m\u001b[0;34m(\u001b[0m\u001b[0mvalidate\u001b[0m\u001b[0;34m)\u001b[0m\u001b[0;34m\u001b[0m\u001b[0;34m\u001b[0m\u001b[0m\n\u001b[0m\u001b[1;32m    663\u001b[0m \u001b[0;34m\u001b[0m\u001b[0m\n\u001b[1;32m    664\u001b[0m     \u001b[0;32mdef\u001b[0m \u001b[0mget_result\u001b[0m\u001b[0;34m(\u001b[0m\u001b[0mself\u001b[0m\u001b[0;34m)\u001b[0m\u001b[0;34m:\u001b[0m\u001b[0;34m\u001b[0m\u001b[0;34m\u001b[0m\u001b[0m\n",
            "\u001b[0;32m/usr/local/lib/python3.7/dist-packages/pandas/core/reshape/merge.py\u001b[0m in \u001b[0;36m_validate\u001b[0;34m(self, validate)\u001b[0m\n\u001b[1;32m   1281\u001b[0m             \u001b[0;32melif\u001b[0m \u001b[0;32mnot\u001b[0m \u001b[0mright_unique\u001b[0m\u001b[0;34m:\u001b[0m\u001b[0;34m\u001b[0m\u001b[0;34m\u001b[0m\u001b[0m\n\u001b[1;32m   1282\u001b[0m                 raise MergeError(\n\u001b[0;32m-> 1283\u001b[0;31m                     \u001b[0;34m\"Merge keys are not unique in right dataset; not a one-to-one merge\"\u001b[0m\u001b[0;34m\u001b[0m\u001b[0;34m\u001b[0m\u001b[0m\n\u001b[0m\u001b[1;32m   1284\u001b[0m                 )\n\u001b[1;32m   1285\u001b[0m \u001b[0;34m\u001b[0m\u001b[0m\n",
            "\u001b[0;31mMergeError\u001b[0m: Merge keys are not unique in right dataset; not a one-to-one merge"
          ]
        }
      ]
    },
    {
      "cell_type": "code",
      "metadata": {
        "colab": {
          "base_uri": "https://localhost:8080/",
          "height": 49
        },
        "id": "WegXbgpr0sjV",
        "outputId": "6e998ba8-37c0-4969-b018-c9dc9bfe9825"
      },
      "source": [
        "regencies = match_sheet_to_wiki(sheet_regencies, wiki_regencies)\n",
        "missing = regencies[regencies['subregion2'].isnull()]\n",
        "missing"
      ],
      "execution_count": 181,
      "outputs": [
        {
          "output_type": "execute_result",
          "data": {
            "text/html": [
              "<div>\n",
              "<style scoped>\n",
              "    .dataframe tbody tr th:only-of-type {\n",
              "        vertical-align: middle;\n",
              "    }\n",
              "\n",
              "    .dataframe tbody tr th {\n",
              "        vertical-align: top;\n",
              "    }\n",
              "\n",
              "    .dataframe thead th {\n",
              "        text-align: right;\n",
              "    }\n",
              "</style>\n",
              "<table border=\"1\" class=\"dataframe\">\n",
              "  <thead>\n",
              "    <tr style=\"text-align: right;\">\n",
              "      <th></th>\n",
              "      <th>ID Provinsi</th>\n",
              "      <th>Provinsi</th>\n",
              "      <th>ID Kota</th>\n",
              "      <th>KabKota</th>\n",
              "      <th>Kota</th>\n",
              "      <th>Kota_translated</th>\n",
              "      <th>place</th>\n",
              "      <th>subregion1Label</th>\n",
              "      <th>placeLabel</th>\n",
              "      <th>place_y</th>\n",
              "      <th>subregion1Label_y</th>\n",
              "      <th>placeLabel_y</th>\n",
              "      <th>subregion2</th>\n",
              "    </tr>\n",
              "  </thead>\n",
              "  <tbody>\n",
              "  </tbody>\n",
              "</table>\n",
              "</div>"
            ],
            "text/plain": [
              "Empty DataFrame\n",
              "Columns: [ID Provinsi, Provinsi, ID Kota, KabKota, Kota, Kota_translated, place, subregion1Label, placeLabel, place_y, subregion1Label_y, placeLabel_y, subregion2]\n",
              "Index: []"
            ]
          },
          "metadata": {
            "tags": []
          },
          "execution_count": 181
        }
      ]
    },
    {
      "cell_type": "code",
      "metadata": {
        "id": "FgHa2Y63jMrE"
      },
      "source": [
        "df = wiki_df.merge(sheet_df, how='left', right_on=['Kota_standardised', 'regiontype'], left_on=['place_standardised', 'regiontype']) \n",
        "missing = df[df['Kota'].isnull()]\n",
        "missing\n",
        "# len(missing)\n",
        "\n"
      ],
      "execution_count": null,
      "outputs": []
    },
    {
      "cell_type": "code",
      "metadata": {
        "id": "Vc_WicVHezRX"
      },
      "source": [
        "# Matching rows with subregions\n",
        "df = df.merge(provs, how='inner', left_on='subregion1Label', right_on='subregion1_name')\n",
        "df['key'] = df.apply(lambda r: str(r.key) + '_' + str(r[\"ID Kota\"]), axis=1)\n",
        "df = df[~df['Kota'].isnull() & ~df['key'].isnull()]\n",
        "cols = ['key', 'country_code', 'country_name', 'subregion1_code', 'subregion1_name', 'ID Kota', 'placeLabel']\n",
        "\n",
        "print(df[cols].to_csv())\n"
      ],
      "execution_count": null,
      "outputs": []
    }
  ]
}