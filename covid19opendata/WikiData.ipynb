{
  "nbformat": 4,
  "nbformat_minor": 0,
  "metadata": {
    "colab": {
      "name": "WikiData.ipynb",
      "provenance": [],
      "collapsed_sections": [],
      "include_colab_link": true
    },
    "kernelspec": {
      "name": "python3",
      "display_name": "Python 3"
    }
  },
  "cells": [
    {
      "cell_type": "markdown",
      "metadata": {
        "id": "view-in-github",
        "colab_type": "text"
      },
      "source": [
        "<a href=\"https://colab.research.google.com/github/dhan16/colabs/blob/master/covid19opendata/WikiData.ipynb\" target=\"_parent\"><img src=\"https://colab.research.google.com/assets/colab-badge.svg\" alt=\"Open In Colab\"/></a>"
      ]
    },
    {
      "cell_type": "markdown",
      "metadata": {
        "id": "N91-n9tcKs8W"
      },
      "source": [
        "## Setup"
      ]
    },
    {
      "cell_type": "code",
      "metadata": {
        "id": "UsXCiAFtToqX"
      },
      "source": [
        "\n",
        "import requests\n",
        "import pandas as pd\n",
        "\n",
        "ENDPOINT = \"https://query.wikidata.org/sparql\"\n",
        "\n",
        "def wikidata_to_dataframe(json):\n",
        "  results = json[\"results\"][\"bindings\"]\n",
        "  columns=[]\n",
        "  for result in results:\n",
        "    if len(result) > len(columns):\n",
        "      columns=[val for val in result]\n",
        "  rows = []\n",
        "  for result in results:\n",
        "    values = [result[c][\"value\"] if c in result else None for c in columns ]\n",
        "    rows.append(values)\n",
        "  return pd.DataFrame(rows, columns=columns)\n",
        "\n",
        "def wiki_data(sparql):\n",
        "  res = requests.get(ENDPOINT, params = {'format': 'json', 'query': sparql})\n",
        "  # print(res.json())\n",
        "  return wikidata_to_dataframe(res.json())"
      ],
      "execution_count": 1,
      "outputs": []
    },
    {
      "cell_type": "code",
      "metadata": {
        "colab": {
          "base_uri": "https://localhost:8080/"
        },
        "id": "KMSZr6GRMl0r",
        "outputId": "a2c59cf6-5cd0-4529-e8d0-8b0d6a3645ae"
      },
      "source": [
        "!pip install --upgrade gspread"
      ],
      "execution_count": 2,
      "outputs": [
        {
          "output_type": "stream",
          "text": [
            "Requirement already up-to-date: gspread in /usr/local/lib/python3.7/dist-packages (3.7.0)\n",
            "Requirement already satisfied, skipping upgrade: google-auth>=1.12.0 in /usr/local/lib/python3.7/dist-packages (from gspread) (1.27.1)\n",
            "Requirement already satisfied, skipping upgrade: google-auth-oauthlib>=0.4.1 in /usr/local/lib/python3.7/dist-packages (from gspread) (0.4.3)\n",
            "Requirement already satisfied, skipping upgrade: cachetools<5.0,>=2.0.0 in /usr/local/lib/python3.7/dist-packages (from google-auth>=1.12.0->gspread) (4.2.1)\n",
            "Requirement already satisfied, skipping upgrade: pyasn1-modules>=0.2.1 in /usr/local/lib/python3.7/dist-packages (from google-auth>=1.12.0->gspread) (0.2.8)\n",
            "Requirement already satisfied, skipping upgrade: setuptools>=40.3.0 in /usr/local/lib/python3.7/dist-packages (from google-auth>=1.12.0->gspread) (54.0.0)\n",
            "Requirement already satisfied, skipping upgrade: rsa<5,>=3.1.4; python_version >= \"3.6\" in /usr/local/lib/python3.7/dist-packages (from google-auth>=1.12.0->gspread) (4.7.2)\n",
            "Requirement already satisfied, skipping upgrade: six>=1.9.0 in /usr/local/lib/python3.7/dist-packages (from google-auth>=1.12.0->gspread) (1.15.0)\n",
            "Requirement already satisfied, skipping upgrade: requests-oauthlib>=0.7.0 in /usr/local/lib/python3.7/dist-packages (from google-auth-oauthlib>=0.4.1->gspread) (1.3.0)\n",
            "Requirement already satisfied, skipping upgrade: pyasn1<0.5.0,>=0.4.6 in /usr/local/lib/python3.7/dist-packages (from pyasn1-modules>=0.2.1->google-auth>=1.12.0->gspread) (0.4.8)\n",
            "Requirement already satisfied, skipping upgrade: requests>=2.0.0 in /usr/local/lib/python3.7/dist-packages (from requests-oauthlib>=0.7.0->google-auth-oauthlib>=0.4.1->gspread) (2.23.0)\n",
            "Requirement already satisfied, skipping upgrade: oauthlib>=3.0.0 in /usr/local/lib/python3.7/dist-packages (from requests-oauthlib>=0.7.0->google-auth-oauthlib>=0.4.1->gspread) (3.1.0)\n",
            "Requirement already satisfied, skipping upgrade: certifi>=2017.4.17 in /usr/local/lib/python3.7/dist-packages (from requests>=2.0.0->requests-oauthlib>=0.7.0->google-auth-oauthlib>=0.4.1->gspread) (2020.12.5)\n",
            "Requirement already satisfied, skipping upgrade: chardet<4,>=3.0.2 in /usr/local/lib/python3.7/dist-packages (from requests>=2.0.0->requests-oauthlib>=0.7.0->google-auth-oauthlib>=0.4.1->gspread) (3.0.4)\n",
            "Requirement already satisfied, skipping upgrade: idna<3,>=2.5 in /usr/local/lib/python3.7/dist-packages (from requests>=2.0.0->requests-oauthlib>=0.7.0->google-auth-oauthlib>=0.4.1->gspread) (2.10)\n",
            "Requirement already satisfied, skipping upgrade: urllib3!=1.25.0,!=1.25.1,<1.26,>=1.21.1 in /usr/local/lib/python3.7/dist-packages (from requests>=2.0.0->requests-oauthlib>=0.7.0->google-auth-oauthlib>=0.4.1->gspread) (1.24.3)\n"
          ],
          "name": "stdout"
        }
      ]
    },
    {
      "cell_type": "markdown",
      "metadata": {
        "id": "tDCkMFzpKu2G"
      },
      "source": [
        "## Indonesia"
      ]
    },
    {
      "cell_type": "markdown",
      "metadata": {
        "id": "UOPcOxJeL5Tj"
      },
      "source": [
        "### Wikidata"
      ]
    },
    {
      "cell_type": "code",
      "metadata": {
        "colab": {
          "base_uri": "https://localhost:8080/"
        },
        "id": "VJ86rLF1jgsO",
        "outputId": "1bf755d1-2714-4a3a-e660-635fb808481f"
      },
      "source": [
        "sparql = \"\"\"\n",
        "SELECT ?place ?subregion1Label ?placeLabel ?classLabel ?indonesia_admincode ?subregion1_endtime ?class_endtime\n",
        "WHERE\n",
        "{\n",
        "  ?place wdt:P31/wdt:P279* wd:Q12479774. # P31=instance of, P279=subclass of\n",
        "  ?place wdt:P131 ?subregion1. # P131=located in the administrative territorial entity\n",
        "  OPTIONAL { ?place p:P131 [ps:P131 ?subregion1; pq:P582 ?subregion1_endtime ]. }\n",
        "  ?place wdt:P2588 ?indonesia_admincode.\n",
        "  ?place wdt:P31 ?class.\n",
        "  OPTIONAL { ?place p:P31 [ps:P31 ?class; pq:P582 ?class_endtime ]. }\n",
        "  SERVICE wikibase:label {\n",
        "    bd:serviceParam wikibase:language \"en\" .\n",
        "  }\n",
        "}\n",
        "\"\"\"\n",
        "wiki_raw = wiki_data(sparql)\n",
        "wiki_raw\n",
        "len(wiki_raw)"
      ],
      "execution_count": 21,
      "outputs": [
        {
          "output_type": "execute_result",
          "data": {
            "text/plain": [
              "679"
            ]
          },
          "metadata": {
            "tags": []
          },
          "execution_count": 21
        }
      ]
    },
    {
      "cell_type": "code",
      "metadata": {
        "colab": {
          "base_uri": "https://localhost:8080/"
        },
        "id": "7lY80ttBnCZP",
        "outputId": "3d6c2949-45ea-41d6-c8dc-1daa6c392bde"
      },
      "source": [
        "def city_or_regency(classLabel: str) -> str:\n",
        "  classLabel = classLabel.lower()\n",
        "  if 'regency' in classLabel:\n",
        "    return 'regency'\n",
        "  elif 'city' in classLabel:\n",
        "    return 'city'\n",
        "  else:\n",
        "    return 'Other'\n",
        "\n",
        "wiki_df = wiki_raw.copy()\n",
        "wiki_df = wiki_df[wiki_df.apply(lambda r : r.subregion1_endtime is None and r.class_endtime is None, axis=1)]\n",
        "wiki_df['city_or_regency'] = wiki_df.apply(lambda r: city_or_regency(r.classLabel), axis=1)\n",
        "wiki_df = wiki_df.drop(['classLabel'], axis=1)\n",
        "wiki_df = wiki_df.drop_duplicates()\n",
        "\n",
        "wiki_df\n",
        "len(wiki_df)"
      ],
      "execution_count": 58,
      "outputs": [
        {
          "output_type": "execute_result",
          "data": {
            "text/plain": [
              "528"
            ]
          },
          "metadata": {
            "tags": []
          },
          "execution_count": 58
        }
      ]
    },
    {
      "cell_type": "code",
      "metadata": {
        "colab": {
          "base_uri": "https://localhost:8080/",
          "height": 49
        },
        "id": "WdsdAjLKM9Sw",
        "outputId": "309e8739-f13a-4893-fa96-345619851777"
      },
      "source": [
        "wiki_df = wiki_df[wiki_df.subregion1Label != 'Q28725381']\n",
        "duplicate = wiki_df[wiki_df.duplicated(['placeLabel', 'city_or_regency'], keep=False)] \n",
        "# len(duplicate)\n",
        "duplicate\n"
      ],
      "execution_count": 59,
      "outputs": [
        {
          "output_type": "execute_result",
          "data": {
            "text/html": [
              "<div>\n",
              "<style scoped>\n",
              "    .dataframe tbody tr th:only-of-type {\n",
              "        vertical-align: middle;\n",
              "    }\n",
              "\n",
              "    .dataframe tbody tr th {\n",
              "        vertical-align: top;\n",
              "    }\n",
              "\n",
              "    .dataframe thead th {\n",
              "        text-align: right;\n",
              "    }\n",
              "</style>\n",
              "<table border=\"1\" class=\"dataframe\">\n",
              "  <thead>\n",
              "    <tr style=\"text-align: right;\">\n",
              "      <th></th>\n",
              "      <th>place</th>\n",
              "      <th>class_endtime</th>\n",
              "      <th>indonesia_admincode</th>\n",
              "      <th>subregion1Label</th>\n",
              "      <th>placeLabel</th>\n",
              "      <th>subregion1_endtime</th>\n",
              "      <th>city_or_regency</th>\n",
              "    </tr>\n",
              "  </thead>\n",
              "  <tbody>\n",
              "  </tbody>\n",
              "</table>\n",
              "</div>"
            ],
            "text/plain": [
              "Empty DataFrame\n",
              "Columns: [place, class_endtime, indonesia_admincode, subregion1Label, placeLabel, subregion1_endtime, city_or_regency]\n",
              "Index: []"
            ]
          },
          "metadata": {
            "tags": []
          },
          "execution_count": 59
        }
      ]
    },
    {
      "cell_type": "markdown",
      "metadata": {
        "id": "LpdH3HPwL7ys"
      },
      "source": [
        "### OpenCovid"
      ]
    },
    {
      "cell_type": "code",
      "metadata": {
        "id": "N0eaeRRzZits"
      },
      "source": [
        "meta = pd.read_csv('https://raw.githubusercontent.com/GoogleCloudPlatform/covid-19-open-data/main/src/data/metadata.csv')\n",
        "meta = meta.query('(country_code == \"ID\")')\n",
        "# meta"
      ],
      "execution_count": 36,
      "outputs": []
    },
    {
      "cell_type": "code",
      "metadata": {
        "id": "mDv9xkiZDMtY"
      },
      "source": [
        "#  wiki_cities = wiki_cities.merge(meta, how='inner', left_on=['subregion1Label'], right_on=['subregion1_name']) \n",
        "#  wiki_regencies = wiki_regencies.merge(meta, how='inner', left_on=['subregion1Label'], right_on=['subregion1_name']) \n",
        " "
      ],
      "execution_count": 10,
      "outputs": []
    },
    {
      "cell_type": "markdown",
      "metadata": {
        "id": "FFlIhVuxhoSw"
      },
      "source": [
        "### Translations"
      ]
    },
    {
      "cell_type": "code",
      "metadata": {
        "id": "kA0n3hB_sJod",
        "colab": {
          "base_uri": "https://localhost:8080/"
        },
        "outputId": "70d623f4-6423-4425-d019-c745c3166334"
      },
      "source": [
        "def indonesian_direction_to_english(place: str):\n",
        "  to_english = {\n",
        "      'Pusat': 'Central',\n",
        "      'Tengah' : 'Central',\n",
        "      'Utara' : 'North',\n",
        "      'Selatan' : 'South',\n",
        "      'Timur' : 'East',\n",
        "      'Barat' : 'West',\n",
        "  }\n",
        "  bits = place.split()\n",
        "  if len(bits) > 1:\n",
        "    for indo_dir, eng_dir in to_english.items():\n",
        "      # in indonesian the dir is at the end \n",
        "      if bits[-1] == indo_dir:\n",
        "        bits.pop()\n",
        "        bits.insert(0, eng_dir)\n",
        "        break\n",
        "  place = ' '.join(bits)\n",
        "  return place\n",
        "\n",
        "def indonesian_islands_to_english(place: str):\n",
        "  to_english = {\n",
        "      'Kepulauan' : 'Islands',\n",
        "      'Pulau' : 'Island',\n",
        "  }\n",
        "  bits = place.split()\n",
        "  bits = [to_english.get(b, b) for b in bits]\n",
        "  # in english, islands is at the end\n",
        "  if len(bits) > 1:\n",
        "    for eng in to_english.values():\n",
        "      # in indonesian the dir is at the end \n",
        "      if bits[0] == eng:\n",
        "        bits.pop(0)\n",
        "        bits.append(eng)\n",
        "        break\n",
        "  place = ' '.join(bits)\n",
        "  return place\n",
        "\n",
        "[\n",
        "  indonesian_direction_to_english('whatever Tengah'),\n",
        "  indonesian_islands_to_english('Kepulauan Tengah')\n",
        "]"
      ],
      "execution_count": 37,
      "outputs": [
        {
          "output_type": "execute_result",
          "data": {
            "text/plain": [
              "['Central whatever', 'Tengah Islands']"
            ]
          },
          "metadata": {
            "tags": []
          },
          "execution_count": 37
        }
      ]
    },
    {
      "cell_type": "code",
      "metadata": {
        "id": "wuGOXheJonAl",
        "colab": {
          "base_uri": "https://localhost:8080/"
        },
        "outputId": "05f77bf4-3bb0-4243-9969-f92dde6e72cc"
      },
      "source": [
        "spellings = {\n",
        "    # cities\n",
        "    'Bau-Bau' : 'Baubau',\n",
        "    'Sungaipenuh' : 'Sungai Penuh',\n",
        "    'Palangka Raya' : 'Palangkaraya',\n",
        "    'Tidore Kepulauan' : 'Tidore', # https://www.wikidata.org/wiki/Q19153\n",
        "    'Lubuk Linggau' : 'Lubuklinggau', # https://www.wikidata.org/wiki/Q8129\n",
        "    'Pematang Siantar': 'Pematangsiantar', # https://www.wikidata.org/wiki/Q5979\n",
        "    'Tanjung Balai' : 'Tanjungbalai', # https://www.wikidata.org/wiki/Q5987\n",
        "    # regencies\n",
        "    'Kupang' : 'Kupang Regency', # https://www.wikidata.org/wiki/Q14141\n",
        "    'Toba Samosir' : 'Toba Regency', # https://www.wikidata.org/wiki/Q5911\n",
        "    'Tojo Una-Una' : 'Tojo Una Una',\n",
        "    'Toli-Toli': 'Tolitoli',\n",
        "    'Muko Muko': 'Mukomuko', # https://www.wikidata.org/wiki/Q8033\n",
        "    'Kepulauan Seribu' : 'Thousand Islands', # https://translate.google.com/?sl=id&tl=en&text=Kepulauan%20Seribu&op=translate\n",
        "    'Penajam Paser Utara' : 'Penajam North Paser',\n",
        "    'Pasangkayu (Mamuju Utara)': 'Pasangkayu', # https://en.wikipedia.org/wiki/Pasangkayu_Regency\n",
        "    'Labuhanbatu' : 'Labuhan Batu', # https://www.wikidata.org/wiki/Q5814\n",
        "    'Batu Bara': 'Batubara', # https://www.wikidata.org/wiki/Q5797\n",
        "    'Limapuluh Kota': 'Lima Puluh Kota', # https://www.wikidata.org/wiki/Q6032\n",
        "    'Batang Hari': 'Batanghari', # https://www.wikidata.org/wiki/Q7370\n",
        "    'Kepulauan Sangihe': 'Sangihe', # https://www.wikidata.org/wiki/Q15839\n",
        "    'Kepulauan Sitaro': 'Kepulauan Siau Tagulandang Biaro', # https://www.wikidata.org/wiki/Q15840\n",
        "}\n",
        "def translate_sheet_place_to_wikidata(place: str) -> str:\n",
        "  if place in spellings:\n",
        "    return spellings[place]\n",
        "  place = indonesian_direction_to_english(place)\n",
        "  place = indonesian_islands_to_english(place)\n",
        "  return place\n",
        "\n",
        "[\n",
        " translate_sheet_place_to_wikidata('Kepulauan Tengah'),\n",
        " translate_sheet_place_to_wikidata('Kepulauan Tenga'),\n",
        " translate_sheet_place_to_wikidata('Jakarta Barat'),\n",
        "] \n",
        " "
      ],
      "execution_count": 38,
      "outputs": [
        {
          "output_type": "execute_result",
          "data": {
            "text/plain": [
              "['Central Islands', 'Tenga Islands', 'West Jakarta']"
            ]
          },
          "metadata": {
            "tags": []
          },
          "execution_count": 38
        }
      ]
    },
    {
      "cell_type": "markdown",
      "metadata": {
        "id": "bKafJnbWhj4N"
      },
      "source": [
        "### Sheet"
      ]
    },
    {
      "cell_type": "code",
      "metadata": {
        "id": "5FfHayj5wQFf"
      },
      "source": [
        "from google.colab import auth\n",
        "auth.authenticate_user()\n",
        "import gspread\n",
        "from oauth2client.client import GoogleCredentials\n",
        "gc = gspread.authorize(GoogleCredentials.get_application_default())\n",
        "\n",
        "sheet_url = 'https://docs.google.com/spreadsheets/d/1FJJXiGuOb5nXrjJeV3QcHNhTo38YdcsTIFl29mWDIqI/edit#gid=2006070746'\n",
        "worksheet = gc.open_by_url(sheet_url).worksheet('Kode Kota')\n",
        "rows = worksheet.get_all_values()\n",
        "sheet_raw = pd.DataFrame.from_records(rows[2:], columns=rows[1])"
      ],
      "execution_count": 39,
      "outputs": []
    },
    {
      "cell_type": "code",
      "metadata": {
        "colab": {
          "base_uri": "https://localhost:8080/"
        },
        "id": "-F0mfV2ZPGiK",
        "outputId": "cc0dad22-67d1-4960-9eb6-344ccf6bdbcb"
      },
      "source": [
        "def city_or_regency(KabKota: str) -> str:\n",
        "  if KabKota == 'Kab.':\n",
        "    return 'regency'\n",
        "  elif KabKota == 'Kota':\n",
        "    return 'city'\n",
        "  else:\n",
        "    return KabKota\n",
        "\n",
        "sheet_df = sheet_raw.copy()\n",
        "sheet_df = sheet_df[sheet_df.KabKota != 'zTam']\n",
        "sheet_df['KabKota_eng'] = sheet_df.apply(lambda r: city_or_regency(r.KabKota), axis=1)\n",
        "[set(sheet_df.KabKota_eng), len(sheet_df) ]"
      ],
      "execution_count": 62,
      "outputs": [
        {
          "output_type": "execute_result",
          "data": {
            "text/plain": [
              "[{'city', 'regency'}, 514]"
            ]
          },
          "metadata": {
            "tags": []
          },
          "execution_count": 62
        }
      ]
    },
    {
      "cell_type": "code",
      "metadata": {
        "id": "e3093cpm0nRU",
        "colab": {
          "base_uri": "https://localhost:8080/",
          "height": 626
        },
        "outputId": "04ba12e7-aa33-4a78-a24a-c018928e87dc"
      },
      "source": [
        "# Match rows in sheet with rows in wiki\n",
        "sheet_df['Kota_translated'] = sheet_df.apply(lambda r: translate_sheet_place_to_wikidata(r.Kota), axis=1)\n",
        "df = sheet_df.merge(wiki_df, how='left', left_on=['KabKota_eng', 'Kota'], right_on=['city_or_regency','placeLabel'], validate=\"1:1\")\n",
        "\n",
        "df1 = df[~df['placeLabel'].isnull()]\n",
        "df2 = df[df['placeLabel'].isnull()]\n",
        "df2 = df2[list(sheet_df.columns)]\n",
        "df2 = df2.merge(wiki_df, how='left', left_on=['KabKota_eng', 'Kota_translated'], right_on=['city_or_regency','placeLabel'], validate=\"1:1\")\n",
        "df = pd.concat([df1, df2])\n",
        "\n",
        "df\n",
        "# missing = df[df['placeLabel'].isnull()]\n",
        "# missing\n",
        "# len(missing)"
      ],
      "execution_count": 74,
      "outputs": [
        {
          "output_type": "execute_result",
          "data": {
            "text/html": [
              "<div>\n",
              "<style scoped>\n",
              "    .dataframe tbody tr th:only-of-type {\n",
              "        vertical-align: middle;\n",
              "    }\n",
              "\n",
              "    .dataframe tbody tr th {\n",
              "        vertical-align: top;\n",
              "    }\n",
              "\n",
              "    .dataframe thead th {\n",
              "        text-align: right;\n",
              "    }\n",
              "</style>\n",
              "<table border=\"1\" class=\"dataframe\">\n",
              "  <thead>\n",
              "    <tr style=\"text-align: right;\">\n",
              "      <th></th>\n",
              "      <th>ID Provinsi</th>\n",
              "      <th>Provinsi</th>\n",
              "      <th>ID Kota</th>\n",
              "      <th>KabKota</th>\n",
              "      <th>Kota</th>\n",
              "      <th>KabKota_eng</th>\n",
              "      <th>Kota_translated</th>\n",
              "      <th>place</th>\n",
              "      <th>class_endtime</th>\n",
              "      <th>indonesia_admincode</th>\n",
              "      <th>subregion1Label</th>\n",
              "      <th>placeLabel</th>\n",
              "      <th>subregion1_endtime</th>\n",
              "      <th>city_or_regency</th>\n",
              "    </tr>\n",
              "  </thead>\n",
              "  <tbody>\n",
              "    <tr>\n",
              "      <th>0</th>\n",
              "      <td>1</td>\n",
              "      <td>Aceh (NAD)</td>\n",
              "      <td>258</td>\n",
              "      <td>Kab.</td>\n",
              "      <td>Aceh Barat</td>\n",
              "      <td>regency</td>\n",
              "      <td>West Aceh</td>\n",
              "      <td>http://www.wikidata.org/entity/Q5778</td>\n",
              "      <td>None</td>\n",
              "      <td>11.05</td>\n",
              "      <td>Aceh</td>\n",
              "      <td>Aceh Barat</td>\n",
              "      <td>None</td>\n",
              "      <td>regency</td>\n",
              "    </tr>\n",
              "    <tr>\n",
              "      <th>1</th>\n",
              "      <td>1</td>\n",
              "      <td>Aceh (NAD)</td>\n",
              "      <td>259</td>\n",
              "      <td>Kab.</td>\n",
              "      <td>Aceh Barat Daya</td>\n",
              "      <td>regency</td>\n",
              "      <td>Aceh Barat Daya</td>\n",
              "      <td>http://www.wikidata.org/entity/Q5775</td>\n",
              "      <td>None</td>\n",
              "      <td>11.12</td>\n",
              "      <td>Aceh</td>\n",
              "      <td>Aceh Barat Daya</td>\n",
              "      <td>None</td>\n",
              "      <td>regency</td>\n",
              "    </tr>\n",
              "    <tr>\n",
              "      <th>2</th>\n",
              "      <td>1</td>\n",
              "      <td>Aceh (NAD)</td>\n",
              "      <td>260</td>\n",
              "      <td>Kab.</td>\n",
              "      <td>Aceh Besar</td>\n",
              "      <td>regency</td>\n",
              "      <td>Aceh Besar</td>\n",
              "      <td>http://www.wikidata.org/entity/Q5662</td>\n",
              "      <td>None</td>\n",
              "      <td>11.06</td>\n",
              "      <td>Aceh</td>\n",
              "      <td>Aceh Besar</td>\n",
              "      <td>None</td>\n",
              "      <td>regency</td>\n",
              "    </tr>\n",
              "    <tr>\n",
              "      <th>3</th>\n",
              "      <td>1</td>\n",
              "      <td>Aceh (NAD)</td>\n",
              "      <td>261</td>\n",
              "      <td>Kab.</td>\n",
              "      <td>Aceh Jaya</td>\n",
              "      <td>regency</td>\n",
              "      <td>Aceh Jaya</td>\n",
              "      <td>http://www.wikidata.org/entity/Q5667</td>\n",
              "      <td>None</td>\n",
              "      <td>11.14</td>\n",
              "      <td>Aceh</td>\n",
              "      <td>Aceh Jaya</td>\n",
              "      <td>None</td>\n",
              "      <td>regency</td>\n",
              "    </tr>\n",
              "    <tr>\n",
              "      <th>4</th>\n",
              "      <td>1</td>\n",
              "      <td>Aceh (NAD)</td>\n",
              "      <td>262</td>\n",
              "      <td>Kab.</td>\n",
              "      <td>Aceh Selatan</td>\n",
              "      <td>regency</td>\n",
              "      <td>South Aceh</td>\n",
              "      <td>http://www.wikidata.org/entity/Q5759</td>\n",
              "      <td>None</td>\n",
              "      <td>11.01</td>\n",
              "      <td>Aceh</td>\n",
              "      <td>Aceh Selatan</td>\n",
              "      <td>None</td>\n",
              "      <td>regency</td>\n",
              "    </tr>\n",
              "    <tr>\n",
              "      <th>...</th>\n",
              "      <td>...</td>\n",
              "      <td>...</td>\n",
              "      <td>...</td>\n",
              "      <td>...</td>\n",
              "      <td>...</td>\n",
              "      <td>...</td>\n",
              "      <td>...</td>\n",
              "      <td>...</td>\n",
              "      <td>...</td>\n",
              "      <td>...</td>\n",
              "      <td>...</td>\n",
              "      <td>...</td>\n",
              "      <td>...</td>\n",
              "      <td>...</td>\n",
              "    </tr>\n",
              "    <tr>\n",
              "      <th>31</th>\n",
              "      <td>34</td>\n",
              "      <td>Sumatera Utara</td>\n",
              "      <td>472</td>\n",
              "      <td>Kab.</td>\n",
              "      <td>Labuhanbatu</td>\n",
              "      <td>regency</td>\n",
              "      <td>Labuhan Batu</td>\n",
              "      <td>http://www.wikidata.org/entity/Q5814</td>\n",
              "      <td>None</td>\n",
              "      <td>12.10</td>\n",
              "      <td>North Sumatra</td>\n",
              "      <td>Labuhan Batu</td>\n",
              "      <td>None</td>\n",
              "      <td>regency</td>\n",
              "    </tr>\n",
              "    <tr>\n",
              "      <th>32</th>\n",
              "      <td>34</td>\n",
              "      <td>Sumatera Utara</td>\n",
              "      <td>486</td>\n",
              "      <td>Kota</td>\n",
              "      <td>Pematang Siantar</td>\n",
              "      <td>city</td>\n",
              "      <td>Pematangsiantar</td>\n",
              "      <td>http://www.wikidata.org/entity/Q5979</td>\n",
              "      <td>None</td>\n",
              "      <td>12.72</td>\n",
              "      <td>North Sumatra</td>\n",
              "      <td>Pematangsiantar</td>\n",
              "      <td>None</td>\n",
              "      <td>city</td>\n",
              "    </tr>\n",
              "    <tr>\n",
              "      <th>33</th>\n",
              "      <td>34</td>\n",
              "      <td>Sumatera Utara</td>\n",
              "      <td>491</td>\n",
              "      <td>Kota</td>\n",
              "      <td>Tanjung Balai</td>\n",
              "      <td>city</td>\n",
              "      <td>Tanjungbalai</td>\n",
              "      <td>http://www.wikidata.org/entity/Q5987</td>\n",
              "      <td>None</td>\n",
              "      <td>12.74</td>\n",
              "      <td>North Sumatra</td>\n",
              "      <td>Tanjungbalai</td>\n",
              "      <td>None</td>\n",
              "      <td>city</td>\n",
              "    </tr>\n",
              "    <tr>\n",
              "      <th>34</th>\n",
              "      <td>34</td>\n",
              "      <td>Sumatera Utara</td>\n",
              "      <td>493</td>\n",
              "      <td>Kab.</td>\n",
              "      <td>Tapanuli Tengah</td>\n",
              "      <td>regency</td>\n",
              "      <td>Central Tapanuli</td>\n",
              "      <td>http://www.wikidata.org/entity/Q5800</td>\n",
              "      <td>None</td>\n",
              "      <td>12.01</td>\n",
              "      <td>North Sumatra</td>\n",
              "      <td>Central Tapanuli</td>\n",
              "      <td>None</td>\n",
              "      <td>regency</td>\n",
              "    </tr>\n",
              "    <tr>\n",
              "      <th>35</th>\n",
              "      <td>34</td>\n",
              "      <td>Sumatera Utara</td>\n",
              "      <td>496</td>\n",
              "      <td>Kab.</td>\n",
              "      <td>Toba Samosir</td>\n",
              "      <td>regency</td>\n",
              "      <td>Toba Regency</td>\n",
              "      <td>http://www.wikidata.org/entity/Q5911</td>\n",
              "      <td>None</td>\n",
              "      <td>12.12</td>\n",
              "      <td>North Sumatra</td>\n",
              "      <td>Toba Regency</td>\n",
              "      <td>None</td>\n",
              "      <td>regency</td>\n",
              "    </tr>\n",
              "  </tbody>\n",
              "</table>\n",
              "<p>514 rows × 14 columns</p>\n",
              "</div>"
            ],
            "text/plain": [
              "   ID Provinsi        Provinsi  ... subregion1_endtime city_or_regency\n",
              "0            1      Aceh (NAD)  ...               None         regency\n",
              "1            1      Aceh (NAD)  ...               None         regency\n",
              "2            1      Aceh (NAD)  ...               None         regency\n",
              "3            1      Aceh (NAD)  ...               None         regency\n",
              "4            1      Aceh (NAD)  ...               None         regency\n",
              "..         ...             ...  ...                ...             ...\n",
              "31          34  Sumatera Utara  ...               None         regency\n",
              "32          34  Sumatera Utara  ...               None            city\n",
              "33          34  Sumatera Utara  ...               None            city\n",
              "34          34  Sumatera Utara  ...               None         regency\n",
              "35          34  Sumatera Utara  ...               None         regency\n",
              "\n",
              "[514 rows x 14 columns]"
            ]
          },
          "metadata": {
            "tags": []
          },
          "execution_count": 74
        }
      ]
    },
    {
      "cell_type": "code",
      "metadata": {
        "id": "6Q_i9s1EX8ML",
        "outputId": "10b528fc-bd4c-483c-8a4d-64a52a7cd509",
        "colab": {
          "base_uri": "https://localhost:8080/",
          "height": 326
        }
      },
      "source": [
        "# merge with meta\n",
        "df = df.merge(meta, how='left', left_on=['subregion1Label'], right_on=['subregion1_name'])\n",
        "missing = df[df['subregion1_name'].isnull()]\n",
        "missing\n",
        "# len(missing)\n"
      ],
      "execution_count": 75,
      "outputs": [
        {
          "output_type": "execute_result",
          "data": {
            "text/html": [
              "<div>\n",
              "<style scoped>\n",
              "    .dataframe tbody tr th:only-of-type {\n",
              "        vertical-align: middle;\n",
              "    }\n",
              "\n",
              "    .dataframe tbody tr th {\n",
              "        vertical-align: top;\n",
              "    }\n",
              "\n",
              "    .dataframe thead th {\n",
              "        text-align: right;\n",
              "    }\n",
              "</style>\n",
              "<table border=\"1\" class=\"dataframe\">\n",
              "  <thead>\n",
              "    <tr style=\"text-align: right;\">\n",
              "      <th></th>\n",
              "      <th>ID Provinsi</th>\n",
              "      <th>Provinsi</th>\n",
              "      <th>ID Kota</th>\n",
              "      <th>KabKota</th>\n",
              "      <th>Kota</th>\n",
              "      <th>KabKota_eng</th>\n",
              "      <th>Kota_translated</th>\n",
              "      <th>place</th>\n",
              "      <th>class_endtime</th>\n",
              "      <th>indonesia_admincode</th>\n",
              "      <th>subregion1Label</th>\n",
              "      <th>placeLabel</th>\n",
              "      <th>subregion1_endtime</th>\n",
              "      <th>city_or_regency</th>\n",
              "      <th>key</th>\n",
              "      <th>country_code</th>\n",
              "      <th>country_name</th>\n",
              "      <th>subregion1_code</th>\n",
              "      <th>subregion1_name</th>\n",
              "      <th>subregion2_code</th>\n",
              "      <th>subregion2_name</th>\n",
              "      <th>locality_code</th>\n",
              "      <th>locality_name</th>\n",
              "      <th>match_string</th>\n",
              "      <th>aggregate_report_offset</th>\n",
              "    </tr>\n",
              "  </thead>\n",
              "  <tbody>\n",
              "    <tr>\n",
              "      <th>48</th>\n",
              "      <td>5</td>\n",
              "      <td>DI Yogyakarta</td>\n",
              "      <td>35</td>\n",
              "      <td>Kab.</td>\n",
              "      <td>Bantul</td>\n",
              "      <td>regency</td>\n",
              "      <td>Bantul</td>\n",
              "      <td>http://www.wikidata.org/entity/Q11477</td>\n",
              "      <td>None</td>\n",
              "      <td>34.02</td>\n",
              "      <td>Special Region of Yogyakarta</td>\n",
              "      <td>Bantul</td>\n",
              "      <td>None</td>\n",
              "      <td>regency</td>\n",
              "      <td>NaN</td>\n",
              "      <td>NaN</td>\n",
              "      <td>NaN</td>\n",
              "      <td>NaN</td>\n",
              "      <td>NaN</td>\n",
              "      <td>NaN</td>\n",
              "      <td>NaN</td>\n",
              "      <td>NaN</td>\n",
              "      <td>NaN</td>\n",
              "      <td>NaN</td>\n",
              "      <td>NaN</td>\n",
              "    </tr>\n",
              "    <tr>\n",
              "      <th>49</th>\n",
              "      <td>5</td>\n",
              "      <td>DI Yogyakarta</td>\n",
              "      <td>36</td>\n",
              "      <td>Kab.</td>\n",
              "      <td>Gunung Kidul</td>\n",
              "      <td>regency</td>\n",
              "      <td>Gunung Kidul</td>\n",
              "      <td>http://www.wikidata.org/entity/Q11478</td>\n",
              "      <td>None</td>\n",
              "      <td>34.03</td>\n",
              "      <td>Special Region of Yogyakarta</td>\n",
              "      <td>Gunung Kidul</td>\n",
              "      <td>None</td>\n",
              "      <td>regency</td>\n",
              "      <td>NaN</td>\n",
              "      <td>NaN</td>\n",
              "      <td>NaN</td>\n",
              "      <td>NaN</td>\n",
              "      <td>NaN</td>\n",
              "      <td>NaN</td>\n",
              "      <td>NaN</td>\n",
              "      <td>NaN</td>\n",
              "      <td>NaN</td>\n",
              "      <td>NaN</td>\n",
              "      <td>NaN</td>\n",
              "    </tr>\n",
              "    <tr>\n",
              "      <th>50</th>\n",
              "      <td>5</td>\n",
              "      <td>DI Yogyakarta</td>\n",
              "      <td>37</td>\n",
              "      <td>Kab.</td>\n",
              "      <td>Kulon Progo</td>\n",
              "      <td>regency</td>\n",
              "      <td>Kulon Progo</td>\n",
              "      <td>http://www.wikidata.org/entity/Q11479</td>\n",
              "      <td>None</td>\n",
              "      <td>34.01</td>\n",
              "      <td>Special Region of Yogyakarta</td>\n",
              "      <td>Kulon Progo</td>\n",
              "      <td>None</td>\n",
              "      <td>regency</td>\n",
              "      <td>NaN</td>\n",
              "      <td>NaN</td>\n",
              "      <td>NaN</td>\n",
              "      <td>NaN</td>\n",
              "      <td>NaN</td>\n",
              "      <td>NaN</td>\n",
              "      <td>NaN</td>\n",
              "      <td>NaN</td>\n",
              "      <td>NaN</td>\n",
              "      <td>NaN</td>\n",
              "      <td>NaN</td>\n",
              "    </tr>\n",
              "    <tr>\n",
              "      <th>51</th>\n",
              "      <td>5</td>\n",
              "      <td>DI Yogyakarta</td>\n",
              "      <td>38</td>\n",
              "      <td>Kab.</td>\n",
              "      <td>Sleman</td>\n",
              "      <td>regency</td>\n",
              "      <td>Sleman</td>\n",
              "      <td>http://www.wikidata.org/entity/Q11480</td>\n",
              "      <td>None</td>\n",
              "      <td>34.04</td>\n",
              "      <td>Special Region of Yogyakarta</td>\n",
              "      <td>Sleman</td>\n",
              "      <td>None</td>\n",
              "      <td>regency</td>\n",
              "      <td>NaN</td>\n",
              "      <td>NaN</td>\n",
              "      <td>NaN</td>\n",
              "      <td>NaN</td>\n",
              "      <td>NaN</td>\n",
              "      <td>NaN</td>\n",
              "      <td>NaN</td>\n",
              "      <td>NaN</td>\n",
              "      <td>NaN</td>\n",
              "      <td>NaN</td>\n",
              "      <td>NaN</td>\n",
              "    </tr>\n",
              "    <tr>\n",
              "      <th>52</th>\n",
              "      <td>5</td>\n",
              "      <td>DI Yogyakarta</td>\n",
              "      <td>39</td>\n",
              "      <td>Kota</td>\n",
              "      <td>Yogyakarta</td>\n",
              "      <td>city</td>\n",
              "      <td>Yogyakarta</td>\n",
              "      <td>http://www.wikidata.org/entity/Q7568</td>\n",
              "      <td>None</td>\n",
              "      <td>34.71</td>\n",
              "      <td>Special Region of Yogyakarta</td>\n",
              "      <td>Yogyakarta</td>\n",
              "      <td>None</td>\n",
              "      <td>city</td>\n",
              "      <td>NaN</td>\n",
              "      <td>NaN</td>\n",
              "      <td>NaN</td>\n",
              "      <td>NaN</td>\n",
              "      <td>NaN</td>\n",
              "      <td>NaN</td>\n",
              "      <td>NaN</td>\n",
              "      <td>NaN</td>\n",
              "      <td>NaN</td>\n",
              "      <td>NaN</td>\n",
              "      <td>NaN</td>\n",
              "    </tr>\n",
              "  </tbody>\n",
              "</table>\n",
              "</div>"
            ],
            "text/plain": [
              "   ID Provinsi       Provinsi  ... match_string aggregate_report_offset\n",
              "48           5  DI Yogyakarta  ...          NaN                     NaN\n",
              "49           5  DI Yogyakarta  ...          NaN                     NaN\n",
              "50           5  DI Yogyakarta  ...          NaN                     NaN\n",
              "51           5  DI Yogyakarta  ...          NaN                     NaN\n",
              "52           5  DI Yogyakarta  ...          NaN                     NaN\n",
              "\n",
              "[5 rows x 25 columns]"
            ]
          },
          "metadata": {
            "tags": []
          },
          "execution_count": 75
        }
      ]
    },
    {
      "cell_type": "code",
      "metadata": {
        "id": "Vc_WicVHezRX"
      },
      "source": [
        "# Matching rows with subregions\n",
        "df = df.merge(provs, how='inner', left_on='subregion1Label', right_on='subregion1_name')\n",
        "df['key'] = df.apply(lambda r: str(r.key) + '_' + str(r[\"ID Kota\"]), axis=1)\n",
        "df = df[~df['Kota'].isnull() & ~df['key'].isnull()]\n",
        "cols = ['key', 'country_code', 'country_name', 'subregion1_code', 'subregion1_name', 'ID Kota', 'placeLabel']\n",
        "\n",
        "print(df[cols].to_csv())\n"
      ],
      "execution_count": null,
      "outputs": []
    }
  ]
}