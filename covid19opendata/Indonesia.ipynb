{
  "nbformat": 4,
  "nbformat_minor": 0,
  "metadata": {
    "colab": {
      "name": "WikiData.ipynb",
      "provenance": [],
      "collapsed_sections": [],
      "include_colab_link": true
    },
    "kernelspec": {
      "name": "python3",
      "display_name": "Python 3"
    }
  },
  "cells": [
    {
      "cell_type": "markdown",
      "metadata": {
        "id": "view-in-github",
        "colab_type": "text"
      },
      "source": [
        "<a href=\"https://colab.research.google.com/github/dhan16/colabs/blob/master/covid19opendata/Indonesia.ipynb\" target=\"_parent\"><img src=\"https://colab.research.google.com/assets/colab-badge.svg\" alt=\"Open In Colab\"/></a>"
      ]
    },
    {
      "cell_type": "markdown",
      "metadata": {
        "id": "N91-n9tcKs8W"
      },
      "source": [
        "### Setup"
      ]
    },
    {
      "cell_type": "code",
      "metadata": {
        "id": "UsXCiAFtToqX"
      },
      "source": [
        "import requests\n",
        "import pandas as pd\n",
        "\n",
        "ENDPOINT = \"https://query.wikidata.org/sparql\"\n",
        "\n",
        "def wikidata_to_dataframe(json):\n",
        "  results = json[\"results\"][\"bindings\"]\n",
        "  columns=[]\n",
        "  for result in results:\n",
        "    if len(result) > len(columns):\n",
        "      columns=[val for val in result]\n",
        "  rows = []\n",
        "  for result in results:\n",
        "    values = [result[c][\"value\"] if c in result else None for c in columns ]\n",
        "    rows.append(values)\n",
        "  return pd.DataFrame(rows, columns=columns)\n",
        "\n",
        "def wiki_data(sparql):\n",
        "  res = requests.get(ENDPOINT, params = {'format': 'json', 'query': sparql})\n",
        "  # print(res.json())\n",
        "  return wikidata_to_dataframe(res.json())"
      ],
      "execution_count": null,
      "outputs": []
    },
    {
      "cell_type": "code",
      "metadata": {
        "id": "KMSZr6GRMl0r"
      },
      "source": [
        "!pip install --upgrade gspread"
      ],
      "execution_count": null,
      "outputs": []
    },
    {
      "cell_type": "markdown",
      "metadata": {
        "id": "UOPcOxJeL5Tj"
      },
      "source": [
        "### Wikidata"
      ]
    },
    {
      "cell_type": "code",
      "metadata": {
        "id": "VJ86rLF1jgsO"
      },
      "source": [
        "sparql = \"\"\"\n",
        "SELECT ?place ?subregion1Label ?placeLabel ?classLabel ?indonesia_admincode ?subregion1_endtime ?class_endtime\n",
        "WHERE\n",
        "{\n",
        "  ?place wdt:P31/wdt:P279* wd:Q12479774. # P31=instance of, P279=subclass of\n",
        "  ?place wdt:P131 ?subregion1. # P131=located in the administrative territorial entity\n",
        "  OPTIONAL { ?place p:P131 [ps:P131 ?subregion1; pq:P582 ?subregion1_endtime ]. }\n",
        "  ?place wdt:P2588 ?indonesia_admincode.\n",
        "  ?place wdt:P31 ?class.\n",
        "  OPTIONAL { ?place p:P31 [ps:P31 ?class; pq:P582 ?class_endtime ]. }\n",
        "  SERVICE wikibase:label {\n",
        "    bd:serviceParam wikibase:language \"en\" .\n",
        "  }\n",
        "}\n",
        "\"\"\"\n",
        "wiki_raw = wiki_data(sparql)\n",
        "wiki_raw\n",
        "len(wiki_raw)"
      ],
      "execution_count": null,
      "outputs": []
    },
    {
      "cell_type": "code",
      "metadata": {
        "id": "7lY80ttBnCZP"
      },
      "source": [
        "def city_or_regency(classLabel: str) -> str:\n",
        "  classLabel = classLabel.lower()\n",
        "  if 'regency' in classLabel:\n",
        "    return 'regency'\n",
        "  elif 'city' in classLabel:\n",
        "    return 'city'\n",
        "  else:\n",
        "    return 'Other'\n",
        "\n",
        "wiki_df = wiki_raw.copy()\n",
        "wiki_df = wiki_df[wiki_df.apply(lambda r : r.subregion1_endtime is None and r.class_endtime is None, axis=1)]\n",
        "wiki_df['city_or_regency'] = wiki_df.apply(lambda r: city_or_regency(r.classLabel), axis=1)\n",
        "wiki_df = wiki_df.drop(['classLabel'], axis=1)\n",
        "wiki_df = wiki_df.drop_duplicates()\n",
        "\n",
        "wiki_df\n",
        "len(wiki_df)"
      ],
      "execution_count": null,
      "outputs": []
    },
    {
      "cell_type": "code",
      "metadata": {
        "id": "WdsdAjLKM9Sw"
      },
      "source": [
        "wiki_df = wiki_df[wiki_df.subregion1Label != 'Q28725381']\n",
        "duplicate = wiki_df[wiki_df.duplicated(['placeLabel', 'city_or_regency'], keep=False)] \n",
        "# len(duplicate)\n",
        "duplicate\n"
      ],
      "execution_count": null,
      "outputs": []
    },
    {
      "cell_type": "markdown",
      "metadata": {
        "id": "bKafJnbWhj4N"
      },
      "source": [
        "### Andrafarm Sheet"
      ]
    },
    {
      "cell_type": "code",
      "metadata": {
        "id": "5FfHayj5wQFf"
      },
      "source": [
        "from google.colab import auth\n",
        "auth.authenticate_user()\n",
        "import gspread\n",
        "from oauth2client.client import GoogleCredentials\n",
        "gc = gspread.authorize(GoogleCredentials.get_application_default())\n",
        "\n",
        "sheet_url = 'https://docs.google.com/spreadsheets/d/1FJJXiGuOb5nXrjJeV3QcHNhTo38YdcsTIFl29mWDIqI/edit#gid=2006070746'\n",
        "worksheet = gc.open_by_url(sheet_url).worksheet('Kode Kota')\n",
        "rows = worksheet.get_all_values()\n",
        "sheet_raw = pd.DataFrame.from_records(rows[2:], columns=rows[1])"
      ],
      "execution_count": null,
      "outputs": []
    },
    {
      "cell_type": "markdown",
      "metadata": {
        "id": "JnrflJrQIbqg"
      },
      "source": [
        "### Match Andrafarm to Wikidata"
      ]
    },
    {
      "cell_type": "code",
      "metadata": {
        "id": "kA0n3hB_sJod"
      },
      "source": [
        "def indonesian_direction_to_english(place: str):\n",
        "  to_english = {\n",
        "      'Pusat': 'Central',\n",
        "      'Tengah' : 'Central',\n",
        "      'Utara' : 'North',\n",
        "      'Selatan' : 'South',\n",
        "      'Timur' : 'East',\n",
        "      'Barat' : 'West',\n",
        "  }\n",
        "  bits = place.split()\n",
        "  if len(bits) > 1:\n",
        "    for indo_dir, eng_dir in to_english.items():\n",
        "      # in indonesian the dir is at the end \n",
        "      if bits[-1] == indo_dir:\n",
        "        bits.pop()\n",
        "        bits.insert(0, eng_dir)\n",
        "        break\n",
        "  place = ' '.join(bits)\n",
        "  return place\n",
        "\n",
        "def indonesian_islands_to_english(place: str):\n",
        "  to_english = {\n",
        "      'Kepulauan' : 'Islands',\n",
        "      'Pulau' : 'Island',\n",
        "  }\n",
        "  bits = place.split()\n",
        "  bits = [to_english.get(b, b) for b in bits]\n",
        "  # in english, islands is at the end\n",
        "  if len(bits) > 1:\n",
        "    for eng in to_english.values():\n",
        "      # in indonesian the dir is at the end \n",
        "      if bits[0] == eng:\n",
        "        bits.pop(0)\n",
        "        bits.append(eng)\n",
        "        break\n",
        "  place = ' '.join(bits)\n",
        "  return place\n",
        "\n",
        "[\n",
        "  indonesian_direction_to_english('whatever Tengah'),\n",
        "  indonesian_islands_to_english('Kepulauan Tengah')\n",
        "]"
      ],
      "execution_count": null,
      "outputs": []
    },
    {
      "cell_type": "code",
      "metadata": {
        "id": "wuGOXheJonAl"
      },
      "source": [
        "spellings = {\n",
        "    # cities\n",
        "    'Bau-Bau' : 'Baubau',\n",
        "    'Sungaipenuh' : 'Sungai Penuh',\n",
        "    'Palangka Raya' : 'Palangkaraya',\n",
        "    'Tidore Kepulauan' : 'Tidore', # https://www.wikidata.org/wiki/Q19153\n",
        "    'Lubuk Linggau' : 'Lubuklinggau', # https://www.wikidata.org/wiki/Q8129\n",
        "    'Pematang Siantar': 'Pematangsiantar', # https://www.wikidata.org/wiki/Q5979\n",
        "    'Tanjung Balai' : 'Tanjungbalai', # https://www.wikidata.org/wiki/Q5987\n",
        "    'Yogyakarta': 'Yogyakarta City',\n",
        "    # regencies\n",
        "    'Kupang' : 'Kupang Regency', # https://www.wikidata.org/wiki/Q14141\n",
        "    'Toba Samosir' : 'Toba Regency', # https://www.wikidata.org/wiki/Q5911\n",
        "    'Tojo Una-Una' : 'Tojo Una Una',\n",
        "    'Toli-Toli': 'Tolitoli',\n",
        "    'Muko Muko': 'Mukomuko', # https://www.wikidata.org/wiki/Q8033\n",
        "    'Kepulauan Seribu' : 'Thousand Islands', # https://translate.google.com/?sl=id&tl=en&text=Kepulauan%20Seribu&op=translate\n",
        "    'Penajam Paser Utara' : 'Penajam North Paser',\n",
        "    'Pasangkayu (Mamuju Utara)': 'Pasangkayu', # https://en.wikipedia.org/wiki/Pasangkayu_Regency\n",
        "    'Labuhanbatu' : 'Labuhan Batu', # https://www.wikidata.org/wiki/Q5814\n",
        "    'Batu Bara': 'Batubara', # https://www.wikidata.org/wiki/Q5797\n",
        "    'Limapuluh Kota': 'Lima Puluh Kota', # https://www.wikidata.org/wiki/Q6032\n",
        "    'Batang Hari': 'Batanghari', # https://www.wikidata.org/wiki/Q7370\n",
        "    'Kepulauan Sangihe': 'Sangihe', # https://www.wikidata.org/wiki/Q15839\n",
        "    'Kepulauan Sitaro': 'Kepulauan Siau Tagulandang Biaro', # https://www.wikidata.org/wiki/Q15840\n",
        "}\n",
        "def translate_sheet_place_to_wikidata(place: str) -> str:\n",
        "  if place in spellings:\n",
        "    return spellings[place]\n",
        "  place = indonesian_direction_to_english(place)\n",
        "  place = indonesian_islands_to_english(place)\n",
        "  return place\n",
        "\n",
        "[\n",
        " translate_sheet_place_to_wikidata('Kepulauan Tengah'),\n",
        " translate_sheet_place_to_wikidata('Kepulauan Tenga'),\n",
        " translate_sheet_place_to_wikidata('Jakarta Barat'),\n",
        "]"
      ],
      "execution_count": null,
      "outputs": []
    },
    {
      "cell_type": "code",
      "metadata": {
        "id": "-F0mfV2ZPGiK"
      },
      "source": [
        "# Match rows in sheet with rows in wiki\n",
        "def city_or_regency(KabKota: str) -> str:\n",
        "  if KabKota == 'Kab.':\n",
        "    return 'regency'\n",
        "  elif KabKota == 'Kota':\n",
        "    return 'city'\n",
        "  else:\n",
        "    return KabKota\n",
        "\n",
        "sheet_df = sheet_raw.copy()\n",
        "sheet_df = sheet_df[sheet_df.KabKota != 'zTam']\n",
        "sheet_df['KabKota_eng'] = sheet_df.apply(lambda r: city_or_regency(r.KabKota), axis=1)\n",
        "[set(sheet_df.KabKota_eng), len(sheet_df) ]\n",
        "\n",
        "\n",
        "sheet_df['Kota_translated'] = sheet_df.apply(lambda r: translate_sheet_place_to_wikidata(r.Kota), axis=1)\n",
        "\n",
        "# Join to Kota\n",
        "df = sheet_df.merge(wiki_df, how='left', left_on=['KabKota_eng', 'Kota'], right_on=['city_or_regency','placeLabel'], validate=\"1:1\")\n",
        "# For rows which didn't match on Kota, join on Kota_translated\n",
        "df1 = df[~df['placeLabel'].isnull()]\n",
        "df2 = df[df['placeLabel'].isnull()]\n",
        "df2 = df2[list(sheet_df.columns)]\n",
        "df2 = df2.merge(wiki_df, how='left', left_on=['KabKota_eng', 'Kota_translated'], right_on=['city_or_regency','placeLabel'], validate=\"1:1\")\n",
        "df = pd.concat([df1, df2])\n",
        "df.head()"
      ],
      "execution_count": null,
      "outputs": []
    },
    {
      "cell_type": "markdown",
      "metadata": {
        "id": "KjFNqdYJP4ji"
      },
      "source": [
        "### Covid19OpenData Metadat"
      ]
    },
    {
      "cell_type": "code",
      "metadata": {
        "id": "ResZ5OY-PqEq"
      },
      "source": [
        "meta = pd.read_csv('https://raw.githubusercontent.com/GoogleCloudPlatform/covid-19-open-data/main/src/data/metadata.csv')\n",
        "meta = meta.query('(country_code == \"ID\")')\n",
        "# meta\n",
        "len(meta)\n",
        "meta1 = meta[meta['subregion1_code'].notna() & meta['subregion2_code'].isna()]\n",
        "meta1\n",
        "len(meta1)"
      ],
      "execution_count": null,
      "outputs": []
    },
    {
      "cell_type": "markdown",
      "metadata": {
        "id": "JhAeATnAIhf0"
      },
      "source": [
        "### Match to Covid19OpenData"
      ]
    },
    {
      "cell_type": "code",
      "metadata": {
        "id": "6Q_i9s1EX8ML"
      },
      "source": [
        "def translate_wiki_subregion_to_metadata(place: str) -> str:\n",
        "  translations = {\n",
        "      'Special Region of Yogyakarta': 'Yogyakarta'\n",
        "  }\n",
        "  return translations.get(place, place)\n",
        "\n",
        "# merge with meta1\n",
        "df['subregion1_translated'] = df.apply(lambda r: translate_wiki_subregion_to_metadata(r.subregion1Label), axis=1)\n",
        "df = df.merge(meta1, how='left', left_on=['subregion1_translated'], right_on=['subregion1_name'])\n",
        "\n",
        "missing = df[df['subregion1_name'].isnull()]\n",
        "missing\n",
        "# len(missing)\n",
        "# df\n"
      ],
      "execution_count": null,
      "outputs": []
    },
    {
      "cell_type": "code",
      "metadata": {
        "id": "mOh0YVViQzYM"
      },
      "source": [
        "# add other columns for metadata.csv\n",
        "df['country_code'] = 'ID'\n",
        "df['country_name'] = 'Indonesia'\n",
        "df['subregion2_code'] = df.apply(lambda r: r.indonesia_admincode.replace('.', ''), axis=1)\n",
        "df['key'] = df.apply(lambda r: 'ID_' + r.subregion1_code + '_' + r.subregion2_code, axis=1)\n",
        "\n",
        "df['locality_code'] = None\n",
        "df['locality_name'] = None\n",
        "df['match_string'] = df.apply(lambda r: r.Kota if r.Kota != r.placeLabel else None, axis=1)\n",
        "df['aggregate_report_offset'] = None\n",
        "df.head()"
      ],
      "execution_count": null,
      "outputs": []
    },
    {
      "cell_type": "code",
      "metadata": {
        "id": "gbjLHIEJhAnf"
      },
      "source": [
        "# key to andrafarm id mapping\n",
        "df = df.sort_values(by=['key'])\n",
        "dictionary = dict(zip(list(df.subregion2_code), list(df['ID Kota'])))\n",
        "for key, value in dictionary.items():\n",
        "    print('  \"' + str(key) + '\": ' + str(value) + \",\")"
      ],
      "execution_count": null,
      "outputs": []
    },
    {
      "cell_type": "code",
      "metadata": {
        "id": "Urnm1vZX3Kek"
      },
      "source": [
        "# to add to metadata.csv\n",
        "cols = ['key', 'country_code', 'country_name', 'subregion1_code', 'subregion1_name', 'subregion2_code', 'placeLabel', 'locality_code', 'locality_name', 'match_string', 'aggregate_report_offset']\n",
        "df1 = df[cols]\n",
        "df = pd.concat([df1, meta1])\n",
        "df = df.sort_values(by=['key'])\n",
        "print(df[cols].to_csv(index=False, header=False))"
      ],
      "execution_count": null,
      "outputs": []
    }
  ]
}