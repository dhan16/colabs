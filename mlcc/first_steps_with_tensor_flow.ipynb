{
  "nbformat": 4,
  "nbformat_minor": 0,
  "metadata": {
    "colab": {
      "name": "first_steps_with_tensor_flow.ipynb",
      "version": "0.3.2",
      "provenance": [],
      "collapsed_sections": [
        "O1bKLpta_CLd",
        "cVSAJqV6_pUP",
        "26HFLpqz-Nio",
        "fZ6yy2-j-jix",
        "4Eaa_b8LB3ab",
        "wagN1ov1Dtbc"
      ],
      "include_colab_link": true
    },
    "kernelspec": {
      "name": "python3",
      "display_name": "Python 3"
    }
  },
  "cells": [
    {
      "cell_type": "markdown",
      "metadata": {
        "id": "view-in-github",
        "colab_type": "text"
      },
      "source": [
        "<a href=\"https://colab.research.google.com/github/dhan16/dry-ml/blob/master/mlcc/first_steps_with_tensor_flow.ipynb\" target=\"_parent\"><img src=\"https://colab.research.google.com/assets/colab-badge.svg\" alt=\"Open In Colab\"/></a>"
      ]
    },
    {
      "metadata": {
        "id": "O1bKLpta_CLd",
        "colab_type": "text"
      },
      "cell_type": "markdown",
      "source": [
        "### Setup"
      ]
    },
    {
      "metadata": {
        "id": "X1tTzgb0YMQd",
        "colab_type": "code",
        "colab": {}
      },
      "cell_type": "code",
      "source": [
        "from __future__ import print_function\n",
        "\n",
        "import math\n",
        "\n",
        "from IPython.display import display\n",
        "from matplotlib import cm\n",
        "from matplotlib import gridspec\n",
        "from matplotlib import pyplot as plt\n",
        "import numpy as np\n",
        "import pandas as pd\n",
        "from sklearn import metrics\n",
        "import tensorflow as tf\n",
        "from tensorflow.python.data import Dataset\n",
        "\n",
        "tf.logging.set_verbosity(tf.logging.ERROR)\n",
        "pd.options.display.max_rows = 10\n",
        "pd.options.display.float_format = '{:.1f}'.format\n",
        "\n",
        "raw_data = pd.read_csv(\"https://download.mlcc.google.com/mledu-datasets/california_housing_train.csv\", sep=\",\")\n",
        "df = raw_data\n",
        "df"
      ],
      "execution_count": 0,
      "outputs": []
    },
    {
      "metadata": {
        "id": "cVSAJqV6_pUP",
        "colab_type": "text"
      },
      "cell_type": "markdown",
      "source": [
        "### Data: preprocess and examine"
      ]
    },
    {
      "metadata": {
        "id": "26HFLpqz-Nio",
        "colab_type": "text"
      },
      "cell_type": "markdown",
      "source": [
        "##### Data: randomize, (drop duplicates?), preprocess features and targets"
      ]
    },
    {
      "metadata": {
        "id": "aUEDnvZlYeFg",
        "colab_type": "code",
        "colab": {}
      },
      "cell_type": "code",
      "source": [
        "# data: randomize, scale, examine\n",
        "def preprocess_features(df):\n",
        "  selected_features = df[\n",
        "    [\"latitude\",\n",
        "     \"longitude\",\n",
        "     \"housing_median_age\",\n",
        "     \"total_rooms\",\n",
        "     \"total_bedrooms\",\n",
        "     \"population\",\n",
        "     \"households\",\n",
        "     \"median_income\"]]\n",
        "  processed_features = selected_features.copy()\n",
        "  # dfnthetic feature.\n",
        "  processed_features[\"rooms_per_person\"] = (df[\"total_rooms\"] / df[\"population\"])\n",
        "  return processed_features\n",
        "\n",
        "def preprocess_targets(df):\n",
        "  output_targets = pd.DataFrame()\n",
        "  output_targets[\"median_house_value\"] = (df[\"median_house_value\"] / 1000.0)\n",
        "  return output_targets\n",
        "\n",
        "# drop duplicates?\n",
        "df = df.reindex(np.random.permutation(df.index))"
      ],
      "execution_count": 0,
      "outputs": []
    },
    {
      "metadata": {
        "id": "fZ6yy2-j-jix",
        "colab_type": "text"
      },
      "cell_type": "markdown",
      "source": [
        "##### Data: examine, visualize"
      ]
    },
    {
      "metadata": {
        "id": "e_4Ps5B2Ovvp",
        "colab_type": "code",
        "colab": {}
      },
      "cell_type": "code",
      "source": [
        "training_examples = preprocess_features(df.head(12000))\n",
        "training_targets = preprocess_targets(df.head(12000))\n",
        "\n",
        "validation_examples = preprocess_features(df.tail(5000))\n",
        "validation_targets = preprocess_targets(df.tail(5000))\n",
        "\n",
        "display(training_examples.describe())\n",
        "display(validation_examples.describe())\n",
        "display(training_targets.describe())\n",
        "display(validation_targets.describe())\n",
        "\n",
        "def print_min_max_diff(type_, targets):\n",
        "  max_target = targets.max()\n",
        "  min_target = targets.min()\n",
        "  print(type_, \" min: %0.3f\" % min_target, \" max: %0.3f\" % max_target, \" diff: %0.3f\" % (max_target - min_target))\n",
        "\n",
        "print_min_max_diff(\"training\", training_targets)\n",
        "print_min_max_diff(\"validation\", validation_targets)"
      ],
      "execution_count": 0,
      "outputs": []
    },
    {
      "metadata": {
        "id": "_T1XlyDZW3kx",
        "colab_type": "code",
        "colab": {}
      },
      "cell_type": "code",
      "source": [
        "def _subplot(ax, title, features_df, targets_df):\n",
        "  ax.set_title(title)\n",
        "  ax.set_autoscaley_on(False)\n",
        "  ax.set_ylim([32, 43])\n",
        "  ax.set_autoscalex_on(False)\n",
        "  ax.set_xlim([-126, -112])\n",
        "  plt.scatter(features_df[\"longitude\"],\n",
        "            features_df[\"latitude\"],\n",
        "            cmap=\"coolwarm\",\n",
        "            c=targets_df[\"median_house_value\"] / targets_df[\"median_house_value\"].max())\n",
        "\n",
        "plt.figure(figsize=(13, 8))\n",
        "_subplot(plt.subplot(1, 2, 1), 'Validation Data', validation_examples, validation_targets)\n",
        "_subplot(plt.subplot(1, 2, 2), 'Training Data', training_examples, training_targets)\n",
        "_ = plt.plot()"
      ],
      "execution_count": 0,
      "outputs": []
    },
    {
      "metadata": {
        "id": "IU3zoer0_w64",
        "colab_type": "text"
      },
      "cell_type": "markdown",
      "source": [
        "### Model"
      ]
    },
    {
      "metadata": {
        "id": "4Eaa_b8LB3ab",
        "colab_type": "text"
      },
      "cell_type": "markdown",
      "source": [
        "##### input, predict, train functions"
      ]
    },
    {
      "metadata": {
        "id": "reKvsUSjYnf0",
        "colab_type": "code",
        "colab": {}
      },
      "cell_type": "code",
      "source": [
        "def input_fn(features, targets, batch_size=1, shuffle=True, num_epochs=None):\n",
        "    \"\"\"Trains a linear regression model of multiple features.\n",
        "    Args:\n",
        "      features: pandas DataFrame of features\n",
        "      targets: pandas DataFrame of targets\n",
        "      batch_size: Size of batches to be passed to the model\n",
        "      shuffle: True or False. Whether to shuffle the data.\n",
        "      num_epochs: Number of epochs for which data should be repeated. None = repeat indefinitely\n",
        "    Returns:\n",
        "      Tuple of (features, labels) for next data batch\n",
        "    \"\"\"\n",
        "    # print(\"input_fn: batch_size:\", batch_size, \" shuffle:\", shuffle, \" num_epochs:\", num_epochs, \" features.shape:\", features.shape, \" targets.shape:\", targets.shape)\n",
        "    # Convert pandas data into a dict of np arrays.\n",
        "    features = {key:np.array(value) for key,value in dict(features).items()}                                           \n",
        "    # Construct a dataset, and configure batching/repeating.\n",
        "    ds = Dataset.from_tensor_slices((features,targets)) # warning: 2GB limit\n",
        "    ds = ds.batch(batch_size).repeat(num_epochs)\n",
        "    # Shuffle the data, if specified.\n",
        "    if shuffle:\n",
        "      ds = ds.shuffle(10000)\n",
        "    # Return the next batch of data.\n",
        "    features, labels = ds.make_one_shot_iterator().get_next()\n",
        "    return features, labels"
      ],
      "execution_count": 0,
      "outputs": []
    },
    {
      "metadata": {
        "id": "UXt0_4ZTEf4V",
        "colab_type": "code",
        "cellView": "both",
        "colab": {}
      },
      "cell_type": "code",
      "source": [
        "def predict(regressor, input_fn):\n",
        "  predictions = regressor.predict(input_fn=input_fn)\n",
        "  predictions = np.array([item['predictions'][0] for item in predictions])\n",
        "  return predictions\n",
        "\n",
        "def train_model(\n",
        "    learning_rate,\n",
        "    steps,\n",
        "    batch_size,\n",
        "    training_examples,\n",
        "    training_targets,\n",
        "    validation_examples,\n",
        "    validation_targets,\n",
        "    periods=10):\n",
        "  \"\"\"Trains a linear regression model of multiple features.\n",
        "  In addition to training, this function also prints training progress information,\n",
        "  as well as a plot of the training and validation loss over time.\n",
        "  Args:\n",
        "    learning_rate: A `float`, the learning rate.\n",
        "    steps: A non-zero `int`, the total number of training steps. A training step\n",
        "      consists of a forward and backward pass using a single batch.\n",
        "    batch_size: A non-zero `int`, the batch size.\n",
        "    training_examples: A `DataFrame` to use as input features for training.\n",
        "    training_targets: A `DataFrame` containing exactly one column to use as target for training.\n",
        "    validation_examples: A `DataFrame` containing input features for validation.\n",
        "    validation_targets: A `DataFrame` containing exactly one column to use as target for validation.\n",
        "  Returns:\n",
        "    A `LinearRegressor` object trained on the training data.\n",
        "  \"\"\"\n",
        "\n",
        "  steps_per_period = steps / periods\n",
        "  features=[c for c in training_examples]\n",
        "  targets=[c for c in training_targets]\n",
        "  # Create a linear regressor object.\n",
        "  optimizer = tf.train.GradientDescentOptimizer(learning_rate=learning_rate)\n",
        "  optimizer = tf.contrib.estimator.clip_gradients_by_norm(optimizer, 5.0)\n",
        "  regressor = tf.estimator.LinearRegressor(\n",
        "      feature_columns=[tf.feature_column.numeric_column(c) for c in features],\n",
        "      optimizer=optimizer\n",
        "  )\n",
        "  # 1. Create input functions.\n",
        "  training_input_fn = lambda:input_fn(training_examples, training_targets, batch_size=batch_size)\n",
        "  predict_training_input_fn = lambda: input_fn(training_examples, training_targets, num_epochs=1, shuffle=False)\n",
        "  predict_validation_input_fn = lambda: input_fn(validation_examples, validation_targets, num_epochs=1, shuffle=False)\n",
        "  \n",
        "  # Train the model, but do so inside a loop so that we can periodically assess\n",
        "  # loss metrics.\n",
        "  print(\"Training model with targets:\", targets, \"\\nfeatures:\", features)\n",
        "  training_rmse = []\n",
        "  validation_rmse = []\n",
        "  for period in range (0, periods):\n",
        "    # Train the model, starting from the prior state.\n",
        "    regressor.train(input_fn=training_input_fn, steps=steps_per_period)\n",
        "    # 2. Take a break and compute predictions.\n",
        "    training_predictions = predict(regressor, predict_training_input_fn)\n",
        "    validation_predictions = predict(regressor, predict_validation_input_fn)\n",
        "    \n",
        "    # Compute training and validation loss.\n",
        "    training_root_mean_squared_error = math.sqrt(\n",
        "        metrics.mean_squared_error(training_predictions, training_targets))\n",
        "    validation_root_mean_squared_error = math.sqrt(\n",
        "        metrics.mean_squared_error(validation_predictions, validation_targets))\n",
        "    # Occasionally print the current loss.\n",
        "    print(\"  period %02d, RMSE training: %0.2f, validation: %0.2f\" % (period, training_root_mean_squared_error, validation_root_mean_squared_error))\n",
        "    # Add the loss metrics from this period to our list.\n",
        "    training_rmse.append(training_root_mean_squared_error)\n",
        "    validation_rmse.append(validation_root_mean_squared_error)\n",
        "  print(\"Model training finished.\")\n",
        "\n",
        "  # Output a graph of loss metrics over periods.\n",
        "  plt.ylabel(\"RMSE\")\n",
        "  plt.xlabel(\"Periods\")\n",
        "  plt.title(\"Root Mean Squared Error vs. Periods\")\n",
        "  plt.tight_layout()\n",
        "  plt.plot(training_rmse, label=\"training\")\n",
        "  plt.plot(validation_rmse, label=\"validation\")\n",
        "  plt.legend()\n",
        "\n",
        "  return regressor"
      ],
      "execution_count": 0,
      "outputs": []
    },
    {
      "metadata": {
        "id": "EyHmFN_rCYxX",
        "colab_type": "text"
      },
      "cell_type": "markdown",
      "source": [
        "##### train with hyper parameters"
      ]
    },
    {
      "metadata": {
        "id": "PCqYGMtXCdXj",
        "colab_type": "code",
        "colab": {}
      },
      "cell_type": "code",
      "source": [
        "learning_rate=0.00002\n",
        "steps=500\n",
        "batch_size=1\n",
        "\n",
        "regressor=None\n",
        "def do_train():\n",
        "  global regressor\n",
        "  regressor = train_model(\n",
        "    learning_rate=learning_rate,\n",
        "    steps=steps,\n",
        "    batch_size=batch_size,\n",
        "    training_examples=training_examples,\n",
        "    training_targets=training_targets,\n",
        "    validation_examples=validation_examples,\n",
        "    validation_targets=validation_targets,\n",
        "    periods=1)\n",
        "\n",
        "import timeit\n",
        "timeit.timeit(do_train, number=1)"
      ],
      "execution_count": 0,
      "outputs": []
    },
    {
      "metadata": {
        "id": "wagN1ov1Dtbc",
        "colab_type": "text"
      },
      "cell_type": "markdown",
      "source": [
        "### Test model on test data"
      ]
    },
    {
      "metadata": {
        "id": "bDV0iX-P--P-",
        "colab_type": "code",
        "colab": {}
      },
      "cell_type": "code",
      "source": [
        "# test_data = df.sample(n=300)\n",
        "test_data = pd.read_csv(\"https://download.mlcc.google.com/mledu-datasets/california_housing_test.csv\", sep=\",\")\n",
        "test_examples = preprocess_features(test_data)\n",
        "test_input_fn = tf.estimator.inputs.pandas_input_fn(test_examples, shuffle=False)\n",
        "predictions = predict(regressor, test_input_fn)\n",
        "test_targets = preprocess_targets(test_data)\n",
        "test_root_mean_squared_error = math.sqrt(\n",
        "        metrics.mean_squared_error(predictions, test_targets))\n",
        "\n",
        "print(\"RMSE test: %0.2f\" % test_root_mean_squared_error)"
      ],
      "execution_count": 0,
      "outputs": []
    }
  ]
}